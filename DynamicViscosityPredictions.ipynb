{
  "nbformat": 4,
  "nbformat_minor": 0,
  "metadata": {
    "colab": {
      "provenance": [],
      "collapsed_sections": [
        "K7t4n_3jeyfq",
        "-0wT-rP3e6O9",
        "OYSXRCQbfSf_",
        "sqztOJnqgnBB",
        "Cv4Z6abrhDme",
        "xo33TydwhWlR",
        "ssel6j5EijJZ"
      ],
      "gpuType": "T4",
      "include_colab_link": true
    },
    "kernelspec": {
      "name": "python3",
      "display_name": "Python 3"
    },
    "language_info": {
      "name": "python"
    },
    "accelerator": "GPU",
    "widgets": {
      "application/vnd.jupyter.widget-state+json": {
        "2e9508f9241a4c59bab5dd4fa44ebc97": {
          "model_module": "@jupyter-widgets/controls",
          "model_name": "HBoxModel",
          "model_module_version": "1.5.0",
          "state": {
            "_dom_classes": [],
            "_model_module": "@jupyter-widgets/controls",
            "_model_module_version": "1.5.0",
            "_model_name": "HBoxModel",
            "_view_count": null,
            "_view_module": "@jupyter-widgets/controls",
            "_view_module_version": "1.5.0",
            "_view_name": "HBoxView",
            "box_style": "",
            "children": [
              "IPY_MODEL_3a5ea420d8bd469ca9f9a8bd26e540d6",
              "IPY_MODEL_fcdc11a80a6c40ff8b9bbd9c71a0bd5a",
              "IPY_MODEL_121aca5ad4a74d1882e71e3f82e05921"
            ],
            "layout": "IPY_MODEL_63e206887fe34779acfbb097d9e08e04"
          }
        },
        "3a5ea420d8bd469ca9f9a8bd26e540d6": {
          "model_module": "@jupyter-widgets/controls",
          "model_name": "HTMLModel",
          "model_module_version": "1.5.0",
          "state": {
            "_dom_classes": [],
            "_model_module": "@jupyter-widgets/controls",
            "_model_module_version": "1.5.0",
            "_model_name": "HTMLModel",
            "_view_count": null,
            "_view_module": "@jupyter-widgets/controls",
            "_view_module_version": "1.5.0",
            "_view_name": "HTMLView",
            "description": "",
            "description_tooltip": null,
            "layout": "IPY_MODEL_a02c0f150af94dd5ae9e4198f8c98035",
            "placeholder": "​",
            "style": "IPY_MODEL_77918a6c42f34f12a17a71fba715d727",
            "value": "100%"
          }
        },
        "fcdc11a80a6c40ff8b9bbd9c71a0bd5a": {
          "model_module": "@jupyter-widgets/controls",
          "model_name": "FloatProgressModel",
          "model_module_version": "1.5.0",
          "state": {
            "_dom_classes": [],
            "_model_module": "@jupyter-widgets/controls",
            "_model_module_version": "1.5.0",
            "_model_name": "FloatProgressModel",
            "_view_count": null,
            "_view_module": "@jupyter-widgets/controls",
            "_view_module_version": "1.5.0",
            "_view_name": "ProgressView",
            "bar_style": "success",
            "description": "",
            "description_tooltip": null,
            "layout": "IPY_MODEL_f12e67ec97b24383b5c5f7aea2d7e833",
            "max": 47534,
            "min": 0,
            "orientation": "horizontal",
            "style": "IPY_MODEL_ee2d6665800e41b6ad9b7a38f01b8084",
            "value": 47534
          }
        },
        "121aca5ad4a74d1882e71e3f82e05921": {
          "model_module": "@jupyter-widgets/controls",
          "model_name": "HTMLModel",
          "model_module_version": "1.5.0",
          "state": {
            "_dom_classes": [],
            "_model_module": "@jupyter-widgets/controls",
            "_model_module_version": "1.5.0",
            "_model_name": "HTMLModel",
            "_view_count": null,
            "_view_module": "@jupyter-widgets/controls",
            "_view_module_version": "1.5.0",
            "_view_name": "HTMLView",
            "description": "",
            "description_tooltip": null,
            "layout": "IPY_MODEL_0c4a97fb729548cbb7b4a56e014b1b37",
            "placeholder": "​",
            "style": "IPY_MODEL_2071606fc1b64d7d8087a0fd29549f3b",
            "value": " 47534/47534 [00:51&lt;00:00, 1276.33it/s]"
          }
        },
        "63e206887fe34779acfbb097d9e08e04": {
          "model_module": "@jupyter-widgets/base",
          "model_name": "LayoutModel",
          "model_module_version": "1.2.0",
          "state": {
            "_model_module": "@jupyter-widgets/base",
            "_model_module_version": "1.2.0",
            "_model_name": "LayoutModel",
            "_view_count": null,
            "_view_module": "@jupyter-widgets/base",
            "_view_module_version": "1.2.0",
            "_view_name": "LayoutView",
            "align_content": null,
            "align_items": null,
            "align_self": null,
            "border": null,
            "bottom": null,
            "display": null,
            "flex": null,
            "flex_flow": null,
            "grid_area": null,
            "grid_auto_columns": null,
            "grid_auto_flow": null,
            "grid_auto_rows": null,
            "grid_column": null,
            "grid_gap": null,
            "grid_row": null,
            "grid_template_areas": null,
            "grid_template_columns": null,
            "grid_template_rows": null,
            "height": null,
            "justify_content": null,
            "justify_items": null,
            "left": null,
            "margin": null,
            "max_height": null,
            "max_width": null,
            "min_height": null,
            "min_width": null,
            "object_fit": null,
            "object_position": null,
            "order": null,
            "overflow": null,
            "overflow_x": null,
            "overflow_y": null,
            "padding": null,
            "right": null,
            "top": null,
            "visibility": null,
            "width": null
          }
        },
        "a02c0f150af94dd5ae9e4198f8c98035": {
          "model_module": "@jupyter-widgets/base",
          "model_name": "LayoutModel",
          "model_module_version": "1.2.0",
          "state": {
            "_model_module": "@jupyter-widgets/base",
            "_model_module_version": "1.2.0",
            "_model_name": "LayoutModel",
            "_view_count": null,
            "_view_module": "@jupyter-widgets/base",
            "_view_module_version": "1.2.0",
            "_view_name": "LayoutView",
            "align_content": null,
            "align_items": null,
            "align_self": null,
            "border": null,
            "bottom": null,
            "display": null,
            "flex": null,
            "flex_flow": null,
            "grid_area": null,
            "grid_auto_columns": null,
            "grid_auto_flow": null,
            "grid_auto_rows": null,
            "grid_column": null,
            "grid_gap": null,
            "grid_row": null,
            "grid_template_areas": null,
            "grid_template_columns": null,
            "grid_template_rows": null,
            "height": null,
            "justify_content": null,
            "justify_items": null,
            "left": null,
            "margin": null,
            "max_height": null,
            "max_width": null,
            "min_height": null,
            "min_width": null,
            "object_fit": null,
            "object_position": null,
            "order": null,
            "overflow": null,
            "overflow_x": null,
            "overflow_y": null,
            "padding": null,
            "right": null,
            "top": null,
            "visibility": null,
            "width": null
          }
        },
        "77918a6c42f34f12a17a71fba715d727": {
          "model_module": "@jupyter-widgets/controls",
          "model_name": "DescriptionStyleModel",
          "model_module_version": "1.5.0",
          "state": {
            "_model_module": "@jupyter-widgets/controls",
            "_model_module_version": "1.5.0",
            "_model_name": "DescriptionStyleModel",
            "_view_count": null,
            "_view_module": "@jupyter-widgets/base",
            "_view_module_version": "1.2.0",
            "_view_name": "StyleView",
            "description_width": ""
          }
        },
        "f12e67ec97b24383b5c5f7aea2d7e833": {
          "model_module": "@jupyter-widgets/base",
          "model_name": "LayoutModel",
          "model_module_version": "1.2.0",
          "state": {
            "_model_module": "@jupyter-widgets/base",
            "_model_module_version": "1.2.0",
            "_model_name": "LayoutModel",
            "_view_count": null,
            "_view_module": "@jupyter-widgets/base",
            "_view_module_version": "1.2.0",
            "_view_name": "LayoutView",
            "align_content": null,
            "align_items": null,
            "align_self": null,
            "border": null,
            "bottom": null,
            "display": null,
            "flex": null,
            "flex_flow": null,
            "grid_area": null,
            "grid_auto_columns": null,
            "grid_auto_flow": null,
            "grid_auto_rows": null,
            "grid_column": null,
            "grid_gap": null,
            "grid_row": null,
            "grid_template_areas": null,
            "grid_template_columns": null,
            "grid_template_rows": null,
            "height": null,
            "justify_content": null,
            "justify_items": null,
            "left": null,
            "margin": null,
            "max_height": null,
            "max_width": null,
            "min_height": null,
            "min_width": null,
            "object_fit": null,
            "object_position": null,
            "order": null,
            "overflow": null,
            "overflow_x": null,
            "overflow_y": null,
            "padding": null,
            "right": null,
            "top": null,
            "visibility": null,
            "width": null
          }
        },
        "ee2d6665800e41b6ad9b7a38f01b8084": {
          "model_module": "@jupyter-widgets/controls",
          "model_name": "ProgressStyleModel",
          "model_module_version": "1.5.0",
          "state": {
            "_model_module": "@jupyter-widgets/controls",
            "_model_module_version": "1.5.0",
            "_model_name": "ProgressStyleModel",
            "_view_count": null,
            "_view_module": "@jupyter-widgets/base",
            "_view_module_version": "1.2.0",
            "_view_name": "StyleView",
            "bar_color": null,
            "description_width": ""
          }
        },
        "0c4a97fb729548cbb7b4a56e014b1b37": {
          "model_module": "@jupyter-widgets/base",
          "model_name": "LayoutModel",
          "model_module_version": "1.2.0",
          "state": {
            "_model_module": "@jupyter-widgets/base",
            "_model_module_version": "1.2.0",
            "_model_name": "LayoutModel",
            "_view_count": null,
            "_view_module": "@jupyter-widgets/base",
            "_view_module_version": "1.2.0",
            "_view_name": "LayoutView",
            "align_content": null,
            "align_items": null,
            "align_self": null,
            "border": null,
            "bottom": null,
            "display": null,
            "flex": null,
            "flex_flow": null,
            "grid_area": null,
            "grid_auto_columns": null,
            "grid_auto_flow": null,
            "grid_auto_rows": null,
            "grid_column": null,
            "grid_gap": null,
            "grid_row": null,
            "grid_template_areas": null,
            "grid_template_columns": null,
            "grid_template_rows": null,
            "height": null,
            "justify_content": null,
            "justify_items": null,
            "left": null,
            "margin": null,
            "max_height": null,
            "max_width": null,
            "min_height": null,
            "min_width": null,
            "object_fit": null,
            "object_position": null,
            "order": null,
            "overflow": null,
            "overflow_x": null,
            "overflow_y": null,
            "padding": null,
            "right": null,
            "top": null,
            "visibility": null,
            "width": null
          }
        },
        "2071606fc1b64d7d8087a0fd29549f3b": {
          "model_module": "@jupyter-widgets/controls",
          "model_name": "DescriptionStyleModel",
          "model_module_version": "1.5.0",
          "state": {
            "_model_module": "@jupyter-widgets/controls",
            "_model_module_version": "1.5.0",
            "_model_name": "DescriptionStyleModel",
            "_view_count": null,
            "_view_module": "@jupyter-widgets/base",
            "_view_module_version": "1.2.0",
            "_view_name": "StyleView",
            "description_width": ""
          }
        },
        "cdeeae2569a54e419a171fe776743364": {
          "model_module": "@jupyter-widgets/controls",
          "model_name": "HBoxModel",
          "model_module_version": "1.5.0",
          "state": {
            "_dom_classes": [],
            "_model_module": "@jupyter-widgets/controls",
            "_model_module_version": "1.5.0",
            "_model_name": "HBoxModel",
            "_view_count": null,
            "_view_module": "@jupyter-widgets/controls",
            "_view_module_version": "1.5.0",
            "_view_name": "HBoxView",
            "box_style": "",
            "children": [
              "IPY_MODEL_0180b9d5aa354265b1368c14c644a76e",
              "IPY_MODEL_f40bfd991224444eb681fd76a4ee0990",
              "IPY_MODEL_3796290c177e42e6b4a243bb9bf6344e"
            ],
            "layout": "IPY_MODEL_242681dd5c8d4f8d8e146981d8fcd1ab"
          }
        },
        "0180b9d5aa354265b1368c14c644a76e": {
          "model_module": "@jupyter-widgets/controls",
          "model_name": "HTMLModel",
          "model_module_version": "1.5.0",
          "state": {
            "_dom_classes": [],
            "_model_module": "@jupyter-widgets/controls",
            "_model_module_version": "1.5.0",
            "_model_name": "HTMLModel",
            "_view_count": null,
            "_view_module": "@jupyter-widgets/controls",
            "_view_module_version": "1.5.0",
            "_view_name": "HTMLView",
            "description": "",
            "description_tooltip": null,
            "layout": "IPY_MODEL_4e28af0ab88543d5b85459eded101c35",
            "placeholder": "​",
            "style": "IPY_MODEL_e5a35c857f4743f3aca9c46be69115f9",
            "value": "  2%"
          }
        },
        "f40bfd991224444eb681fd76a4ee0990": {
          "model_module": "@jupyter-widgets/controls",
          "model_name": "FloatProgressModel",
          "model_module_version": "1.5.0",
          "state": {
            "_dom_classes": [],
            "_model_module": "@jupyter-widgets/controls",
            "_model_module_version": "1.5.0",
            "_model_name": "FloatProgressModel",
            "_view_count": null,
            "_view_module": "@jupyter-widgets/controls",
            "_view_module_version": "1.5.0",
            "_view_name": "ProgressView",
            "bar_style": "",
            "description": "",
            "description_tooltip": null,
            "layout": "IPY_MODEL_c1f9af3f62ce4612b132798bb11b0b3e",
            "max": 100,
            "min": 0,
            "orientation": "horizontal",
            "style": "IPY_MODEL_9a6632c7ce484608a786c0a766b9bc6e",
            "value": 2
          }
        },
        "3796290c177e42e6b4a243bb9bf6344e": {
          "model_module": "@jupyter-widgets/controls",
          "model_name": "HTMLModel",
          "model_module_version": "1.5.0",
          "state": {
            "_dom_classes": [],
            "_model_module": "@jupyter-widgets/controls",
            "_model_module_version": "1.5.0",
            "_model_name": "HTMLModel",
            "_view_count": null,
            "_view_module": "@jupyter-widgets/controls",
            "_view_module_version": "1.5.0",
            "_view_name": "HTMLView",
            "description": "",
            "description_tooltip": null,
            "layout": "IPY_MODEL_b843a5701f1444e69cef3fb1905b3a0a",
            "placeholder": "​",
            "style": "IPY_MODEL_d62ca2fc01fd407aa4e9e285e24bddd6",
            "value": " 2/100 [00:15&lt;12:18,  7.53s/it]"
          }
        },
        "242681dd5c8d4f8d8e146981d8fcd1ab": {
          "model_module": "@jupyter-widgets/base",
          "model_name": "LayoutModel",
          "model_module_version": "1.2.0",
          "state": {
            "_model_module": "@jupyter-widgets/base",
            "_model_module_version": "1.2.0",
            "_model_name": "LayoutModel",
            "_view_count": null,
            "_view_module": "@jupyter-widgets/base",
            "_view_module_version": "1.2.0",
            "_view_name": "LayoutView",
            "align_content": null,
            "align_items": null,
            "align_self": null,
            "border": null,
            "bottom": null,
            "display": null,
            "flex": null,
            "flex_flow": null,
            "grid_area": null,
            "grid_auto_columns": null,
            "grid_auto_flow": null,
            "grid_auto_rows": null,
            "grid_column": null,
            "grid_gap": null,
            "grid_row": null,
            "grid_template_areas": null,
            "grid_template_columns": null,
            "grid_template_rows": null,
            "height": null,
            "justify_content": null,
            "justify_items": null,
            "left": null,
            "margin": null,
            "max_height": null,
            "max_width": null,
            "min_height": null,
            "min_width": null,
            "object_fit": null,
            "object_position": null,
            "order": null,
            "overflow": null,
            "overflow_x": null,
            "overflow_y": null,
            "padding": null,
            "right": null,
            "top": null,
            "visibility": null,
            "width": null
          }
        },
        "4e28af0ab88543d5b85459eded101c35": {
          "model_module": "@jupyter-widgets/base",
          "model_name": "LayoutModel",
          "model_module_version": "1.2.0",
          "state": {
            "_model_module": "@jupyter-widgets/base",
            "_model_module_version": "1.2.0",
            "_model_name": "LayoutModel",
            "_view_count": null,
            "_view_module": "@jupyter-widgets/base",
            "_view_module_version": "1.2.0",
            "_view_name": "LayoutView",
            "align_content": null,
            "align_items": null,
            "align_self": null,
            "border": null,
            "bottom": null,
            "display": null,
            "flex": null,
            "flex_flow": null,
            "grid_area": null,
            "grid_auto_columns": null,
            "grid_auto_flow": null,
            "grid_auto_rows": null,
            "grid_column": null,
            "grid_gap": null,
            "grid_row": null,
            "grid_template_areas": null,
            "grid_template_columns": null,
            "grid_template_rows": null,
            "height": null,
            "justify_content": null,
            "justify_items": null,
            "left": null,
            "margin": null,
            "max_height": null,
            "max_width": null,
            "min_height": null,
            "min_width": null,
            "object_fit": null,
            "object_position": null,
            "order": null,
            "overflow": null,
            "overflow_x": null,
            "overflow_y": null,
            "padding": null,
            "right": null,
            "top": null,
            "visibility": null,
            "width": null
          }
        },
        "e5a35c857f4743f3aca9c46be69115f9": {
          "model_module": "@jupyter-widgets/controls",
          "model_name": "DescriptionStyleModel",
          "model_module_version": "1.5.0",
          "state": {
            "_model_module": "@jupyter-widgets/controls",
            "_model_module_version": "1.5.0",
            "_model_name": "DescriptionStyleModel",
            "_view_count": null,
            "_view_module": "@jupyter-widgets/base",
            "_view_module_version": "1.2.0",
            "_view_name": "StyleView",
            "description_width": ""
          }
        },
        "c1f9af3f62ce4612b132798bb11b0b3e": {
          "model_module": "@jupyter-widgets/base",
          "model_name": "LayoutModel",
          "model_module_version": "1.2.0",
          "state": {
            "_model_module": "@jupyter-widgets/base",
            "_model_module_version": "1.2.0",
            "_model_name": "LayoutModel",
            "_view_count": null,
            "_view_module": "@jupyter-widgets/base",
            "_view_module_version": "1.2.0",
            "_view_name": "LayoutView",
            "align_content": null,
            "align_items": null,
            "align_self": null,
            "border": null,
            "bottom": null,
            "display": null,
            "flex": null,
            "flex_flow": null,
            "grid_area": null,
            "grid_auto_columns": null,
            "grid_auto_flow": null,
            "grid_auto_rows": null,
            "grid_column": null,
            "grid_gap": null,
            "grid_row": null,
            "grid_template_areas": null,
            "grid_template_columns": null,
            "grid_template_rows": null,
            "height": null,
            "justify_content": null,
            "justify_items": null,
            "left": null,
            "margin": null,
            "max_height": null,
            "max_width": null,
            "min_height": null,
            "min_width": null,
            "object_fit": null,
            "object_position": null,
            "order": null,
            "overflow": null,
            "overflow_x": null,
            "overflow_y": null,
            "padding": null,
            "right": null,
            "top": null,
            "visibility": null,
            "width": null
          }
        },
        "9a6632c7ce484608a786c0a766b9bc6e": {
          "model_module": "@jupyter-widgets/controls",
          "model_name": "ProgressStyleModel",
          "model_module_version": "1.5.0",
          "state": {
            "_model_module": "@jupyter-widgets/controls",
            "_model_module_version": "1.5.0",
            "_model_name": "ProgressStyleModel",
            "_view_count": null,
            "_view_module": "@jupyter-widgets/base",
            "_view_module_version": "1.2.0",
            "_view_name": "StyleView",
            "bar_color": null,
            "description_width": ""
          }
        },
        "b843a5701f1444e69cef3fb1905b3a0a": {
          "model_module": "@jupyter-widgets/base",
          "model_name": "LayoutModel",
          "model_module_version": "1.2.0",
          "state": {
            "_model_module": "@jupyter-widgets/base",
            "_model_module_version": "1.2.0",
            "_model_name": "LayoutModel",
            "_view_count": null,
            "_view_module": "@jupyter-widgets/base",
            "_view_module_version": "1.2.0",
            "_view_name": "LayoutView",
            "align_content": null,
            "align_items": null,
            "align_self": null,
            "border": null,
            "bottom": null,
            "display": null,
            "flex": null,
            "flex_flow": null,
            "grid_area": null,
            "grid_auto_columns": null,
            "grid_auto_flow": null,
            "grid_auto_rows": null,
            "grid_column": null,
            "grid_gap": null,
            "grid_row": null,
            "grid_template_areas": null,
            "grid_template_columns": null,
            "grid_template_rows": null,
            "height": null,
            "justify_content": null,
            "justify_items": null,
            "left": null,
            "margin": null,
            "max_height": null,
            "max_width": null,
            "min_height": null,
            "min_width": null,
            "object_fit": null,
            "object_position": null,
            "order": null,
            "overflow": null,
            "overflow_x": null,
            "overflow_y": null,
            "padding": null,
            "right": null,
            "top": null,
            "visibility": null,
            "width": null
          }
        },
        "d62ca2fc01fd407aa4e9e285e24bddd6": {
          "model_module": "@jupyter-widgets/controls",
          "model_name": "DescriptionStyleModel",
          "model_module_version": "1.5.0",
          "state": {
            "_model_module": "@jupyter-widgets/controls",
            "_model_module_version": "1.5.0",
            "_model_name": "DescriptionStyleModel",
            "_view_count": null,
            "_view_module": "@jupyter-widgets/base",
            "_view_module_version": "1.2.0",
            "_view_name": "StyleView",
            "description_width": ""
          }
        }
      }
    }
  },
  "cells": [
    {
      "cell_type": "markdown",
      "metadata": {
        "id": "view-in-github",
        "colab_type": "text"
      },
      "source": [
        "<a href=\"https://colab.research.google.com/github/EmicoBinsfinder/GNN_Viscosity_Prediction/blob/main/DynamicViscosityPredictions.ipynb\" target=\"_parent\"><img src=\"https://colab.research.google.com/assets/colab-badge.svg\" alt=\"Open In Colab\"/></a>"
      ]
    },
    {
      "cell_type": "markdown",
      "source": [
        "# GNN (Convolution and Attention Based) for Molecular Property Prediction (Regression)\n",
        "\n",
        "* Google Colab\n",
        "* RDKit\n",
        "* PyTorch Geometric (PyG)"
      ],
      "metadata": {
        "id": "AeXL2i_EeN5M"
      }
    },
    {
      "cell_type": "markdown",
      "source": [
        "## Environment Preparation"
      ],
      "metadata": {
        "id": "K7t4n_3jeyfq"
      }
    },
    {
      "cell_type": "markdown",
      "source": [
        "instal rdkit and pyg"
      ],
      "metadata": {
        "id": "HuAhBOKsedFL"
      }
    },
    {
      "cell_type": "code",
      "source": [
        "!pip install rdkit-pypi"
      ],
      "metadata": {
        "colab": {
          "base_uri": "https://localhost:8080/"
        },
        "collapsed": true,
        "id": "6ZGulKtZegAg",
        "outputId": "d87aef27-0027-4715-f633-14451748a363"
      },
      "execution_count": 1,
      "outputs": [
        {
          "output_type": "stream",
          "name": "stdout",
          "text": [
            "Collecting rdkit-pypi\n",
            "  Downloading rdkit_pypi-2022.9.5-cp310-cp310-manylinux_2_17_x86_64.manylinux2014_x86_64.whl (29.4 MB)\n",
            "\u001b[2K     \u001b[90m━━━━━━━━━━━━━━━━━━━━━━━━━━━━━━━━━━━━━━━━\u001b[0m \u001b[32m29.4/29.4 MB\u001b[0m \u001b[31m36.2 MB/s\u001b[0m eta \u001b[36m0:00:00\u001b[0m\n",
            "\u001b[?25hRequirement already satisfied: numpy in /usr/local/lib/python3.10/dist-packages (from rdkit-pypi) (1.22.4)\n",
            "Requirement already satisfied: Pillow in /usr/local/lib/python3.10/dist-packages (from rdkit-pypi) (9.4.0)\n",
            "Installing collected packages: rdkit-pypi\n",
            "Successfully installed rdkit-pypi-2022.9.5\n"
          ]
        }
      ]
    },
    {
      "cell_type": "code",
      "source": [
        "import torch\n",
        "pyg_url = f\"https://data.pyg.org/whl/torch-{torch.__version__}.html\"\n",
        "!pip install torch-scatter torch-sparse torch-cluster torch-spline-conv torch-geometric -f $pyg_url"
      ],
      "metadata": {
        "colab": {
          "base_uri": "https://localhost:8080/"
        },
        "collapsed": true,
        "id": "hUEMPxhTehri",
        "outputId": "029ac5ef-ffc5-400b-e4a8-e514f85d87de"
      },
      "execution_count": 2,
      "outputs": [
        {
          "output_type": "stream",
          "name": "stdout",
          "text": [
            "Looking in links: https://data.pyg.org/whl/torch-2.0.1+cu118.html\n",
            "Collecting torch-scatter\n",
            "  Downloading https://data.pyg.org/whl/torch-2.0.0%2Bcu118/torch_scatter-2.1.1%2Bpt20cu118-cp310-cp310-linux_x86_64.whl (10.2 MB)\n",
            "\u001b[2K     \u001b[90m━━━━━━━━━━━━━━━━━━━━━━━━━━━━━━━━━━━━━━━━\u001b[0m \u001b[32m10.2/10.2 MB\u001b[0m \u001b[31m53.0 MB/s\u001b[0m eta \u001b[36m0:00:00\u001b[0m\n",
            "\u001b[?25hCollecting torch-sparse\n",
            "  Downloading https://data.pyg.org/whl/torch-2.0.0%2Bcu118/torch_sparse-0.6.17%2Bpt20cu118-cp310-cp310-linux_x86_64.whl (4.8 MB)\n",
            "\u001b[2K     \u001b[90m━━━━━━━━━━━━━━━━━━━━━━━━━━━━━━━━━━━━━━━━\u001b[0m \u001b[32m4.8/4.8 MB\u001b[0m \u001b[31m51.9 MB/s\u001b[0m eta \u001b[36m0:00:00\u001b[0m\n",
            "\u001b[?25hCollecting torch-cluster\n",
            "  Downloading https://data.pyg.org/whl/torch-2.0.0%2Bcu118/torch_cluster-1.6.1%2Bpt20cu118-cp310-cp310-linux_x86_64.whl (3.3 MB)\n",
            "\u001b[2K     \u001b[90m━━━━━━━━━━━━━━━━━━━━━━━━━━━━━━━━━━━━━━━━\u001b[0m \u001b[32m3.3/3.3 MB\u001b[0m \u001b[31m68.6 MB/s\u001b[0m eta \u001b[36m0:00:00\u001b[0m\n",
            "\u001b[?25hCollecting torch-spline-conv\n",
            "  Downloading https://data.pyg.org/whl/torch-2.0.0%2Bcu118/torch_spline_conv-1.2.2%2Bpt20cu118-cp310-cp310-linux_x86_64.whl (884 kB)\n",
            "\u001b[2K     \u001b[90m━━━━━━━━━━━━━━━━━━━━━━━━━━━━━━━━━━━━━━\u001b[0m \u001b[32m884.9/884.9 kB\u001b[0m \u001b[31m37.6 MB/s\u001b[0m eta \u001b[36m0:00:00\u001b[0m\n",
            "\u001b[?25hCollecting torch-geometric\n",
            "  Downloading torch_geometric-2.3.1.tar.gz (661 kB)\n",
            "\u001b[2K     \u001b[90m━━━━━━━━━━━━━━━━━━━━━━━━━━━━━━━━━━━━━━━\u001b[0m \u001b[32m661.6/661.6 kB\u001b[0m \u001b[31m6.3 MB/s\u001b[0m eta \u001b[36m0:00:00\u001b[0m\n",
            "\u001b[?25h  Installing build dependencies ... \u001b[?25l\u001b[?25hdone\n",
            "  Getting requirements to build wheel ... \u001b[?25l\u001b[?25hdone\n",
            "  Preparing metadata (pyproject.toml) ... \u001b[?25l\u001b[?25hdone\n",
            "Requirement already satisfied: scipy in /usr/local/lib/python3.10/dist-packages (from torch-sparse) (1.10.1)\n",
            "Requirement already satisfied: tqdm in /usr/local/lib/python3.10/dist-packages (from torch-geometric) (4.65.0)\n",
            "Requirement already satisfied: numpy in /usr/local/lib/python3.10/dist-packages (from torch-geometric) (1.22.4)\n",
            "Requirement already satisfied: jinja2 in /usr/local/lib/python3.10/dist-packages (from torch-geometric) (3.1.2)\n",
            "Requirement already satisfied: requests in /usr/local/lib/python3.10/dist-packages (from torch-geometric) (2.27.1)\n",
            "Requirement already satisfied: pyparsing in /usr/local/lib/python3.10/dist-packages (from torch-geometric) (3.1.0)\n",
            "Requirement already satisfied: scikit-learn in /usr/local/lib/python3.10/dist-packages (from torch-geometric) (1.2.2)\n",
            "Requirement already satisfied: psutil>=5.8.0 in /usr/local/lib/python3.10/dist-packages (from torch-geometric) (5.9.5)\n",
            "Requirement already satisfied: MarkupSafe>=2.0 in /usr/local/lib/python3.10/dist-packages (from jinja2->torch-geometric) (2.1.3)\n",
            "Requirement already satisfied: urllib3<1.27,>=1.21.1 in /usr/local/lib/python3.10/dist-packages (from requests->torch-geometric) (1.26.16)\n",
            "Requirement already satisfied: certifi>=2017.4.17 in /usr/local/lib/python3.10/dist-packages (from requests->torch-geometric) (2023.7.22)\n",
            "Requirement already satisfied: charset-normalizer~=2.0.0 in /usr/local/lib/python3.10/dist-packages (from requests->torch-geometric) (2.0.12)\n",
            "Requirement already satisfied: idna<4,>=2.5 in /usr/local/lib/python3.10/dist-packages (from requests->torch-geometric) (3.4)\n",
            "Requirement already satisfied: joblib>=1.1.1 in /usr/local/lib/python3.10/dist-packages (from scikit-learn->torch-geometric) (1.3.1)\n",
            "Requirement already satisfied: threadpoolctl>=2.0.0 in /usr/local/lib/python3.10/dist-packages (from scikit-learn->torch-geometric) (3.2.0)\n",
            "Building wheels for collected packages: torch-geometric\n",
            "  Building wheel for torch-geometric (pyproject.toml) ... \u001b[?25l\u001b[?25hdone\n",
            "  Created wheel for torch-geometric: filename=torch_geometric-2.3.1-py3-none-any.whl size=910460 sha256=33e34cb79fa2954ca6daa9b16879876ce39a2009edbaf5863c05915f79ab0a7f\n",
            "  Stored in directory: /root/.cache/pip/wheels/ac/dc/30/e2874821ff308ee67dcd7a66dbde912411e19e35a1addda028\n",
            "Successfully built torch-geometric\n",
            "Installing collected packages: torch-spline-conv, torch-scatter, torch-sparse, torch-cluster, torch-geometric\n",
            "Successfully installed torch-cluster-1.6.1+pt20cu118 torch-geometric-2.3.1 torch-scatter-2.1.1+pt20cu118 torch-sparse-0.6.17+pt20cu118 torch-spline-conv-1.2.2+pt20cu118\n"
          ]
        }
      ]
    },
    {
      "cell_type": "code",
      "source": [
        "!git clone https://github.com/EmicoBinsfinder/GNN_Viscosity_Prediction.git"
      ],
      "metadata": {
        "id": "CwOd3lll-rWI",
        "outputId": "687aeb10-1a3f-4b0e-8d36-f3cdaf2e236b",
        "colab": {
          "base_uri": "https://localhost:8080/"
        }
      },
      "execution_count": 3,
      "outputs": [
        {
          "output_type": "stream",
          "name": "stdout",
          "text": [
            "Cloning into 'GNN_Viscosity_Prediction'...\n",
            "remote: Enumerating objects: 47, done.\u001b[K\n",
            "remote: Counting objects: 100% (47/47), done.\u001b[K\n",
            "remote: Compressing objects: 100% (40/40), done.\u001b[K\n",
            "remote: Total 47 (delta 12), reused 31 (delta 5), pack-reused 0\u001b[K\n",
            "Receiving objects: 100% (47/47), 6.90 MiB | 15.37 MiB/s, done.\n",
            "Resolving deltas: 100% (12/12), done.\n"
          ]
        }
      ]
    },
    {
      "cell_type": "markdown",
      "source": [
        "import"
      ],
      "metadata": {
        "id": "p2-zGec4ewps"
      }
    },
    {
      "cell_type": "code",
      "source": [
        "import sys\n",
        "import urllib.request\n",
        "from collections import defaultdict\n",
        "import random\n",
        "\n",
        "import numpy as np\n",
        "import pandas as pd\n",
        "import matplotlib.pyplot as plt\n",
        "import networkx as nx\n",
        "from tqdm.notebook import tqdm\n",
        "\n",
        "from rdkit import Chem\n",
        "from rdkit.Chem import AllChem, Draw\n",
        "from rdkit.Chem.Draw import IPythonConsole\n",
        "\n",
        "import torch.nn as nn\n",
        "import torch.nn.functional as F\n",
        "from torch.utils.data import Dataset, Subset\n",
        "\n",
        "from torch_geometric.data import Data\n",
        "from torch_geometric.loader import DataLoader\n",
        "from torch_geometric.utils import to_networkx\n"
      ],
      "metadata": {
        "id": "jQ5zg5uBejZH"
      },
      "execution_count": 4,
      "outputs": []
    },
    {
      "cell_type": "markdown",
      "source": [
        "# Code from Github to plot SMILES stings"
      ],
      "metadata": {
        "id": "h6IGkMtHAvPE"
      }
    },
    {
      "cell_type": "code",
      "source": [
        "!curl -O https://raw.githubusercontent.com/itakigawa/mpl_rdkit_utils/main/mpl_rdkit_utils.py\n",
        "\n",
        "from mpl_rdkit_utils import DrawMolToMPL\n",
        "\n",
        "def plot_mol_graph(graph, figsize=(8, 4), edge_label=True):\n",
        "  g = to_networkx(graph, to_undirected=True)\n",
        "  edge_dict = defaultdict(list)\n",
        "  for i, e in enumerate(zip(*graph.edge_index.tolist())):\n",
        "    u, v = e\n",
        "    edge_dict[(u, v)].append(i)\n",
        "    edge_dict[(v, u)].append(i)\n",
        "  labels = {e: \"{},{}\".format(*edge_dict[e]) for e in g.edges}\n",
        "\n",
        "  mol = graph.mol\n",
        "  AllChem.Compute2DCoords(mol)\n",
        "  pos = mol.GetConformers()[0].GetPositions()[:,:2]\n",
        "\n",
        "  fig, ax = plt.subplots(1, 2, figsize=figsize)\n",
        "  node_size=300\n",
        "  nx.draw_networkx(g, pos, ax=ax[0], node_color='#eee', \\\n",
        "                   node_size=node_size, edgecolors='k')\n",
        "  if edge_label:\n",
        "    nx.draw_networkx_edge_labels(g, pos, ax=ax[0], edge_labels=labels,\\\n",
        "                                font_color='blue', rotate=False)\n",
        "  dpi = plt.rcParams[\"figure.dpi\"]\n",
        "  node_radius = (node_size / 3.14159265359)**0.5 / dpi\n",
        "  ax[0].set_axis_off()\n",
        "  ax[0].set_aspect('equal')\n",
        "  xmin, xmax = ax[0].get_xlim()\n",
        "  ymin, ymax = ax[0].get_ylim()\n",
        "  fs = min(*figsize)\n",
        "  xr = node_radius * fs\n",
        "  yr = node_radius * fs\n",
        "  ax[0].set_xlim(xmin-xr, xmax+xr)\n",
        "  ax[0].set_ylim(ymin-yr, ymax+yr)\n",
        "\n",
        "  (xmin, xmax), (ymin, ymax) = DrawMolToMPL(mol, fig, ax[1])\n",
        "  ax[1].set_xlim(xmin, xmax)\n",
        "  ax[1].set_ylim(ymin, ymax)\n",
        "  ax[1].get_xaxis().set_visible(False)\n",
        "  ax[1].get_yaxis().set_visible(False)\n",
        "  plt.tight_layout()\n",
        "  plt.show()"
      ],
      "metadata": {
        "colab": {
          "base_uri": "https://localhost:8080/"
        },
        "id": "EKZfWBfve3SJ",
        "outputId": "43acef5d-c613-4d49-dbd2-902a9066e2d3"
      },
      "execution_count": 5,
      "outputs": [
        {
          "output_type": "stream",
          "name": "stdout",
          "text": [
            "  % Total    % Received % Xferd  Average Speed   Time    Time     Time  Current\n",
            "                                 Dload  Upload   Total   Spent    Left  Speed\n",
            "100  7540  100  7540    0     0  21049      0 --:--:-- --:--:-- --:--:-- 21061\n"
          ]
        }
      ]
    },
    {
      "cell_type": "markdown",
      "source": [
        "# data loading"
      ],
      "metadata": {
        "id": "-0wT-rP3e6O9"
      }
    },
    {
      "cell_type": "code",
      "source": [
        "# Read in dataset from CSV file\n",
        "df = pd.read_csv('/content/GNN_Viscosity_Prediction/Dataset.csv')"
      ],
      "metadata": {
        "id": "A_Tp2S2N-53i"
      },
      "execution_count": 6,
      "outputs": []
    },
    {
      "cell_type": "code",
      "source": [
        "# Generating a list of number to assign IDs to each entry\n",
        "ID_list = list(range(len(df)))\n",
        "df['ID'] = ID_list\n",
        "\n",
        "#Making dataframe with only target property and molecule ID\n",
        "df = df[['smiles', 'ID', 'VI']]\n",
        "\n",
        "#Removing entries with Viscosity Index of less than Zero\n",
        "df = df.loc[df['VI'] > 0]\n",
        "\n",
        "#Removing duplicates and entries with NaNs\n",
        "df = df.dropna()\n",
        "df = df.drop_duplicates()\n",
        "\n",
        "#Shuffle Dataset\n",
        "df = df.sample(frac=1).reset_index(drop=True)\n",
        "\n",
        "#Creating new CSV with target variable and it's SMILES string\n",
        "df.to_csv('input.csv')"
      ],
      "metadata": {
        "id": "xGZIfaLT_Od0"
      },
      "execution_count": 7,
      "outputs": []
    },
    {
      "cell_type": "code",
      "source": [
        "df.head()\n",
        "len(df)"
      ],
      "metadata": {
        "colab": {
          "base_uri": "https://localhost:8080/"
        },
        "id": "v033LEAsfD4i",
        "outputId": "970e4b84-f447-4656-a485-8676a716c576"
      },
      "execution_count": 8,
      "outputs": [
        {
          "output_type": "execute_result",
          "data": {
            "text/plain": [
              "47534"
            ]
          },
          "metadata": {},
          "execution_count": 8
        }
      ]
    },
    {
      "cell_type": "code",
      "source": [
        "# Reading in new Dataset\n",
        "df = pd.read_csv('input.csv', index_col=0)\n",
        "\n",
        "#Selecting random entry from Dataset\n",
        "smi = df['smiles'][9311]\n",
        "\n",
        "#Constructs a molecule object from a given SMILES string\n",
        "mol = Chem.MolFromSmiles(smi)"
      ],
      "metadata": {
        "id": "Yp0SaCL2fLBn"
      },
      "execution_count": 9,
      "outputs": []
    },
    {
      "cell_type": "code",
      "source": [
        "smi"
      ],
      "metadata": {
        "colab": {
          "base_uri": "https://localhost:8080/",
          "height": 36
        },
        "id": "A8m9k9EXfN6y",
        "outputId": "bcda4ccc-76c7-48d7-b16c-982148ca6a59"
      },
      "execution_count": 10,
      "outputs": [
        {
          "output_type": "execute_result",
          "data": {
            "text/plain": [
              "'COC(CCC1CCCCC1)C=CCCC=CCCC=CC1CCCCC1'"
            ],
            "application/vnd.google.colaboratory.intrinsic+json": {
              "type": "string"
            }
          },
          "metadata": {},
          "execution_count": 10
        }
      ]
    },
    {
      "cell_type": "code",
      "source": [
        "# Display plot of the SMILES string of a random entry from the dataset\n",
        "mol"
      ],
      "metadata": {
        "colab": {
          "base_uri": "https://localhost:8080/",
          "height": 167
        },
        "id": "4WoogatLfOxS",
        "outputId": "d2feb87e-e921-4cab-bbbf-85db815c76c3"
      },
      "execution_count": 11,
      "outputs": [
        {
          "output_type": "execute_result",
          "data": {
            "text/plain": [
              "<rdkit.Chem.rdchem.Mol at 0x7e5ff57fed50>"
            ],
            "image/png": "[encoded data removed]"
          },
          "metadata": {},
          "execution_count": 11
        }
      ]
    },
    {
      "cell_type": "markdown",
      "source": [
        "#Creating Molecular Graph Dataset"
      ],
      "metadata": {
        "id": "OYSXRCQbfSf_"
      }
    },
    {
      "cell_type": "code",
      "source": [
        "edges = []\n",
        "\n",
        "\"\"\"\n",
        "The mol object assigns index values to every atom in the SMILES string (verify)\n",
        "\n",
        "The mol object also has a bond object where each bond is connected to two atom\n",
        "indexes. Each bond has a unique pair of indexes that it is attached to.\n",
        "\n",
        "So we can generate a list of bonds between each atom by creating tuple of these\n",
        "unique bonds pairs\n",
        "\"\"\"\n",
        "\n",
        "for bond in mol.GetBonds():\n",
        "  #Returns the index of the bond’s first atom\n",
        "  i = bond.GetBeginAtomIdx()\n",
        "\n",
        "  #Returns the index of the bond’s last atom\n",
        "  j = bond.GetEndAtomIdx()\n",
        "\n",
        "  #Add bonds (edges) to empty list as a list of bond tuples\n",
        "  edges.extend([(i,j), (j,i)])"
      ],
      "metadata": {
        "id": "mU0fBxC2fXtm"
      },
      "execution_count": 12,
      "outputs": []
    },
    {
      "cell_type": "code",
      "source": [
        "# Concatenating edges tuples to make a chronological list of bonds\n",
        "edge_index = list(zip(*edges))"
      ],
      "metadata": {
        "id": "160paKLgfhxr"
      },
      "execution_count": 13,
      "outputs": []
    },
    {
      "cell_type": "code",
      "source": [
        "\"\"\"\n",
        "Define function that:\n",
        "- Gets atom type\n",
        "- Gets number of atoms bonded to target atom\n",
        "- Get implicit number of Hydrogens bonded to an atom\n",
        "- Determines if atom is in aromatic ring (must have double bonds to be aromatic)\n",
        "\"\"\"\n",
        "def atom_feature(atom):\n",
        "  return [atom.GetAtomicNum(),\n",
        "          atom.GetDegree(),\n",
        "          atom.GetNumImplicitHs(),\n",
        "          atom.GetIsAromatic()]\n",
        "\n",
        "\"\"\"\n",
        "Define function to:\n",
        "- Determines bond types\n",
        "- Gets the 3D positioning of the bond\n",
        "\"\"\"\n",
        "def bond_feature(bond):\n",
        "  return [bond.GetBondType(),\n",
        "          bond.GetStereo()]"
      ],
      "metadata": {
        "id": "9ZjFm-hhfrKa"
      },
      "execution_count": 14,
      "outputs": []
    },
    {
      "cell_type": "code",
      "source": [
        "#Create 2D list of atom features\n",
        "node_features = [atom_feature(a) for a in mol.GetAtoms()]\n",
        "\n",
        "#Create 2D list of bond features\n",
        "edge_features = [bond_feature(b) for b in mol.GetBonds()]"
      ],
      "metadata": {
        "id": "6to7lweeft-g"
      },
      "execution_count": 15,
      "outputs": []
    },
    {
      "cell_type": "code",
      "source": [
        "#Create a Pytorch Geometric Data Object\n",
        "Graph = Data(edge_index=torch.LongTensor(edge_index),\n",
        "         x=torch.FloatTensor(node_features),\n",
        "         edge_attr=torch.FloatTensor(edge_features),\n",
        "         smiles=smi,\n",
        "         mol=mol)"
      ],
      "metadata": {
        "id": "QhLrZE2Cf4Cs"
      },
      "execution_count": 16,
      "outputs": []
    },
    {
      "cell_type": "code",
      "source": [
        "Graph"
      ],
      "metadata": {
        "colab": {
          "base_uri": "https://localhost:8080/"
        },
        "id": "Tv-3d9VdgH1o",
        "outputId": "3a145e1b-537b-4881-dd11-7947dab372d1"
      },
      "execution_count": 17,
      "outputs": [
        {
          "output_type": "execute_result",
          "data": {
            "text/plain": [
              "Data(x=[27, 4], edge_index=[2, 56], edge_attr=[28, 2], smiles='COC(CCC1CCCCC1)C=CCCC=CCCC=CC1CCCCC1', mol=<rdkit.Chem.rdchem.Mol object at 0x7e5ff57fed50>)"
            ]
          },
          "metadata": {},
          "execution_count": 17
        }
      ]
    },
    {
      "cell_type": "code",
      "source": [
        "plot_mol_graph(Graph)"
      ],
      "metadata": {
        "colab": {
          "base_uri": "https://localhost:8080/",
          "height": 124
        },
        "id": "1H-15y8ngQGz",
        "outputId": "dab448d6-6a36-44d7-a19a-f972c306e7f4"
      },
      "execution_count": 18,
      "outputs": [
        {
          "output_type": "display_data",
          "data": {
            "text/plain": [
              "<Figure size 800x400 with 2 Axes>"
            ],
            "image/png": "[encoded data removed]"
          },
          "metadata": {}
        }
      ]
    },
    {
      "cell_type": "code",
      "source": [
        "\"\"\"\n",
        "Creating a function that creates a data set by iterating through a list of SMILES\n",
        "strings and their associated targets/values (or Pandas Series) to make a dataset\n",
        "for graph neural networks, featurising the graphs as above.\n",
        "\"\"\"\n",
        "def smi_to_pyg(smi, y):\n",
        "    mol = Chem.MolFromSmiles(smi)\n",
        "    if mol is None:\n",
        "      return None\n",
        "\n",
        "    id_pairs = ((b.GetBeginAtomIdx(), b.GetEndAtomIdx()) for b in mol.GetBonds())\n",
        "    atom_pairs = [z for (i, j) in id_pairs for z in ((i, j), (j, i))]\n",
        "\n",
        "    bonds = (mol.GetBondBetweenAtoms(i, j) for (i, j) in atom_pairs)\n",
        "    atom_features = [atom_feature(a) for a in mol.GetAtoms()]\n",
        "    bond_features = [bond_feature(b) for b in bonds]\n",
        "\n",
        "    return Data(edge_index=torch.LongTensor(list(zip(*atom_pairs))), #bonds\n",
        "                x=torch.FloatTensor(atom_features), #atom types\n",
        "                edge_attr=torch.FloatTensor(bond_features), #bond types\n",
        "                y=torch.LongTensor([y]), #target value\n",
        "                mol=mol, #Rdkit object\n",
        "                smiles=smi) #SMILES String"
      ],
      "metadata": {
        "id": "RuvR_EJxgS7k"
      },
      "execution_count": 19,
      "outputs": []
    },
    {
      "cell_type": "code",
      "source": [
        "class MyDataset(Dataset):\n",
        "  def __init__(self, smiles, target):\n",
        "    mols = [smi_to_pyg(smi, y) for smi, y in \\\n",
        "            tqdm(zip(smiles, target), total=len(smiles))] #track progress\n",
        "    self.X = [m for m in mols if m]\n",
        "\n",
        "  def __getitem__(self, idx):\n",
        "    return self.X[idx]\n",
        "\n",
        "  def __len__(self):\n",
        "    return len(self.X)"
      ],
      "metadata": {
        "id": "v6Lv34ycgdpa"
      },
      "execution_count": 20,
      "outputs": []
    },
    {
      "cell_type": "code",
      "source": [
        "#Instantiate dataset object\n",
        "base_dataset = MyDataset(df['smiles'], df['VI'])"
      ],
      "metadata": {
        "colab": {
          "base_uri": "https://localhost:8080/",
          "referenced_widgets": [
            "2e9508f9241a4c59bab5dd4fa44ebc97",
            "3a5ea420d8bd469ca9f9a8bd26e540d6",
            "fcdc11a80a6c40ff8b9bbd9c71a0bd5a",
            "121aca5ad4a74d1882e71e3f82e05921",
            "63e206887fe34779acfbb097d9e08e04",
            "a02c0f150af94dd5ae9e4198f8c98035",
            "77918a6c42f34f12a17a71fba715d727",
            "f12e67ec97b24383b5c5f7aea2d7e833",
            "ee2d6665800e41b6ad9b7a38f01b8084",
            "0c4a97fb729548cbb7b4a56e014b1b37",
            "2071606fc1b64d7d8087a0fd29549f3b"
          ],
          "height": 49
        },
        "id": "JAkSRLgBgfaL",
        "outputId": "70c1f2ba-6714-4000-e9e3-72ed97cf8ee0"
      },
      "execution_count": 21,
      "outputs": [
        {
          "output_type": "display_data",
          "data": {
            "text/plain": [
              "  0%|          | 0/47534 [00:00<?, ?it/s]"
            ],
            "application/vnd.jupyter.widget-view+json": {
              "version_major": 2,
              "version_minor": 0,
              "model_id": "2e9508f9241a4c59bab5dd4fa44ebc97"
            }
          },
          "metadata": {}
        }
      ]
    },
    {
      "cell_type": "code",
      "source": [
        "#Plot a random molecule from\n",
        "Graph = base_dataset[random.randint(0, len(base_dataset))]\n",
        "plot_mol_graph(Graph, figsize=(6, 3), edge_label=True)"
      ],
      "metadata": {
        "colab": {
          "base_uri": "https://localhost:8080/",
          "height": 89
        },
        "id": "vfG7Aa2rgiEN",
        "outputId": "8f37e15c-b760-490b-900f-e84e5c65b8b9"
      },
      "execution_count": 22,
      "outputs": [
        {
          "output_type": "display_data",
          "data": {
            "text/plain": [
              "<Figure size 600x300 with 2 Axes>"
            ],
            "image/png": "[encoded data removed]"
          },
          "metadata": {}
        }
      ]
    },
    {
      "cell_type": "markdown",
      "source": [
        "# Train/Validation/Test split of Data"
      ],
      "metadata": {
        "id": "sqztOJnqgnBB"
      }
    },
    {
      "cell_type": "code",
      "source": [
        "#Splitting into Train/Test/Validation sets using 80:10:10 split\n",
        "\n",
        "N = len(base_dataset)\n",
        "M = N // 10\n",
        "\n",
        "indices = np.random.permutation(range(N))\n",
        "print(indices)\n",
        "\n",
        "#Generating indices for use with Pytorch Subset generator (instead of sklearn's\n",
        "#train_test_split)\n",
        "\n",
        "idx = {'train': indices[:8*M],\n",
        "      'valid': indices[8*M:9*M],\n",
        "      'test': indices[9*M:]}\n",
        "\n",
        "modes = ['train', 'valid', 'test']"
      ],
      "metadata": {
        "id": "g6VegArxg_DV",
        "outputId": "fa088835-84f6-47ec-e221-d86d2640aefb",
        "colab": {
          "base_uri": "https://localhost:8080/"
        }
      },
      "execution_count": 23,
      "outputs": [
        {
          "output_type": "stream",
          "name": "stdout",
          "text": [
            "[ 8235  4046 33099 ... 13128 29234 14750]\n"
          ]
        }
      ]
    },
    {
      "cell_type": "code",
      "source": [
        "# Creating dataset splits using indexes generated above\n",
        "dataset = {m: Subset(base_dataset, idx[m]) for m in modes}\n",
        "\n",
        "#Creating iterable dataloader that can be called during training to feed batches\n",
        "#to model during training and test\n",
        "\n",
        "loader = {m: DataLoader(dataset[m], batch_size=64, shuffle=True) if m == 'train' \\\n",
        "          else DataLoader(dataset[m], batch_size=64) for m in modes}"
      ],
      "metadata": {
        "id": "fPgtFrPEhBip"
      },
      "execution_count": 24,
      "outputs": []
    },
    {
      "cell_type": "markdown",
      "source": [
        "# Defining Graph Isomorphism (GIN) and Graph Attention (GAT) Networks"
      ],
      "metadata": {
        "id": "ssel6j5EijJZ"
      }
    },
    {
      "cell_type": "code",
      "source": [
        "from torch_geometric.nn import GINEConv, GATv2Conv, global_add_pool"
      ],
      "metadata": {
        "id": "Z-kbDnLmijqi"
      },
      "execution_count": 25,
      "outputs": []
    },
    {
      "cell_type": "markdown",
      "source": [
        "## Notes about the GIN Pytorch Geometric Implementation\n",
        "\n",
        "- Need to define MLP (Multi Layer Perceptron) to predict\n",
        "- Episilon parameter to determine how target is compared to neighbors are\n",
        "- Episolon can be trained"
      ],
      "metadata": {
        "id": "vC_rtmRgv3Sv"
      }
    },
    {
      "cell_type": "code",
      "source": [
        "def MyConv(node_dim, edge_dim, arch='GIN'):\n",
        "  conv = None\n",
        "  # Define the Graph Isormorphism Network\n",
        "  if arch == 'GIN':\n",
        "    # Define the MLP as a single linear transform\n",
        "    h = nn.Sequential(nn.Linear(node_dim, node_dim, bias=True))\n",
        "    # Define GIN layer that takes input from MLP\n",
        "    conv = GINEConv(h, edge_dim=edge_dim)\n",
        "\n",
        "  # Define the Graph Attention Network Layer\n",
        "  elif arch == 'GAT':\n",
        "    conv = GATv2Conv(node_dim, node_dim, edge_dim=edge_dim)\n",
        "  return conv"
      ],
      "metadata": {
        "id": "Fb8UX7t-ilou"
      },
      "execution_count": 26,
      "outputs": []
    },
    {
      "cell_type": "code",
      "source": [
        "class MyGNN(nn.Module):\n",
        "  def __init__(self, node_dim, edge_dim, arch, num_layers=3):\n",
        "    super().__init__()\n",
        "    layers = [MyConv(node_dim, edge_dim, arch) for _ in range(num_layers)]\n",
        "    self.convs = nn.ModuleList(layers)\n",
        "\n",
        "  def forward(self, x, edge_index, edge_attr):\n",
        "    for conv in self.convs:\n",
        "      x = conv(x, edge_index, edge_attr)\n",
        "      # Leaky Relu activation after each layer\n",
        "      x = F.leaky_relu(x)\n",
        "    return x"
      ],
      "metadata": {
        "id": "RJLkx0swiwEg"
      },
      "execution_count": 27,
      "outputs": []
    },
    {
      "cell_type": "code",
      "source": [
        "[int(x) for x in Chem.rdchem.BondType.names.values()]"
      ],
      "metadata": {
        "colab": {
          "base_uri": "https://localhost:8080/"
        },
        "id": "9Dq0tALLi2nr",
        "outputId": "43547740-7b65-4ba7-aba1-4d1c2a303195"
      },
      "execution_count": 28,
      "outputs": [
        {
          "output_type": "execute_result",
          "data": {
            "text/plain": [
              "[0, 1, 2, 3, 4, 5, 6, 7, 8, 9, 10, 11, 12, 13, 14, 15, 16, 17, 18, 19, 20, 21]"
            ]
          },
          "metadata": {},
          "execution_count": 28
        }
      ]
    },
    {
      "cell_type": "code",
      "source": [
        "ptable = Chem.GetPeriodicTable()\n",
        "for i in range(200):\n",
        "  try:\n",
        "    s = ptable.GetElementSymbol(i)\n",
        "  except:\n",
        "    print(f'max id {i-1} for {s}')\n",
        "    break\n",
        "ptable.GetElementSymbol(i-1)"
      ],
      "metadata": {
        "colab": {
          "base_uri": "https://localhost:8080/",
          "height": 238
        },
        "id": "CCyjdtiEi2_0",
        "outputId": "02b9aad4-ff18-4ebf-de4f-4b6a807fc532"
      },
      "execution_count": 29,
      "outputs": [
        {
          "output_type": "stream",
          "name": "stdout",
          "text": [
            "max id 118 for Og\n"
          ]
        },
        {
          "output_type": "stream",
          "name": "stderr",
          "text": [
            "[15:18:48] \n",
            "\n",
            "****\n",
            "Pre-condition Violation\n",
            "Atomic number not found\n",
            "Violation occurred on line 99 in file /project/build/temp.linux-x86_64-cpython-310/rdkit/Code/GraphMol/PeriodicTable.h\n",
            "Failed Expression: atomicNumber < byanum.size()\n",
            "****\n",
            "\n"
          ]
        },
        {
          "output_type": "execute_result",
          "data": {
            "text/plain": [
              "'Og'"
            ],
            "application/vnd.google.colaboratory.intrinsic+json": {
              "type": "string"
            }
          },
          "metadata": {},
          "execution_count": 29
        }
      ]
    },
    {
      "cell_type": "markdown",
      "source": [
        "## Pytorch Traning Pipeline\n",
        "\n",
        "In PyTorch, for every mini-batch during the training phase, we typically want to explicitly set the gradients to zero before starting to do backpropagation (i.e., updating the Weights and biases) because PyTorch accumulates the gradients on subsequent backward passes. This accumulating behavior is convenient while training RNNs or when we want to compute the gradient of the loss summed over multiple mini-batches. So, the default action has been set to accumulate (i.e. sum) the gradients on every loss.backward() call.\n",
        "\n",
        "Because of this, when you start your training loop, ideally you should zero out the gradients so that you do the parameter update correctly. Otherwise, the gradient would be a combination of the old gradient, which you have already used to update your model parameters and the newly-computed gradient. It would therefore point in some other direction than the intended direction towards the minimum (or maximum, in case of maximization objectives)."
      ],
      "metadata": {
        "id": "BvHFlm3HGzdv"
      }
    },
    {
      "cell_type": "code",
      "source": [
        "def train(loader):\n",
        "    total_loss = total_examples = 0\n",
        "    for data in loader:\n",
        "\n",
        "        #Moving data to inference device in preparation for inference\n",
        "        data = data.to(device)\n",
        "\n",
        "        #Sets the gradients of all optimized torch.Tensors to zero to prepare\n",
        "        #For next training iteration\n",
        "        optimizer.zero_grad()\n",
        "\n",
        "        #Perform transform\n",
        "        out = model(data.x, data.edge_index, data.edge_attr, data.batch)\n",
        "\n",
        "        #Calculate loss based on predefined Criterion (in this case MAE)\n",
        "        loss = criterion(out, data.y.unsqueeze(1).float())\n",
        "\n",
        "        #Perform backpropagation\n",
        "        loss.backward()\n",
        "\n",
        "        #Perfom optimiser update\n",
        "        optimizer.step()\n",
        "\n",
        "        #Changes the learning rate depending on the learning rate pre-condition\n",
        "        scheduler.step()\n",
        "\n",
        "        #Add loss to loss object for total loss calculation, to helo with optimisation\n",
        "        total_loss += loss.item()\n",
        "\n",
        "        #Calculating loss per epoch or per batch (?)\n",
        "        total_examples += data.num_graphs\n",
        "\n",
        "    return total_loss / total_examples\n",
        "\n",
        "#Decorator to stop gradients being calculated, increasing inference performance\n",
        "@torch.no_grad()\n",
        "def test(loader):\n",
        "    total_loss = total_examples = 0\n",
        "    for data in loader:\n",
        "        data = data.to(device)\n",
        "        out = model(data.x, data.edge_index, data.edge_attr, data.batch)\n",
        "        loss = criterion(out, data.y.unsqueeze(1).float())\n",
        "        total_loss += loss.item()\n",
        "        total_examples += data.num_graphs\n",
        "    return total_loss / total_examples\n",
        "\n",
        "@torch.no_grad()\n",
        "def predict(loader):\n",
        "    y_pred = []\n",
        "    y_true = []\n",
        "    for data in loader:\n",
        "        data = data.to(device)\n",
        "        out = model(data.x, data.edge_index, data.edge_attr, data.batch)\n",
        "        _, predicted = torch.max(out.data, 1)\n",
        "        y_true.extend(data.y.cpu().numpy())\n",
        "        y_pred.extend(predicted.cpu().numpy())\n",
        "    return y_true, y_pred"
      ],
      "metadata": {
        "id": "ca6r1mlazDzI"
      },
      "execution_count": 30,
      "outputs": []
    },
    {
      "cell_type": "code",
      "source": [
        "class MyFinalNetwork(nn.Module):\n",
        "  def __init__(self, node_dim, edge_dim, arch, num_layers=3,\n",
        "               encoding='onehot'):\n",
        "    super().__init__()\n",
        "\n",
        "    self.encoding = encoding\n",
        "    if encoding != 'onehot':\n",
        "      self.atom_encoder = nn.Embedding(num_embeddings=118+1, embedding_dim=64)\n",
        "      self.bond_encoder = nn.Embedding(num_embeddings=21+1, embedding_dim=8)\n",
        "      node_dim = (node_dim-1) + 64\n",
        "      edge_dim = (edge_dim-1) + 8\n",
        "    else:\n",
        "      node_dim = (node_dim-1) + 118+1\n",
        "      edge_dim = (edge_dim-1) + 21+1\n",
        "\n",
        "    self.gnn = MyGNN(node_dim, edge_dim, arch, num_layers=num_layers)\n",
        "    embed_dim = int(node_dim / 2)\n",
        "    # Define network\n",
        "    self.head = nn.Sequential(\n",
        "        #Normalisation\n",
        "        nn.BatchNorm1d(node_dim),\n",
        "        #Dropout to prevent overfitting\n",
        "        nn.Dropout(p=0.5),\n",
        "        # Linear Forward Pass\n",
        "        nn.Linear(node_dim, embed_dim, bias=True),\n",
        "        # Relu Activation\n",
        "        nn.ReLU(),\n",
        "        # Repeat above\n",
        "        nn.BatchNorm1d(embed_dim),\n",
        "        nn.Dropout(p=0.5),\n",
        "        # Output layer\n",
        "        nn.Linear(embed_dim, 1)\n",
        "    )\n",
        "  def forward(self, x, edge_index, edge_attr, batch):\n",
        "    if self.encoding == 'onehot':\n",
        "      x0 = F.one_hot(x[:, 0].to(torch.int64), num_classes=118+1)\n",
        "      edge_attr0 = F.one_hot(edge_attr[:, 0].to(torch.int64), num_classes=21+1)\n",
        "    else:\n",
        "      x0 = self.atom_encoder(x[:, 0].int())\n",
        "      edge_attr0 = self.bond_encoder(edge_attr[:, 0].int())\n",
        "\n",
        "    x = torch.cat([x0, x[:, 1:]], dim=1)\n",
        "    edge_attr = torch.cat([edge_attr0, edge_attr[:, 1:]], dim=1)\n",
        "\n",
        "    node_out = self.gnn(x, edge_index, edge_attr)\n",
        "    graph_out = global_add_pool(node_out, batch)\n",
        "    return self.head(graph_out)"
      ],
      "metadata": {
        "id": "reAjD8jIi5cm"
      },
      "execution_count": 47,
      "outputs": []
    },
    {
      "cell_type": "code",
      "source": [
        "# The number of different atom types in the Dataset (C, H, O and ??)\n",
        "node_dim = base_dataset[0].num_node_features\n",
        "\n",
        "# Number of different types of bonds in dataset (should be just single and double)\n",
        "edge_dim = base_dataset[0].num_edge_features\n",
        "node_dim, edge_dim"
      ],
      "metadata": {
        "id": "CgA79M0ty3Td",
        "outputId": "f85eeec3-43a8-4d85-e06a-c0aee8946f38",
        "colab": {
          "base_uri": "https://localhost:8080/"
        }
      },
      "execution_count": 48,
      "outputs": [
        {
          "output_type": "execute_result",
          "data": {
            "text/plain": [
              "(4, 2)"
            ]
          },
          "metadata": {},
          "execution_count": 48
        }
      ]
    },
    {
      "cell_type": "code",
      "source": [
        "model = MyFinalNetwork(node_dim, edge_dim, arch='GIN', num_layers=4, encoding='embedding')\n",
        "\n",
        "#Checking for a GPU\n",
        "device = torch.device('cuda' if torch.cuda.is_available() else 'cpu')\n",
        "\n",
        "#Sending model to device in preparation for training\n",
        "model = model.to(device)"
      ],
      "metadata": {
        "id": "JJ0x2IUUjOOA"
      },
      "execution_count": 49,
      "outputs": []
    },
    {
      "cell_type": "code",
      "source": [
        "train_epochs = 100\n",
        "\n",
        "# Define optimisation scheme and learning rate\n",
        "optimizer = torch.optim.AdamW(model.parameters(), lr=1e-5)\n",
        "\n",
        "# Define learning rate scheduling\n",
        "scheduler = torch.optim.lr_scheduler.OneCycleLR(optimizer, max_lr=1e-2, \\\n",
        "                                                steps_per_epoch=len(loader['train']),\n",
        "                                                epochs=train_epochs)\n",
        "\n",
        "criterion = nn.L1Loss() #Mean Absolute Error Loss Function"
      ],
      "metadata": {
        "id": "iBOi98otjTTV"
      },
      "execution_count": 50,
      "outputs": []
    },
    {
      "cell_type": "code",
      "source": [
        "# Fit the model\n",
        "best_val = float(\"inf\")\n",
        "\n",
        "learn_curve = defaultdict(list)\n",
        "func = {'train': train, 'valid': test, 'test': test}\n",
        "\n",
        "for epoch in tqdm(range(1, train_epochs+1)):\n",
        "    loss = {}\n",
        "    for mode in ['train', 'valid', 'test']:\n",
        "      loss[mode] = func[mode](loader[mode])\n",
        "      learn_curve[mode].append(loss[mode])\n",
        "    if loss['valid'] < best_val:\n",
        "      torch.save(model.state_dict(), 'best_val.model')\n",
        "    print(f'Epoch: {epoch:03d} Loss: ' + ' '.join(\n",
        "        ['{} {:.6f}'.format(m, loss[m]) for m in modes]\n",
        "      ))"
      ],
      "metadata": {
        "colab": {
          "base_uri": "https://localhost:8080/",
          "height": 85,
          "referenced_widgets": [
            "cdeeae2569a54e419a171fe776743364",
            "0180b9d5aa354265b1368c14c644a76e",
            "f40bfd991224444eb681fd76a4ee0990",
            "3796290c177e42e6b4a243bb9bf6344e",
            "242681dd5c8d4f8d8e146981d8fcd1ab",
            "4e28af0ab88543d5b85459eded101c35",
            "e5a35c857f4743f3aca9c46be69115f9",
            "c1f9af3f62ce4612b132798bb11b0b3e",
            "9a6632c7ce484608a786c0a766b9bc6e",
            "b843a5701f1444e69cef3fb1905b3a0a",
            "d62ca2fc01fd407aa4e9e285e24bddd6"
          ]
        },
        "id": "dL2qOSTsjVsh",
        "outputId": "d2b13fba-d2ab-439f-85d3-983e385d987c"
      },
      "execution_count": null,
      "outputs": [
        {
          "output_type": "display_data",
          "data": {
            "text/plain": [
              "  0%|          | 0/100 [00:00<?, ?it/s]"
            ],
            "application/vnd.jupyter.widget-view+json": {
              "version_major": 2,
              "version_minor": 0,
              "model_id": "cdeeae2569a54e419a171fe776743364"
            }
          },
          "metadata": {}
        },
        {
          "output_type": "stream",
          "name": "stdout",
          "text": [
            "Epoch: 001 Loss: train 1.969443 valid 1.952270 test 1.950766\n",
            "Epoch: 002 Loss: train 1.845925 valid 1.728919 test 1.727973\n"
          ]
        }
      ]
    },
    {
      "cell_type": "markdown",
      "source": [
        "## Plotting the Loss Curves"
      ],
      "metadata": {
        "id": "4aERy909AVAj"
      }
    },
    {
      "cell_type": "code",
      "source": [
        "fig, ax = plt.subplots()\n",
        "for m in modes:\n",
        "  ax.plot(learn_curve[m], label=m)\n",
        "ax.legend()\n",
        "ax.set_xlabel('epochs')\n",
        "ax.set_ylabel('loss')\n",
        "ax.set_yscale('log')\n",
        "plt.show()"
      ],
      "metadata": {
        "id": "30CzQc9PjWLU"
      },
      "execution_count": null,
      "outputs": []
    },
    {
      "cell_type": "markdown",
      "source": [
        "#Define function to allow predictions using model"
      ],
      "metadata": {
        "id": "CSowrJK-vYl1"
      }
    },
    {
      "cell_type": "code",
      "source": [
        "@torch.no_grad()\n",
        "def predict(loader):\n",
        "    y_pred = []\n",
        "    y_true = []\n",
        "    for data in loader:\n",
        "        data = data.to(device)\n",
        "        out = model(data.x, data.edge_index, data.edge_attr, data.batch)\n",
        "        predicted = out\n",
        "        y_true.extend(data.y.cpu().numpy())\n",
        "        y_pred.extend(predicted.cpu().numpy())\n",
        "    return y_true, y_pred"
      ],
      "metadata": {
        "id": "lefY3cWUhKWY"
      },
      "execution_count": null,
      "outputs": []
    },
    {
      "cell_type": "code",
      "source": [
        "model.load_state_dict(torch.load('best_val.model'))\n",
        "from sklearn.metrics import mean_absolute_error, mean_squared_error, mean_absolute_percentage_error\n",
        "\n",
        "y_true, y_pred = predict(loader[m])\n",
        "\n",
        "for m in ['valid', 'test']:\n",
        "  y_true, y_pred = predict(loader[m])\n",
        "  for metric in [mean_absolute_error, mean_squared_error, mean_absolute_percentage_error]:\n",
        "    print(\"{} {} {:.3f}\".format(m, metric.__name__, metric(y_true, y_pred)))"
      ],
      "metadata": {
        "id": "kGkAa7anjX6S"
      },
      "execution_count": null,
      "outputs": []
    },
    {
      "cell_type": "markdown",
      "source": [
        "#TODO\n",
        "\n",
        "- Develop MD simulation to predict properties of more diverse molecules\n",
        "- Package for developing ML potentials, with LAMMPS interface\n",
        "https://github.com/atomistic-machine-learning/schnetpack"
      ],
      "metadata": {
        "id": "SK8x6kcvJqf1"
      }
    }
  ]
}