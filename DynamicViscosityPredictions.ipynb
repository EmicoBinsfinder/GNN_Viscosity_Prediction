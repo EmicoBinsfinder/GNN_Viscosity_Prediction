{
  "nbformat": 4,
  "nbformat_minor": 0,
  "metadata": {
    "colab": {
      "provenance": [],
      "collapsed_sections": [
        "K7t4n_3jeyfq",
        "-0wT-rP3e6O9",
        "OYSXRCQbfSf_",
        "sqztOJnqgnBB",
        "Cv4Z6abrhDme",
        "xo33TydwhWlR",
        "ssel6j5EijJZ"
      ],
      "include_colab_link": true
    },
    "kernelspec": {
      "name": "python3",
      "display_name": "Python 3"
    },
    "language_info": {
      "name": "python"
    },
    "accelerator": "GPU",
    "widgets": {
      "application/vnd.jupyter.widget-state+json": {
        "5af5c820a4524397990c6668c45c7e41": {
          "model_module": "@jupyter-widgets/controls",
          "model_name": "HBoxModel",
          "model_module_version": "1.5.0",
          "state": {
            "_dom_classes": [],
            "_model_module": "@jupyter-widgets/controls",
            "_model_module_version": "1.5.0",
            "_model_name": "HBoxModel",
            "_view_count": null,
            "_view_module": "@jupyter-widgets/controls",
            "_view_module_version": "1.5.0",
            "_view_name": "HBoxView",
            "box_style": "",
            "children": [
              "IPY_MODEL_1af2a031d3f542beb3bc4f9e912386f5",
              "IPY_MODEL_3a8588c3219c4c68949fee1beec43271",
              "IPY_MODEL_6fbf4eed5b6142bb91b28db7a91c5484"
            ],
            "layout": "IPY_MODEL_cb78ce0e4f594d3f978e27a06628108b"
          }
        },
        "1af2a031d3f542beb3bc4f9e912386f5": {
          "model_module": "@jupyter-widgets/controls",
          "model_name": "HTMLModel",
          "model_module_version": "1.5.0",
          "state": {
            "_dom_classes": [],
            "_model_module": "@jupyter-widgets/controls",
            "_model_module_version": "1.5.0",
            "_model_name": "HTMLModel",
            "_view_count": null,
            "_view_module": "@jupyter-widgets/controls",
            "_view_module_version": "1.5.0",
            "_view_name": "HTMLView",
            "description": "",
            "description_tooltip": null,
            "layout": "IPY_MODEL_2552f4bb86b743f6bc3bc42a5971d3bc",
            "placeholder": "​",
            "style": "IPY_MODEL_6dbc78565bf54625b270dcbe3f9b0b87",
            "value": "100%"
          }
        },
        "3a8588c3219c4c68949fee1beec43271": {
          "model_module": "@jupyter-widgets/controls",
          "model_name": "FloatProgressModel",
          "model_module_version": "1.5.0",
          "state": {
            "_dom_classes": [],
            "_model_module": "@jupyter-widgets/controls",
            "_model_module_version": "1.5.0",
            "_model_name": "FloatProgressModel",
            "_view_count": null,
            "_view_module": "@jupyter-widgets/controls",
            "_view_module_version": "1.5.0",
            "_view_name": "ProgressView",
            "bar_style": "success",
            "description": "",
            "description_tooltip": null,
            "layout": "IPY_MODEL_1a64b8393355400aba9225521e20a9da",
            "max": 5000,
            "min": 0,
            "orientation": "horizontal",
            "style": "IPY_MODEL_db12204e2465428c9cc536dfd132ffb8",
            "value": 5000
          }
        },
        "6fbf4eed5b6142bb91b28db7a91c5484": {
          "model_module": "@jupyter-widgets/controls",
          "model_name": "HTMLModel",
          "model_module_version": "1.5.0",
          "state": {
            "_dom_classes": [],
            "_model_module": "@jupyter-widgets/controls",
            "_model_module_version": "1.5.0",
            "_model_name": "HTMLModel",
            "_view_count": null,
            "_view_module": "@jupyter-widgets/controls",
            "_view_module_version": "1.5.0",
            "_view_name": "HTMLView",
            "description": "",
            "description_tooltip": null,
            "layout": "IPY_MODEL_e8df43f70fa444a19c9aebcd92a4e1cf",
            "placeholder": "​",
            "style": "IPY_MODEL_6d1e5cf18d44476c96d023403022c360",
            "value": " 5000/5000 [00:10&lt;00:00, 519.59it/s]"
          }
        },
        "cb78ce0e4f594d3f978e27a06628108b": {
          "model_module": "@jupyter-widgets/base",
          "model_name": "LayoutModel",
          "model_module_version": "1.2.0",
          "state": {
            "_model_module": "@jupyter-widgets/base",
            "_model_module_version": "1.2.0",
            "_model_name": "LayoutModel",
            "_view_count": null,
            "_view_module": "@jupyter-widgets/base",
            "_view_module_version": "1.2.0",
            "_view_name": "LayoutView",
            "align_content": null,
            "align_items": null,
            "align_self": null,
            "border": null,
            "bottom": null,
            "display": null,
            "flex": null,
            "flex_flow": null,
            "grid_area": null,
            "grid_auto_columns": null,
            "grid_auto_flow": null,
            "grid_auto_rows": null,
            "grid_column": null,
            "grid_gap": null,
            "grid_row": null,
            "grid_template_areas": null,
            "grid_template_columns": null,
            "grid_template_rows": null,
            "height": null,
            "justify_content": null,
            "justify_items": null,
            "left": null,
            "margin": null,
            "max_height": null,
            "max_width": null,
            "min_height": null,
            "min_width": null,
            "object_fit": null,
            "object_position": null,
            "order": null,
            "overflow": null,
            "overflow_x": null,
            "overflow_y": null,
            "padding": null,
            "right": null,
            "top": null,
            "visibility": null,
            "width": null
          }
        },
        "2552f4bb86b743f6bc3bc42a5971d3bc": {
          "model_module": "@jupyter-widgets/base",
          "model_name": "LayoutModel",
          "model_module_version": "1.2.0",
          "state": {
            "_model_module": "@jupyter-widgets/base",
            "_model_module_version": "1.2.0",
            "_model_name": "LayoutModel",
            "_view_count": null,
            "_view_module": "@jupyter-widgets/base",
            "_view_module_version": "1.2.0",
            "_view_name": "LayoutView",
            "align_content": null,
            "align_items": null,
            "align_self": null,
            "border": null,
            "bottom": null,
            "display": null,
            "flex": null,
            "flex_flow": null,
            "grid_area": null,
            "grid_auto_columns": null,
            "grid_auto_flow": null,
            "grid_auto_rows": null,
            "grid_column": null,
            "grid_gap": null,
            "grid_row": null,
            "grid_template_areas": null,
            "grid_template_columns": null,
            "grid_template_rows": null,
            "height": null,
            "justify_content": null,
            "justify_items": null,
            "left": null,
            "margin": null,
            "max_height": null,
            "max_width": null,
            "min_height": null,
            "min_width": null,
            "object_fit": null,
            "object_position": null,
            "order": null,
            "overflow": null,
            "overflow_x": null,
            "overflow_y": null,
            "padding": null,
            "right": null,
            "top": null,
            "visibility": null,
            "width": null
          }
        },
        "6dbc78565bf54625b270dcbe3f9b0b87": {
          "model_module": "@jupyter-widgets/controls",
          "model_name": "DescriptionStyleModel",
          "model_module_version": "1.5.0",
          "state": {
            "_model_module": "@jupyter-widgets/controls",
            "_model_module_version": "1.5.0",
            "_model_name": "DescriptionStyleModel",
            "_view_count": null,
            "_view_module": "@jupyter-widgets/base",
            "_view_module_version": "1.2.0",
            "_view_name": "StyleView",
            "description_width": ""
          }
        },
        "1a64b8393355400aba9225521e20a9da": {
          "model_module": "@jupyter-widgets/base",
          "model_name": "LayoutModel",
          "model_module_version": "1.2.0",
          "state": {
            "_model_module": "@jupyter-widgets/base",
            "_model_module_version": "1.2.0",
            "_model_name": "LayoutModel",
            "_view_count": null,
            "_view_module": "@jupyter-widgets/base",
            "_view_module_version": "1.2.0",
            "_view_name": "LayoutView",
            "align_content": null,
            "align_items": null,
            "align_self": null,
            "border": null,
            "bottom": null,
            "display": null,
            "flex": null,
            "flex_flow": null,
            "grid_area": null,
            "grid_auto_columns": null,
            "grid_auto_flow": null,
            "grid_auto_rows": null,
            "grid_column": null,
            "grid_gap": null,
            "grid_row": null,
            "grid_template_areas": null,
            "grid_template_columns": null,
            "grid_template_rows": null,
            "height": null,
            "justify_content": null,
            "justify_items": null,
            "left": null,
            "margin": null,
            "max_height": null,
            "max_width": null,
            "min_height": null,
            "min_width": null,
            "object_fit": null,
            "object_position": null,
            "order": null,
            "overflow": null,
            "overflow_x": null,
            "overflow_y": null,
            "padding": null,
            "right": null,
            "top": null,
            "visibility": null,
            "width": null
          }
        },
        "db12204e2465428c9cc536dfd132ffb8": {
          "model_module": "@jupyter-widgets/controls",
          "model_name": "ProgressStyleModel",
          "model_module_version": "1.5.0",
          "state": {
            "_model_module": "@jupyter-widgets/controls",
            "_model_module_version": "1.5.0",
            "_model_name": "ProgressStyleModel",
            "_view_count": null,
            "_view_module": "@jupyter-widgets/base",
            "_view_module_version": "1.2.0",
            "_view_name": "StyleView",
            "bar_color": null,
            "description_width": ""
          }
        },
        "e8df43f70fa444a19c9aebcd92a4e1cf": {
          "model_module": "@jupyter-widgets/base",
          "model_name": "LayoutModel",
          "model_module_version": "1.2.0",
          "state": {
            "_model_module": "@jupyter-widgets/base",
            "_model_module_version": "1.2.0",
            "_model_name": "LayoutModel",
            "_view_count": null,
            "_view_module": "@jupyter-widgets/base",
            "_view_module_version": "1.2.0",
            "_view_name": "LayoutView",
            "align_content": null,
            "align_items": null,
            "align_self": null,
            "border": null,
            "bottom": null,
            "display": null,
            "flex": null,
            "flex_flow": null,
            "grid_area": null,
            "grid_auto_columns": null,
            "grid_auto_flow": null,
            "grid_auto_rows": null,
            "grid_column": null,
            "grid_gap": null,
            "grid_row": null,
            "grid_template_areas": null,
            "grid_template_columns": null,
            "grid_template_rows": null,
            "height": null,
            "justify_content": null,
            "justify_items": null,
            "left": null,
            "margin": null,
            "max_height": null,
            "max_width": null,
            "min_height": null,
            "min_width": null,
            "object_fit": null,
            "object_position": null,
            "order": null,
            "overflow": null,
            "overflow_x": null,
            "overflow_y": null,
            "padding": null,
            "right": null,
            "top": null,
            "visibility": null,
            "width": null
          }
        },
        "6d1e5cf18d44476c96d023403022c360": {
          "model_module": "@jupyter-widgets/controls",
          "model_name": "DescriptionStyleModel",
          "model_module_version": "1.5.0",
          "state": {
            "_model_module": "@jupyter-widgets/controls",
            "_model_module_version": "1.5.0",
            "_model_name": "DescriptionStyleModel",
            "_view_count": null,
            "_view_module": "@jupyter-widgets/base",
            "_view_module_version": "1.2.0",
            "_view_name": "StyleView",
            "description_width": ""
          }
        },
        "18959e5e948a4380a9d81d523c1ffa34": {
          "model_module": "@jupyter-widgets/controls",
          "model_name": "HBoxModel",
          "model_module_version": "1.5.0",
          "state": {
            "_dom_classes": [],
            "_model_module": "@jupyter-widgets/controls",
            "_model_module_version": "1.5.0",
            "_model_name": "HBoxModel",
            "_view_count": null,
            "_view_module": "@jupyter-widgets/controls",
            "_view_module_version": "1.5.0",
            "_view_name": "HBoxView",
            "box_style": "",
            "children": [
              "IPY_MODEL_c9907b0c41ec494e8fdbeabe329e301c",
              "IPY_MODEL_bc692b2f98fe4408bcd0fdcf55f38de5",
              "IPY_MODEL_786abd1404584369bf57f4e718786716"
            ],
            "layout": "IPY_MODEL_cf9b4bc6ca914cfd8f6cdd7507c7685d"
          }
        },
        "c9907b0c41ec494e8fdbeabe329e301c": {
          "model_module": "@jupyter-widgets/controls",
          "model_name": "HTMLModel",
          "model_module_version": "1.5.0",
          "state": {
            "_dom_classes": [],
            "_model_module": "@jupyter-widgets/controls",
            "_model_module_version": "1.5.0",
            "_model_name": "HTMLModel",
            "_view_count": null,
            "_view_module": "@jupyter-widgets/controls",
            "_view_module_version": "1.5.0",
            "_view_name": "HTMLView",
            "description": "",
            "description_tooltip": null,
            "layout": "IPY_MODEL_2d20d43a698c4970a9b03f6960348058",
            "placeholder": "​",
            "style": "IPY_MODEL_d4a252ab039544abb5df87dd6d743525",
            "value": " 21%"
          }
        },
        "bc692b2f98fe4408bcd0fdcf55f38de5": {
          "model_module": "@jupyter-widgets/controls",
          "model_name": "FloatProgressModel",
          "model_module_version": "1.5.0",
          "state": {
            "_dom_classes": [],
            "_model_module": "@jupyter-widgets/controls",
            "_model_module_version": "1.5.0",
            "_model_name": "FloatProgressModel",
            "_view_count": null,
            "_view_module": "@jupyter-widgets/controls",
            "_view_module_version": "1.5.0",
            "_view_name": "ProgressView",
            "bar_style": "",
            "description": "",
            "description_tooltip": null,
            "layout": "IPY_MODEL_23eda4deaf174e45b3cad4d79b1b6cfa",
            "max": 200,
            "min": 0,
            "orientation": "horizontal",
            "style": "IPY_MODEL_014aaa3b7aff4a3f9c4fc02881a25de9",
            "value": 42
          }
        },
        "786abd1404584369bf57f4e718786716": {
          "model_module": "@jupyter-widgets/controls",
          "model_name": "HTMLModel",
          "model_module_version": "1.5.0",
          "state": {
            "_dom_classes": [],
            "_model_module": "@jupyter-widgets/controls",
            "_model_module_version": "1.5.0",
            "_model_name": "HTMLModel",
            "_view_count": null,
            "_view_module": "@jupyter-widgets/controls",
            "_view_module_version": "1.5.0",
            "_view_name": "HTMLView",
            "description": "",
            "description_tooltip": null,
            "layout": "IPY_MODEL_aa05e8ac3c8746c4a98c847a6a607a9d",
            "placeholder": "​",
            "style": "IPY_MODEL_a095280498314c92a2d7dfa674a5f9db",
            "value": " 42/200 [17:34&lt;1:02:53, 23.89s/it]"
          }
        },
        "cf9b4bc6ca914cfd8f6cdd7507c7685d": {
          "model_module": "@jupyter-widgets/base",
          "model_name": "LayoutModel",
          "model_module_version": "1.2.0",
          "state": {
            "_model_module": "@jupyter-widgets/base",
            "_model_module_version": "1.2.0",
            "_model_name": "LayoutModel",
            "_view_count": null,
            "_view_module": "@jupyter-widgets/base",
            "_view_module_version": "1.2.0",
            "_view_name": "LayoutView",
            "align_content": null,
            "align_items": null,
            "align_self": null,
            "border": null,
            "bottom": null,
            "display": null,
            "flex": null,
            "flex_flow": null,
            "grid_area": null,
            "grid_auto_columns": null,
            "grid_auto_flow": null,
            "grid_auto_rows": null,
            "grid_column": null,
            "grid_gap": null,
            "grid_row": null,
            "grid_template_areas": null,
            "grid_template_columns": null,
            "grid_template_rows": null,
            "height": null,
            "justify_content": null,
            "justify_items": null,
            "left": null,
            "margin": null,
            "max_height": null,
            "max_width": null,
            "min_height": null,
            "min_width": null,
            "object_fit": null,
            "object_position": null,
            "order": null,
            "overflow": null,
            "overflow_x": null,
            "overflow_y": null,
            "padding": null,
            "right": null,
            "top": null,
            "visibility": null,
            "width": null
          }
        },
        "2d20d43a698c4970a9b03f6960348058": {
          "model_module": "@jupyter-widgets/base",
          "model_name": "LayoutModel",
          "model_module_version": "1.2.0",
          "state": {
            "_model_module": "@jupyter-widgets/base",
            "_model_module_version": "1.2.0",
            "_model_name": "LayoutModel",
            "_view_count": null,
            "_view_module": "@jupyter-widgets/base",
            "_view_module_version": "1.2.0",
            "_view_name": "LayoutView",
            "align_content": null,
            "align_items": null,
            "align_self": null,
            "border": null,
            "bottom": null,
            "display": null,
            "flex": null,
            "flex_flow": null,
            "grid_area": null,
            "grid_auto_columns": null,
            "grid_auto_flow": null,
            "grid_auto_rows": null,
            "grid_column": null,
            "grid_gap": null,
            "grid_row": null,
            "grid_template_areas": null,
            "grid_template_columns": null,
            "grid_template_rows": null,
            "height": null,
            "justify_content": null,
            "justify_items": null,
            "left": null,
            "margin": null,
            "max_height": null,
            "max_width": null,
            "min_height": null,
            "min_width": null,
            "object_fit": null,
            "object_position": null,
            "order": null,
            "overflow": null,
            "overflow_x": null,
            "overflow_y": null,
            "padding": null,
            "right": null,
            "top": null,
            "visibility": null,
            "width": null
          }
        },
        "d4a252ab039544abb5df87dd6d743525": {
          "model_module": "@jupyter-widgets/controls",
          "model_name": "DescriptionStyleModel",
          "model_module_version": "1.5.0",
          "state": {
            "_model_module": "@jupyter-widgets/controls",
            "_model_module_version": "1.5.0",
            "_model_name": "DescriptionStyleModel",
            "_view_count": null,
            "_view_module": "@jupyter-widgets/base",
            "_view_module_version": "1.2.0",
            "_view_name": "StyleView",
            "description_width": ""
          }
        },
        "23eda4deaf174e45b3cad4d79b1b6cfa": {
          "model_module": "@jupyter-widgets/base",
          "model_name": "LayoutModel",
          "model_module_version": "1.2.0",
          "state": {
            "_model_module": "@jupyter-widgets/base",
            "_model_module_version": "1.2.0",
            "_model_name": "LayoutModel",
            "_view_count": null,
            "_view_module": "@jupyter-widgets/base",
            "_view_module_version": "1.2.0",
            "_view_name": "LayoutView",
            "align_content": null,
            "align_items": null,
            "align_self": null,
            "border": null,
            "bottom": null,
            "display": null,
            "flex": null,
            "flex_flow": null,
            "grid_area": null,
            "grid_auto_columns": null,
            "grid_auto_flow": null,
            "grid_auto_rows": null,
            "grid_column": null,
            "grid_gap": null,
            "grid_row": null,
            "grid_template_areas": null,
            "grid_template_columns": null,
            "grid_template_rows": null,
            "height": null,
            "justify_content": null,
            "justify_items": null,
            "left": null,
            "margin": null,
            "max_height": null,
            "max_width": null,
            "min_height": null,
            "min_width": null,
            "object_fit": null,
            "object_position": null,
            "order": null,
            "overflow": null,
            "overflow_x": null,
            "overflow_y": null,
            "padding": null,
            "right": null,
            "top": null,
            "visibility": null,
            "width": null
          }
        },
        "014aaa3b7aff4a3f9c4fc02881a25de9": {
          "model_module": "@jupyter-widgets/controls",
          "model_name": "ProgressStyleModel",
          "model_module_version": "1.5.0",
          "state": {
            "_model_module": "@jupyter-widgets/controls",
            "_model_module_version": "1.5.0",
            "_model_name": "ProgressStyleModel",
            "_view_count": null,
            "_view_module": "@jupyter-widgets/base",
            "_view_module_version": "1.2.0",
            "_view_name": "StyleView",
            "bar_color": null,
            "description_width": ""
          }
        },
        "aa05e8ac3c8746c4a98c847a6a607a9d": {
          "model_module": "@jupyter-widgets/base",
          "model_name": "LayoutModel",
          "model_module_version": "1.2.0",
          "state": {
            "_model_module": "@jupyter-widgets/base",
            "_model_module_version": "1.2.0",
            "_model_name": "LayoutModel",
            "_view_count": null,
            "_view_module": "@jupyter-widgets/base",
            "_view_module_version": "1.2.0",
            "_view_name": "LayoutView",
            "align_content": null,
            "align_items": null,
            "align_self": null,
            "border": null,
            "bottom": null,
            "display": null,
            "flex": null,
            "flex_flow": null,
            "grid_area": null,
            "grid_auto_columns": null,
            "grid_auto_flow": null,
            "grid_auto_rows": null,
            "grid_column": null,
            "grid_gap": null,
            "grid_row": null,
            "grid_template_areas": null,
            "grid_template_columns": null,
            "grid_template_rows": null,
            "height": null,
            "justify_content": null,
            "justify_items": null,
            "left": null,
            "margin": null,
            "max_height": null,
            "max_width": null,
            "min_height": null,
            "min_width": null,
            "object_fit": null,
            "object_position": null,
            "order": null,
            "overflow": null,
            "overflow_x": null,
            "overflow_y": null,
            "padding": null,
            "right": null,
            "top": null,
            "visibility": null,
            "width": null
          }
        },
        "a095280498314c92a2d7dfa674a5f9db": {
          "model_module": "@jupyter-widgets/controls",
          "model_name": "DescriptionStyleModel",
          "model_module_version": "1.5.0",
          "state": {
            "_model_module": "@jupyter-widgets/controls",
            "_model_module_version": "1.5.0",
            "_model_name": "DescriptionStyleModel",
            "_view_count": null,
            "_view_module": "@jupyter-widgets/base",
            "_view_module_version": "1.2.0",
            "_view_name": "StyleView",
            "description_width": ""
          }
        }
      }
    }
  },
  "cells": [
    {
      "cell_type": "markdown",
      "metadata": {
        "id": "view-in-github",
        "colab_type": "text"
      },
      "source": [
        "<a href=\"https://colab.research.google.com/github/EmicoBinsfinder/GNN_Viscosity_Prediction/blob/main/DynamicViscosityPredictions.ipynb\" target=\"_parent\"><img src=\"https://colab.research.google.com/assets/colab-badge.svg\" alt=\"Open In Colab\"/></a>"
      ]
    },
    {
      "cell_type": "markdown",
      "source": [
        "Coding GNN for Molecular Property Prediction\n",
        "At Google Colab with vim-mode\n",
        "\n",
        "* Google Colab\n",
        "* RDKit\n",
        "* PyTorch Geometric (PyG)\n",
        "\n",
        "Agenda\n",
        "- package install & import\n",
        "- data loading\n",
        "- molecular graphs for pyg\n",
        "- train/val/test split\n",
        "- ecfp4 + random_forest\n",
        "- attentive_fp\n",
        "- gin & gatv2 with edge_attr"
      ],
      "metadata": {
        "id": "AeXL2i_EeN5M"
      }
    },
    {
      "cell_type": "markdown",
      "source": [
        "# package install & import"
      ],
      "metadata": {
        "id": "K7t4n_3jeyfq"
      }
    },
    {
      "cell_type": "markdown",
      "source": [
        "instal rdkit and pyg"
      ],
      "metadata": {
        "id": "HuAhBOKsedFL"
      }
    },
    {
      "cell_type": "code",
      "source": [
        "!pip install rdkit-pypi"
      ],
      "metadata": {
        "colab": {
          "base_uri": "https://localhost:8080/"
        },
        "collapsed": true,
        "id": "6ZGulKtZegAg",
        "outputId": "c07488b1-8d6b-4ca7-8f3c-1e4720fdcd57"
      },
      "execution_count": 129,
      "outputs": [
        {
          "output_type": "stream",
          "name": "stdout",
          "text": [
            "Requirement already satisfied: rdkit-pypi in /usr/local/lib/python3.10/dist-packages (2022.9.5)\n",
            "Requirement already satisfied: numpy in /usr/local/lib/python3.10/dist-packages (from rdkit-pypi) (1.22.4)\n",
            "Requirement already satisfied: Pillow in /usr/local/lib/python3.10/dist-packages (from rdkit-pypi) (9.4.0)\n"
          ]
        }
      ]
    },
    {
      "cell_type": "code",
      "source": [
        "import torch\n",
        "pyg_url = f\"https://data.pyg.org/whl/torch-{torch.__version__}.html\"\n",
        "!pip install torch-scatter torch-sparse torch-cluster torch-spline-conv torch-geometric -f $pyg_url\n"
      ],
      "metadata": {
        "colab": {
          "base_uri": "https://localhost:8080/"
        },
        "collapsed": true,
        "id": "hUEMPxhTehri",
        "outputId": "780a700b-6522-429f-8cd0-572999a5556e"
      },
      "execution_count": 130,
      "outputs": [
        {
          "output_type": "stream",
          "name": "stdout",
          "text": [
            "Looking in links: https://data.pyg.org/whl/torch-2.0.1+cu118.html\n",
            "Requirement already satisfied: torch-scatter in /usr/local/lib/python3.10/dist-packages (2.1.1+pt20cu118)\n",
            "Requirement already satisfied: torch-sparse in /usr/local/lib/python3.10/dist-packages (0.6.17+pt20cu118)\n",
            "Requirement already satisfied: torch-cluster in /usr/local/lib/python3.10/dist-packages (1.6.1+pt20cu118)\n",
            "Requirement already satisfied: torch-spline-conv in /usr/local/lib/python3.10/dist-packages (1.2.2+pt20cu118)\n",
            "Requirement already satisfied: torch-geometric in /usr/local/lib/python3.10/dist-packages (2.3.1)\n",
            "Requirement already satisfied: scipy in /usr/local/lib/python3.10/dist-packages (from torch-sparse) (1.10.1)\n",
            "Requirement already satisfied: tqdm in /usr/local/lib/python3.10/dist-packages (from torch-geometric) (4.65.0)\n",
            "Requirement already satisfied: numpy in /usr/local/lib/python3.10/dist-packages (from torch-geometric) (1.22.4)\n",
            "Requirement already satisfied: jinja2 in /usr/local/lib/python3.10/dist-packages (from torch-geometric) (3.1.2)\n",
            "Requirement already satisfied: requests in /usr/local/lib/python3.10/dist-packages (from torch-geometric) (2.27.1)\n",
            "Requirement already satisfied: pyparsing in /usr/local/lib/python3.10/dist-packages (from torch-geometric) (3.1.0)\n",
            "Requirement already satisfied: scikit-learn in /usr/local/lib/python3.10/dist-packages (from torch-geometric) (1.2.2)\n",
            "Requirement already satisfied: psutil>=5.8.0 in /usr/local/lib/python3.10/dist-packages (from torch-geometric) (5.9.5)\n",
            "Requirement already satisfied: MarkupSafe>=2.0 in /usr/local/lib/python3.10/dist-packages (from jinja2->torch-geometric) (2.1.3)\n",
            "Requirement already satisfied: urllib3<1.27,>=1.21.1 in /usr/local/lib/python3.10/dist-packages (from requests->torch-geometric) (1.26.16)\n",
            "Requirement already satisfied: certifi>=2017.4.17 in /usr/local/lib/python3.10/dist-packages (from requests->torch-geometric) (2023.7.22)\n",
            "Requirement already satisfied: charset-normalizer~=2.0.0 in /usr/local/lib/python3.10/dist-packages (from requests->torch-geometric) (2.0.12)\n",
            "Requirement already satisfied: idna<4,>=2.5 in /usr/local/lib/python3.10/dist-packages (from requests->torch-geometric) (3.4)\n",
            "Requirement already satisfied: joblib>=1.1.1 in /usr/local/lib/python3.10/dist-packages (from scikit-learn->torch-geometric) (1.3.1)\n",
            "Requirement already satisfied: threadpoolctl>=2.0.0 in /usr/local/lib/python3.10/dist-packages (from scikit-learn->torch-geometric) (3.2.0)\n"
          ]
        }
      ]
    },
    {
      "cell_type": "code",
      "source": [
        "!git clone https://github.com/EmicoBinsfinder/GNN_Viscosity_Prediction.git"
      ],
      "metadata": {
        "id": "CwOd3lll-rWI",
        "outputId": "10c4db37-cd2f-4977-ef90-117513262846",
        "colab": {
          "base_uri": "https://localhost:8080/"
        }
      },
      "execution_count": 131,
      "outputs": [
        {
          "output_type": "stream",
          "name": "stdout",
          "text": [
            "fatal: destination path 'GNN_Viscosity_Prediction' already exists and is not an empty directory.\n"
          ]
        }
      ]
    },
    {
      "cell_type": "markdown",
      "source": [
        "import"
      ],
      "metadata": {
        "id": "p2-zGec4ewps"
      }
    },
    {
      "cell_type": "code",
      "source": [
        "import sys\n",
        "import urllib.request\n",
        "from collections import defaultdict\n",
        "\n",
        "import numpy as np\n",
        "import pandas as pd\n",
        "import matplotlib.pyplot as plt\n",
        "import networkx as nx\n",
        "from tqdm.notebook import tqdm\n",
        "\n",
        "from rdkit import Chem\n",
        "from rdkit.Chem import AllChem, Draw\n",
        "from rdkit.Chem.Draw import IPythonConsole\n",
        "\n",
        "import torch.nn as nn\n",
        "import torch.nn.functional as F\n",
        "from torch.utils.data import Dataset, Subset\n",
        "\n",
        "from torch_geometric.data import Data\n",
        "from torch_geometric.loader import DataLoader\n",
        "from torch_geometric.utils import to_networkx\n"
      ],
      "metadata": {
        "id": "jQ5zg5uBejZH"
      },
      "execution_count": 132,
      "outputs": []
    },
    {
      "cell_type": "code",
      "source": [
        "!curl -O https://raw.githubusercontent.com/itakigawa/mpl_rdkit_utils/main/mpl_rdkit_utils.py\n",
        "\n",
        "from mpl_rdkit_utils import DrawMolToMPL\n",
        "\n",
        "def plot_mol_graph(graph, figsize=(8, 4), edge_label=True):\n",
        "  g = to_networkx(graph, to_undirected=True)\n",
        "  edge_dict = defaultdict(list)\n",
        "  for i, e in enumerate(zip(*graph.edge_index.tolist())):\n",
        "    u, v = e\n",
        "    edge_dict[(u, v)].append(i)\n",
        "    edge_dict[(v, u)].append(i)\n",
        "  labels = {e: \"{},{}\".format(*edge_dict[e]) for e in g.edges}\n",
        "\n",
        "  mol = graph.mol\n",
        "  AllChem.Compute2DCoords(mol)\n",
        "  pos = mol.GetConformers()[0].GetPositions()[:,:2]\n",
        "\n",
        "  fig, ax = plt.subplots(1, 2, figsize=figsize)\n",
        "  node_size=300\n",
        "  nx.draw_networkx(g, pos, ax=ax[0], node_color='#eee', \\\n",
        "                   node_size=node_size, edgecolors='k')\n",
        "  if edge_label:\n",
        "    nx.draw_networkx_edge_labels(g, pos, ax=ax[0], edge_labels=labels,\\\n",
        "                                font_color='blue', rotate=False)\n",
        "  dpi = plt.rcParams[\"figure.dpi\"]\n",
        "  node_radius = (node_size / 3.14159265359)**0.5 / dpi\n",
        "  ax[0].set_axis_off()\n",
        "  ax[0].set_aspect('equal')\n",
        "  xmin, xmax = ax[0].get_xlim()\n",
        "  ymin, ymax = ax[0].get_ylim()\n",
        "  fs = min(*figsize)\n",
        "  xr = node_radius * fs\n",
        "  yr = node_radius * fs\n",
        "  ax[0].set_xlim(xmin-xr, xmax+xr)\n",
        "  ax[0].set_ylim(ymin-yr, ymax+yr)\n",
        "\n",
        "  (xmin, xmax), (ymin, ymax) = DrawMolToMPL(mol, fig, ax[1])\n",
        "  ax[1].set_xlim(xmin, xmax)\n",
        "  ax[1].set_ylim(ymin, ymax)\n",
        "  ax[1].get_xaxis().set_visible(False)\n",
        "  ax[1].get_yaxis().set_visible(False)\n",
        "  plt.tight_layout()\n",
        "  plt.show()"
      ],
      "metadata": {
        "colab": {
          "base_uri": "https://localhost:8080/"
        },
        "id": "EKZfWBfve3SJ",
        "outputId": "edc28bf1-a409-410c-b921-134bc8198a2a"
      },
      "execution_count": 133,
      "outputs": [
        {
          "output_type": "stream",
          "name": "stdout",
          "text": [
            "  % Total    % Received % Xferd  Average Speed   Time    Time     Time  Current\n",
            "                                 Dload  Upload   Total   Spent    Left  Speed\n",
            "100  7540  100  7540    0     0  25443      0 --:--:-- --:--:-- --:--:-- 25387\n"
          ]
        }
      ]
    },
    {
      "cell_type": "markdown",
      "source": [
        "# data loading"
      ],
      "metadata": {
        "id": "-0wT-rP3e6O9"
      }
    },
    {
      "cell_type": "code",
      "source": [
        "df = pd.read_csv('/content/GNN_Viscosity_Prediction/Dataset.csv')"
      ],
      "metadata": {
        "id": "A_Tp2S2N-53i"
      },
      "execution_count": 134,
      "outputs": []
    },
    {
      "cell_type": "code",
      "source": [
        "ID_list = list(range(len(df)))\n",
        "df['ID'] = ID_list\n",
        "df = df.rename(columns = {'0':'id'})\n",
        "df = df[['smiles', 'ID', 'DVI']]\n",
        "df = df.dropna()\n",
        "df = df.drop_duplicates()\n",
        "df.to_csv('input.csv')"
      ],
      "metadata": {
        "id": "xGZIfaLT_Od0"
      },
      "execution_count": 135,
      "outputs": []
    },
    {
      "cell_type": "code",
      "source": [
        "df.head()\n",
        "len(df)"
      ],
      "metadata": {
        "colab": {
          "base_uri": "https://localhost:8080/"
        },
        "id": "v033LEAsfD4i",
        "outputId": "20014dc4-344b-4a2c-c54b-815833b84c85"
      },
      "execution_count": 136,
      "outputs": [
        {
          "output_type": "execute_result",
          "data": {
            "text/plain": [
              "54338"
            ]
          },
          "metadata": {},
          "execution_count": 136
        }
      ]
    },
    {
      "cell_type": "code",
      "source": [
        "df = pd.read_csv('input.csv', index_col=0)\n",
        "smi = df['smiles'][9314]\n",
        "mol = Chem.MolFromSmiles(smi)"
      ],
      "metadata": {
        "id": "Yp0SaCL2fLBn"
      },
      "execution_count": 137,
      "outputs": []
    },
    {
      "cell_type": "code",
      "source": [
        "smi"
      ],
      "metadata": {
        "colab": {
          "base_uri": "https://localhost:8080/",
          "height": 36
        },
        "id": "A8m9k9EXfN6y",
        "outputId": "7ec70d06-fbe1-40db-f44d-79e771f60e62"
      },
      "execution_count": 138,
      "outputs": [
        {
          "output_type": "execute_result",
          "data": {
            "text/plain": [
              "'COCOCC=CCCC=CCCCCOC(C=Cc1ccccc1)OCc1ccccc1'"
            ],
            "application/vnd.google.colaboratory.intrinsic+json": {
              "type": "string"
            }
          },
          "metadata": {},
          "execution_count": 138
        }
      ]
    },
    {
      "cell_type": "code",
      "source": [
        "mol"
      ],
      "metadata": {
        "colab": {
          "base_uri": "https://localhost:8080/",
          "height": 167
        },
        "id": "4WoogatLfOxS",
        "outputId": "73e1f88d-af4f-49bc-f226-c503000695ca"
      },
      "execution_count": 139,
      "outputs": [
        {
          "output_type": "execute_result",
          "data": {
            "text/plain": [
              "<rdkit.Chem.rdchem.Mol at 0x7be708752420>"
            ],
            "image/png": "[encoded data removed]"
          },
          "metadata": {},
          "execution_count": 139
        }
      ]
    },
    {
      "cell_type": "code",
      "source": [
        "df.shape"
      ],
      "metadata": {
        "colab": {
          "base_uri": "https://localhost:8080/"
        },
        "id": "GOUstnJmfPrm",
        "outputId": "3d3db912-8991-4034-c39f-6166a9c8cf5a"
      },
      "execution_count": 140,
      "outputs": [
        {
          "output_type": "execute_result",
          "data": {
            "text/plain": [
              "(54338, 3)"
            ]
          },
          "metadata": {},
          "execution_count": 140
        }
      ]
    },
    {
      "cell_type": "markdown",
      "source": [
        "# molecular graphs for pyg"
      ],
      "metadata": {
        "id": "OYSXRCQbfSf_"
      }
    },
    {
      "cell_type": "code",
      "source": [
        "edges = []\n",
        "for bond in mol.GetBonds():\n",
        "  i = bond.GetBeginAtomIdx()\n",
        "  j = bond.GetEndAtomIdx()\n",
        "  edges.extend([(i,j), (j,i)])"
      ],
      "metadata": {
        "id": "mU0fBxC2fXtm"
      },
      "execution_count": 141,
      "outputs": []
    },
    {
      "cell_type": "code",
      "source": [
        "edge_index = list(zip(*edges))"
      ],
      "metadata": {
        "id": "160paKLgfhxr"
      },
      "execution_count": 142,
      "outputs": []
    },
    {
      "cell_type": "code",
      "source": [
        "edge_index"
      ],
      "metadata": {
        "id": "fVP2vpu6fp_k"
      },
      "execution_count": null,
      "outputs": []
    },
    {
      "cell_type": "code",
      "source": [
        "def atom_feature(atom):\n",
        "  return [atom.GetAtomicNum(),\n",
        "          atom.GetDegree(),\n",
        "          atom.GetNumImplicitHs(),\n",
        "          atom.GetIsAromatic()]\n",
        "\n",
        "def bond_feature(bond):\n",
        "  return [bond.GetBondType(),\n",
        "          bond.GetStereo()]"
      ],
      "metadata": {
        "id": "9ZjFm-hhfrKa"
      },
      "execution_count": 144,
      "outputs": []
    },
    {
      "cell_type": "code",
      "source": [
        "node_features = [atom_feature(a) for a in mol.GetAtoms()]\n",
        "edge_features = [bond_feature(b) for b in mol.GetBonds()]"
      ],
      "metadata": {
        "id": "6to7lweeft-g"
      },
      "execution_count": 145,
      "outputs": []
    },
    {
      "cell_type": "code",
      "source": [
        "g = Data(edge_index=torch.LongTensor(edge_index),\n",
        "         x=torch.FloatTensor(node_features),\n",
        "         edge_attr=torch.FloatTensor(edge_features),\n",
        "         smiles=smi,\n",
        "         mol=mol)"
      ],
      "metadata": {
        "id": "QhLrZE2Cf4Cs"
      },
      "execution_count": 146,
      "outputs": []
    },
    {
      "cell_type": "code",
      "source": [
        "g"
      ],
      "metadata": {
        "colab": {
          "base_uri": "https://localhost:8080/"
        },
        "id": "Tv-3d9VdgH1o",
        "outputId": "04be3403-a408-4215-8123-c02cf57d5da0"
      },
      "execution_count": 147,
      "outputs": [
        {
          "output_type": "execute_result",
          "data": {
            "text/plain": [
              "Data(x=[33, 4], edge_index=[2, 68], edge_attr=[34, 2], smiles='COCOCC=CCCC=CCCCCOC(C=Cc1ccccc1)OCc1ccccc1', mol=<rdkit.Chem.rdchem.Mol object at 0x7be708752420>)"
            ]
          },
          "metadata": {},
          "execution_count": 147
        }
      ]
    },
    {
      "cell_type": "code",
      "source": [
        "plot_mol_graph(g)"
      ],
      "metadata": {
        "colab": {
          "base_uri": "https://localhost:8080/",
          "height": 180
        },
        "id": "1H-15y8ngQGz",
        "outputId": "e30bc458-aff0-498e-a4f3-184b713b6f28"
      },
      "execution_count": 148,
      "outputs": [
        {
          "output_type": "display_data",
          "data": {
            "text/plain": [
              "<Figure size 800x400 with 2 Axes>"
            ],
            "image/png": "[encoded data removed]"
          },
          "metadata": {}
        }
      ]
    },
    {
      "cell_type": "code",
      "source": [
        "def smi_to_pyg(smi, y):\n",
        "    mol = Chem.MolFromSmiles(smi)\n",
        "    if mol is None:\n",
        "      return None\n",
        "\n",
        "    id_pairs = ((b.GetBeginAtomIdx(), b.GetEndAtomIdx()) for b in mol.GetBonds())\n",
        "    atom_pairs = [z for (i, j) in id_pairs for z in ((i, j), (j, i))]\n",
        "\n",
        "    bonds = (mol.GetBondBetweenAtoms(i, j) for (i, j) in atom_pairs)\n",
        "    atom_features = [atom_feature(a) for a in mol.GetAtoms()]\n",
        "    bond_features = [bond_feature(b) for b in bonds]\n",
        "\n",
        "    return Data(edge_index=torch.LongTensor(list(zip(*atom_pairs))),\n",
        "                x=torch.FloatTensor(atom_features),\n",
        "                edge_attr=torch.FloatTensor(bond_features),\n",
        "                y=torch.LongTensor([y]),\n",
        "                mol=mol,\n",
        "                smiles=smi)"
      ],
      "metadata": {
        "id": "RuvR_EJxgS7k"
      },
      "execution_count": 149,
      "outputs": []
    },
    {
      "cell_type": "code",
      "source": [
        "class MyDataset(Dataset):\n",
        "  def __init__(self, smiles, response):\n",
        "    mols = [smi_to_pyg(smi, y) for smi, y in \\\n",
        "            tqdm(zip(smiles, response), total=len(smiles))]\n",
        "    self.X = [m for m in mols if m]\n",
        "\n",
        "  def __getitem__(self, idx):\n",
        "    return self.X[idx]\n",
        "\n",
        "  def __len__(self):\n",
        "    return len(self.X)"
      ],
      "metadata": {
        "id": "v6Lv34ycgdpa"
      },
      "execution_count": 150,
      "outputs": []
    },
    {
      "cell_type": "code",
      "source": [
        "base_dataset = MyDataset(df['smiles'].head(5000), df['DVI'].head(5000))"
      ],
      "metadata": {
        "colab": {
          "base_uri": "https://localhost:8080/",
          "referenced_widgets": [
            "5af5c820a4524397990c6668c45c7e41",
            "1af2a031d3f542beb3bc4f9e912386f5",
            "3a8588c3219c4c68949fee1beec43271",
            "6fbf4eed5b6142bb91b28db7a91c5484",
            "cb78ce0e4f594d3f978e27a06628108b",
            "2552f4bb86b743f6bc3bc42a5971d3bc",
            "6dbc78565bf54625b270dcbe3f9b0b87",
            "1a64b8393355400aba9225521e20a9da",
            "db12204e2465428c9cc536dfd132ffb8",
            "e8df43f70fa444a19c9aebcd92a4e1cf",
            "6d1e5cf18d44476c96d023403022c360"
          ],
          "height": 49
        },
        "id": "JAkSRLgBgfaL",
        "outputId": "1e7f9c3f-a202-426a-df9c-9c36a45f0dc1"
      },
      "execution_count": 151,
      "outputs": [
        {
          "output_type": "display_data",
          "data": {
            "text/plain": [
              "  0%|          | 0/5000 [00:00<?, ?it/s]"
            ],
            "application/vnd.jupyter.widget-view+json": {
              "version_major": 2,
              "version_minor": 0,
              "model_id": "5af5c820a4524397990c6668c45c7e41"
            }
          },
          "metadata": {}
        }
      ]
    },
    {
      "cell_type": "code",
      "source": [
        "g = base_dataset[8]\n",
        "plot_mol_graph(g, figsize=(6, 3), edge_label=True)"
      ],
      "metadata": {
        "colab": {
          "base_uri": "https://localhost:8080/",
          "height": 125
        },
        "id": "vfG7Aa2rgiEN",
        "outputId": "b2e8e025-43f2-4d88-b726-b19be5512c7d"
      },
      "execution_count": 152,
      "outputs": [
        {
          "output_type": "display_data",
          "data": {
            "text/plain": [
              "<Figure size 600x300 with 2 Axes>"
            ],
            "image/png": "[encoded data removed]"
          },
          "metadata": {}
        }
      ]
    },
    {
      "cell_type": "code",
      "source": [
        "g"
      ],
      "metadata": {
        "colab": {
          "base_uri": "https://localhost:8080/"
        },
        "id": "UJa-cYoBgqXC",
        "outputId": "dd7ae06c-c3cd-4fc0-d0d2-a17a074a9a97"
      },
      "execution_count": 153,
      "outputs": [
        {
          "output_type": "execute_result",
          "data": {
            "text/plain": [
              "Data(x=[35, 4], edge_index=[2, 72], edge_attr=[72, 2], y=[1], mol=<rdkit.Chem.rdchem.Mol object at 0x7be708bfb290>, smiles='COCOCC=CCCOCC=CCCOCCCOC(CCC1CCCCC1)c1ccccc1')"
            ]
          },
          "metadata": {},
          "execution_count": 153
        }
      ]
    },
    {
      "cell_type": "code",
      "source": [
        "g.x"
      ],
      "metadata": {
        "id": "-XtrliCAgw3m"
      },
      "execution_count": null,
      "outputs": []
    },
    {
      "cell_type": "code",
      "source": [
        "g.edge_attr"
      ],
      "metadata": {
        "id": "ycbArxGygy70"
      },
      "execution_count": null,
      "outputs": []
    },
    {
      "cell_type": "code",
      "source": [
        "g.edge_index"
      ],
      "metadata": {
        "id": "HxOWuE7Pg6Qx"
      },
      "execution_count": null,
      "outputs": []
    },
    {
      "cell_type": "markdown",
      "source": [
        "# train/val/test split"
      ],
      "metadata": {
        "id": "sqztOJnqgnBB"
      }
    },
    {
      "cell_type": "code",
      "source": [
        "N = len(base_dataset)\n",
        "M = N // 10\n",
        "\n",
        "indices = np.random.permutation(range(N))\n",
        "\n",
        "idx = {'train': indices[:8*M],\n",
        "      'valid': indices[8*M:9*M],\n",
        "      'test': indices[9*M:]}\n",
        "\n",
        "modes = ['train', 'valid', 'test']"
      ],
      "metadata": {
        "id": "g6VegArxg_DV"
      },
      "execution_count": 157,
      "outputs": []
    },
    {
      "cell_type": "code",
      "source": [
        "dataset = {m: Subset(base_dataset, idx[m]) for m in modes}\n",
        "loader = {m: DataLoader(dataset[m], batch_size=2, shuffle=True) if m == 'train' \\\n",
        "          else DataLoader(dataset[m], batch_size=2) for m in modes}"
      ],
      "metadata": {
        "id": "fPgtFrPEhBip"
      },
      "execution_count": 158,
      "outputs": []
    },
    {
      "cell_type": "markdown",
      "source": [
        "# gin & gatv2 with edge_attr"
      ],
      "metadata": {
        "id": "ssel6j5EijJZ"
      }
    },
    {
      "cell_type": "code",
      "source": [
        "from torch_geometric.nn import GINEConv, GATv2Conv, global_add_pool"
      ],
      "metadata": {
        "id": "Z-kbDnLmijqi"
      },
      "execution_count": 159,
      "outputs": []
    },
    {
      "cell_type": "code",
      "source": [
        "def MyConv(node_dim, edge_dim, arch='GIN'):\n",
        "  conv = None\n",
        "  if arch == 'GIN':\n",
        "    h = nn.Sequential(nn.Linear(node_dim, node_dim, bias=True))\n",
        "    conv = GINEConv(h, edge_dim=edge_dim)\n",
        "  elif arch == 'GAT':\n",
        "    conv = GATv2Conv(node_dim, node_dim, edge_dim=edge_dim)\n",
        "  return conv"
      ],
      "metadata": {
        "id": "Fb8UX7t-ilou"
      },
      "execution_count": 160,
      "outputs": []
    },
    {
      "cell_type": "code",
      "source": [
        "class MyGNN(nn.Module):\n",
        "  def __init__(self, node_dim, edge_dim, arch, num_layers=3):\n",
        "    super().__init__()\n",
        "    layers = [MyConv(node_dim, edge_dim, arch) for _ in range(num_layers)]\n",
        "    self.convs = nn.ModuleList(layers)\n",
        "\n",
        "  def forward(self, x, edge_index, edge_attr):\n",
        "    for conv in self.convs:\n",
        "      x = conv(x, edge_index, edge_attr)\n",
        "      x = F.leaky_relu(x)\n",
        "    return x"
      ],
      "metadata": {
        "id": "RJLkx0swiwEg"
      },
      "execution_count": 161,
      "outputs": []
    },
    {
      "cell_type": "code",
      "source": [
        "[int(x) for x in Chem.rdchem.BondType.names.values()]"
      ],
      "metadata": {
        "colab": {
          "base_uri": "https://localhost:8080/"
        },
        "id": "9Dq0tALLi2nr",
        "outputId": "01947b1f-c816-4327-bab5-12a5cecaca8c"
      },
      "execution_count": 162,
      "outputs": [
        {
          "output_type": "execute_result",
          "data": {
            "text/plain": [
              "[0, 1, 2, 3, 4, 5, 6, 7, 8, 9, 10, 11, 12, 13, 14, 15, 16, 17, 18, 19, 20, 21]"
            ]
          },
          "metadata": {},
          "execution_count": 162
        }
      ]
    },
    {
      "cell_type": "code",
      "source": [
        "ptable = Chem.GetPeriodicTable()\n",
        "for i in range(200):\n",
        "  try:\n",
        "    s = ptable.GetElementSymbol(i)\n",
        "  except:\n",
        "    print(f'max id {i-1} for {s}')\n",
        "    break\n",
        "ptable.GetElementSymbol(i-1)"
      ],
      "metadata": {
        "colab": {
          "base_uri": "https://localhost:8080/",
          "height": 218
        },
        "id": "CCyjdtiEi2_0",
        "outputId": "c9243cc0-6da0-469c-87df-97a88e5743f0"
      },
      "execution_count": 163,
      "outputs": [
        {
          "output_type": "stream",
          "name": "stdout",
          "text": [
            "max id 118 for Og\n"
          ]
        },
        {
          "output_type": "stream",
          "name": "stderr",
          "text": [
            "[17:37:23] \n",
            "\n",
            "****\n",
            "Pre-condition Violation\n",
            "Atomic number not found\n",
            "Violation occurred on line 99 in file /project/build/temp.linux-x86_64-cpython-310/rdkit/Code/GraphMol/PeriodicTable.h\n",
            "Failed Expression: atomicNumber < byanum.size()\n",
            "****\n",
            "\n"
          ]
        },
        {
          "output_type": "execute_result",
          "data": {
            "text/plain": [
              "'Og'"
            ],
            "application/vnd.google.colaboratory.intrinsic+json": {
              "type": "string"
            }
          },
          "metadata": {},
          "execution_count": 163
        }
      ]
    },
    {
      "cell_type": "code",
      "source": [
        "class MyFinalNetwork(nn.Module):\n",
        "  def __init__(self, node_dim, edge_dim, arch, num_layers=3,\n",
        "               encoding='onehot'):\n",
        "    super().__init__()\n",
        "\n",
        "    self.encoding = encoding\n",
        "    if encoding != 'onehot':\n",
        "      self.atom_encoder = nn.Embedding(num_embeddings=118+1, embedding_dim=64)\n",
        "      self.bond_encoder = nn.Embedding(num_embeddings=21+1, embedding_dim=8)\n",
        "      node_dim = (node_dim-1) + 64\n",
        "      edge_dim = (edge_dim-1) + 8\n",
        "    else:\n",
        "      node_dim = (node_dim-1) + 118+1\n",
        "      edge_dim = (edge_dim-1) + 21+1\n",
        "\n",
        "    self.gnn = MyGNN(node_dim, edge_dim, arch, num_layers=num_layers)\n",
        "    embed_dim = int(node_dim / 2)\n",
        "    self.head = nn.Sequential(\n",
        "        nn.BatchNorm1d(node_dim),\n",
        "        nn.Dropout(p=0.5),\n",
        "        nn.Linear(node_dim, embed_dim, bias=True),\n",
        "        nn.ReLU(),\n",
        "        nn.BatchNorm1d(embed_dim),\n",
        "        nn.Dropout(p=0.5),\n",
        "        nn.Linear(embed_dim, 1)\n",
        "    )\n",
        "  def forward(self, x, edge_index, edge_attr, batch):\n",
        "    if self.encoding == 'onehot':\n",
        "      x0 = F.one_hot(x[:, 0].to(torch.int64), num_classes=118+1)\n",
        "      edge_attr0 = F.one_hot(edge_attr[:, 0].to(torch.int64), num_classes=21+1)\n",
        "    else:\n",
        "      x0 = self.atom_encoder(x[:, 0].int())\n",
        "      edge_attr0 = self.bond_encoder(edge_attr[:, 0].int())\n",
        "\n",
        "    x = torch.cat([x0, x[:, 1:]], dim=1)\n",
        "    edge_attr = torch.cat([edge_attr0, edge_attr[:, 1:]], dim=1)\n",
        "\n",
        "    node_out = self.gnn(x, edge_index, edge_attr)\n",
        "    graph_out = global_add_pool(node_out, batch)\n",
        "    return self.head(graph_out)"
      ],
      "metadata": {
        "id": "reAjD8jIi5cm"
      },
      "execution_count": 164,
      "outputs": []
    },
    {
      "cell_type": "code",
      "source": [
        "node_dim = base_dataset[0].num_node_features\n",
        "edge_dim = base_dataset[0].num_edge_features\n",
        "node_dim, edge_dim"
      ],
      "metadata": {
        "id": "CgA79M0ty3Td",
        "outputId": "d03205c6-0beb-49bc-dbf6-996e1885cefa",
        "colab": {
          "base_uri": "https://localhost:8080/"
        }
      },
      "execution_count": 165,
      "outputs": [
        {
          "output_type": "execute_result",
          "data": {
            "text/plain": [
              "(4, 2)"
            ]
          },
          "metadata": {},
          "execution_count": 165
        }
      ]
    },
    {
      "cell_type": "code",
      "source": [
        "model = MyFinalNetwork(node_dim, edge_dim, arch='GAT', num_layers=3, encoding='embedding')\n",
        "device = torch.device('cuda' if torch.cuda.is_available() else 'cpu')\n",
        "model = model.to(device)\n",
        "device"
      ],
      "metadata": {
        "id": "JJ0x2IUUjOOA",
        "outputId": "d4a85209-bf42-4101-d772-19ca1bc6f813",
        "colab": {
          "base_uri": "https://localhost:8080/"
        }
      },
      "execution_count": 166,
      "outputs": [
        {
          "output_type": "execute_result",
          "data": {
            "text/plain": [
              "device(type='cuda')"
            ]
          },
          "metadata": {},
          "execution_count": 166
        }
      ]
    },
    {
      "cell_type": "code",
      "source": [
        "train_epochs = 200\n",
        "optimizer = torch.optim.AdamW(model.parameters(), lr=1e-5)\n",
        "scheduler = torch.optim.lr_scheduler.OneCycleLR(optimizer, max_lr=1e-3, \\\n",
        "                                                steps_per_epoch=len(loader['train']),\n",
        "                                                epochs=train_epochs)\n",
        "criterion = nn.MSELoss()"
      ],
      "metadata": {
        "id": "iBOi98otjTTV"
      },
      "execution_count": 167,
      "outputs": []
    },
    {
      "cell_type": "code",
      "source": [
        "def train(loader):\n",
        "    total_loss = total_examples = 0\n",
        "    for data in loader:\n",
        "        data = data.to(device)\n",
        "        optimizer.zero_grad()\n",
        "        out = model(data.x, data.edge_index, data.edge_attr, data.batch)\n",
        "        loss = criterion(out, data.y.float())\n",
        "        loss.backward()\n",
        "        optimizer.step()\n",
        "        scheduler.step()\n",
        "        total_loss += loss.item()\n",
        "        total_examples += data.num_graphs\n",
        "    return total_loss / total_examples\n",
        "\n",
        "@torch.no_grad()\n",
        "def test(loader):\n",
        "    total_loss = total_examples = 0\n",
        "    for data in loader:\n",
        "        data = data.to(device)\n",
        "        out = model(data.x, data.edge_index, data.edge_attr, data.batch)\n",
        "        loss = criterion(out, data.y.float())\n",
        "        total_loss += loss.item()\n",
        "        total_examples += data.num_graphs\n",
        "    return total_loss / total_examples\n",
        "\n",
        "@torch.no_grad()\n",
        "def predict(loader):\n",
        "    y_pred = []\n",
        "    y_true = []\n",
        "    for data in loader:\n",
        "        data = data.to(device)\n",
        "        out = model(data.x, data.edge_index, data.edge_attr, data.batch)\n",
        "        _, predicted = torch.max(out.data, 1)\n",
        "        y_true.extend(data.y.cpu().numpy())\n",
        "        y_pred.extend(predicted.cpu().numpy())\n",
        "    return y_true, y_pred"
      ],
      "metadata": {
        "id": "ca6r1mlazDzI"
      },
      "execution_count": 168,
      "outputs": []
    },
    {
      "cell_type": "code",
      "source": [
        "best_val = float(\"inf\")\n",
        "\n",
        "learn_curve = defaultdict(list)\n",
        "func = {'train': train, 'valid': test, 'test': test}\n",
        "\n",
        "for epoch in tqdm(range(1, train_epochs+1)):\n",
        "    loss = {}\n",
        "    for mode in ['train', 'valid', 'test']:\n",
        "      loss[mode] = func[mode](loader[mode])\n",
        "      learn_curve[mode].append(loss[mode])\n",
        "    if loss['valid'] < best_val:\n",
        "      torch.save(model.state_dict(), 'best_val.model')\n",
        "    if epoch % 2 == 0:\n",
        "      print(f'Epoch: {epoch:03d} Loss: ' + ' '.join(\n",
        "          ['{} {:.6f}'.format(m, loss[m]) for m in modes]\n",
        "      ))"
      ],
      "metadata": {
        "colab": {
          "base_uri": "https://localhost:8080/",
          "height": 489,
          "referenced_widgets": [
            "18959e5e948a4380a9d81d523c1ffa34",
            "c9907b0c41ec494e8fdbeabe329e301c",
            "bc692b2f98fe4408bcd0fdcf55f38de5",
            "786abd1404584369bf57f4e718786716",
            "cf9b4bc6ca914cfd8f6cdd7507c7685d",
            "2d20d43a698c4970a9b03f6960348058",
            "d4a252ab039544abb5df87dd6d743525",
            "23eda4deaf174e45b3cad4d79b1b6cfa",
            "014aaa3b7aff4a3f9c4fc02881a25de9",
            "aa05e8ac3c8746c4a98c847a6a607a9d",
            "a095280498314c92a2d7dfa674a5f9db"
          ]
        },
        "id": "dL2qOSTsjVsh",
        "outputId": "afc8787b-6d97-49bf-b2b1-09b80dceab2c"
      },
      "execution_count": null,
      "outputs": [
        {
          "output_type": "display_data",
          "data": {
            "text/plain": [
              "  0%|          | 0/200 [00:00<?, ?it/s]"
            ],
            "application/vnd.jupyter.widget-view+json": {
              "version_major": 2,
              "version_minor": 0,
              "model_id": "18959e5e948a4380a9d81d523c1ffa34"
            }
          },
          "metadata": {}
        },
        {
          "output_type": "stream",
          "name": "stderr",
          "text": [
            "/usr/local/lib/python3.10/dist-packages/torch/nn/modules/loss.py:536: UserWarning: Using a target size (torch.Size([2])) that is different to the input size (torch.Size([2, 1])). This will likely lead to incorrect results due to broadcasting. Please ensure they have the same size.\n",
            "  return F.mse_loss(input, target, reduction=self.reduction)\n"
          ]
        },
        {
          "output_type": "stream",
          "name": "stdout",
          "text": [
            "Epoch: 002 Loss: train 11500.807555 valid 11443.349801 test 11452.138937\n",
            "Epoch: 004 Loss: train 11335.847300 valid 11237.088891 test 11257.984988\n",
            "Epoch: 006 Loss: train 10949.025327 valid 10782.730848 test 10760.396711\n",
            "Epoch: 008 Loss: train 10055.728662 valid 9699.835852 test 9743.106863\n",
            "Epoch: 010 Loss: train 8331.578539 valid 7727.976418 test 7739.032309\n",
            "Epoch: 012 Loss: train 5580.448837 valid 4676.756734 test 4692.230379\n",
            "Epoch: 014 Loss: train 2340.169627 valid 1576.381560 test 1675.481171\n",
            "Epoch: 016 Loss: train 511.046418 valid 429.204292 test 413.926166\n",
            "Epoch: 018 Loss: train 401.969265 valid 363.712298 test 367.361589\n",
            "Epoch: 020 Loss: train 375.926006 valid 362.079889 test 396.055489\n",
            "Epoch: 022 Loss: train 369.560121 valid 325.636195 test 363.527748\n",
            "Epoch: 024 Loss: train 354.104650 valid 379.016749 test 334.977073\n",
            "Epoch: 026 Loss: train 349.695103 valid 351.968094 test 352.583729\n",
            "Epoch: 028 Loss: train 339.538219 valid 332.603340 test 363.805831\n",
            "Epoch: 030 Loss: train 340.070138 valid 310.060625 test 346.449450\n",
            "Epoch: 032 Loss: train 340.301369 valid 334.478928 test 308.804627\n",
            "Epoch: 034 Loss: train 340.480073 valid 293.256176 test 328.372082\n",
            "Epoch: 036 Loss: train 316.952417 valid 330.358246 test 335.467339\n",
            "Epoch: 038 Loss: train 332.533400 valid 323.216051 test 306.617552\n",
            "Epoch: 040 Loss: train 328.232658 valid 320.844744 test 323.199355\n",
            "Epoch: 042 Loss: train 320.631940 valid 292.829754 test 304.683839\n"
          ]
        }
      ]
    },
    {
      "cell_type": "code",
      "source": [
        "from sklearn.metrics import accuracy_score, balanced_accuracy_score, roc_auc_score"
      ],
      "metadata": {
        "id": "jjWRy8AyOGzi"
      },
      "execution_count": null,
      "outputs": []
    },
    {
      "cell_type": "code",
      "source": [
        "fig, ax = plt.subplots()\n",
        "for m in modes:\n",
        "  ax.plot(learn_curve[m], label=m)\n",
        "ax.legend()\n",
        "ax.set_xlabel('epochs')\n",
        "ax.set_ylabel('loss')\n",
        "ax.set_yscale('log')\n",
        "plt.show()"
      ],
      "metadata": {
        "id": "30CzQc9PjWLU"
      },
      "execution_count": null,
      "outputs": []
    },
    {
      "cell_type": "code",
      "source": [
        "model.load_state_dict(torch.load('best_val.model'))\n",
        "\n",
        "for m in ['valid', 'test']:\n",
        "  y_true, y_pred = predict(loader[m])\n",
        "  for metric in [accuracy_score, balanced_accuracy_score, roc_auc_score]:\n",
        "    print(\"{} {} {:.3f}\".format(m, metric.__name__, metric(y_true, y_pred)))"
      ],
      "metadata": {
        "id": "kGkAa7anjX6S"
      },
      "execution_count": null,
      "outputs": []
    },
    {
      "cell_type": "markdown",
      "source": [
        "# finalize"
      ],
      "metadata": {
        "id": "MrJ0z__HkFee"
      }
    },
    {
      "cell_type": "markdown",
      "source": [
        "link:\n",
        "https://itakigawa.page.link/test_proj"
      ],
      "metadata": {
        "id": "QwPH4TKBkISu"
      }
    }
  ]
}