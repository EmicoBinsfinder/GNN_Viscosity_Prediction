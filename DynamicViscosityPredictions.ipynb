{
  "nbformat": 4,
  "nbformat_minor": 0,
  "metadata": {
    "colab": {
      "provenance": [],
      "collapsed_sections": [
        "K7t4n_3jeyfq",
        "-0wT-rP3e6O9",
        "OYSXRCQbfSf_",
        "sqztOJnqgnBB",
        "Cv4Z6abrhDme",
        "xo33TydwhWlR",
        "ssel6j5EijJZ"
      ],
      "gpuType": "V100",
      "include_colab_link": true
    },
    "kernelspec": {
      "name": "python3",
      "display_name": "Python 3"
    },
    "language_info": {
      "name": "python"
    },
    "accelerator": "GPU",
    "widgets": {
      "application/vnd.jupyter.widget-state+json": {
        "a73a90e206044d8f91b9b600f7b33593": {
          "model_module": "@jupyter-widgets/controls",
          "model_name": "HBoxModel",
          "model_module_version": "1.5.0",
          "state": {
            "_dom_classes": [],
            "_model_module": "@jupyter-widgets/controls",
            "_model_module_version": "1.5.0",
            "_model_name": "HBoxModel",
            "_view_count": null,
            "_view_module": "@jupyter-widgets/controls",
            "_view_module_version": "1.5.0",
            "_view_name": "HBoxView",
            "box_style": "",
            "children": [
              "IPY_MODEL_4d5569ccc09a495f8b3389026a9cfc50",
              "IPY_MODEL_f5150df9567542c885f690a8257128f9",
              "IPY_MODEL_46b8f375eea743b7a2aa6cdf37879d9f"
            ],
            "layout": "IPY_MODEL_0108d26145404dc3a44addad706becd4"
          }
        },
        "4d5569ccc09a495f8b3389026a9cfc50": {
          "model_module": "@jupyter-widgets/controls",
          "model_name": "HTMLModel",
          "model_module_version": "1.5.0",
          "state": {
            "_dom_classes": [],
            "_model_module": "@jupyter-widgets/controls",
            "_model_module_version": "1.5.0",
            "_model_name": "HTMLModel",
            "_view_count": null,
            "_view_module": "@jupyter-widgets/controls",
            "_view_module_version": "1.5.0",
            "_view_name": "HTMLView",
            "description": "",
            "description_tooltip": null,
            "layout": "IPY_MODEL_0d5abd055b2049a191cb78717ad9e834",
            "placeholder": "​",
            "style": "IPY_MODEL_ede5c065eb70426e8695c31a538f09ef",
            "value": "100%"
          }
        },
        "f5150df9567542c885f690a8257128f9": {
          "model_module": "@jupyter-widgets/controls",
          "model_name": "FloatProgressModel",
          "model_module_version": "1.5.0",
          "state": {
            "_dom_classes": [],
            "_model_module": "@jupyter-widgets/controls",
            "_model_module_version": "1.5.0",
            "_model_name": "FloatProgressModel",
            "_view_count": null,
            "_view_module": "@jupyter-widgets/controls",
            "_view_module_version": "1.5.0",
            "_view_name": "ProgressView",
            "bar_style": "success",
            "description": "",
            "description_tooltip": null,
            "layout": "IPY_MODEL_34f49db2390b4820adea2a43c98f82c9",
            "max": 47534,
            "min": 0,
            "orientation": "horizontal",
            "style": "IPY_MODEL_f68ff8dda95a4b3f810918c326d53d15",
            "value": 47534
          }
        },
        "46b8f375eea743b7a2aa6cdf37879d9f": {
          "model_module": "@jupyter-widgets/controls",
          "model_name": "HTMLModel",
          "model_module_version": "1.5.0",
          "state": {
            "_dom_classes": [],
            "_model_module": "@jupyter-widgets/controls",
            "_model_module_version": "1.5.0",
            "_model_name": "HTMLModel",
            "_view_count": null,
            "_view_module": "@jupyter-widgets/controls",
            "_view_module_version": "1.5.0",
            "_view_name": "HTMLView",
            "description": "",
            "description_tooltip": null,
            "layout": "IPY_MODEL_148de8f277de43ee9a6b9229c4b1c92b",
            "placeholder": "​",
            "style": "IPY_MODEL_3c5b2236b1be41d8bc9135b0e18644d1",
            "value": " 47534/47534 [00:51&lt;00:00, 1358.61it/s]"
          }
        },
        "0108d26145404dc3a44addad706becd4": {
          "model_module": "@jupyter-widgets/base",
          "model_name": "LayoutModel",
          "model_module_version": "1.2.0",
          "state": {
            "_model_module": "@jupyter-widgets/base",
            "_model_module_version": "1.2.0",
            "_model_name": "LayoutModel",
            "_view_count": null,
            "_view_module": "@jupyter-widgets/base",
            "_view_module_version": "1.2.0",
            "_view_name": "LayoutView",
            "align_content": null,
            "align_items": null,
            "align_self": null,
            "border": null,
            "bottom": null,
            "display": null,
            "flex": null,
            "flex_flow": null,
            "grid_area": null,
            "grid_auto_columns": null,
            "grid_auto_flow": null,
            "grid_auto_rows": null,
            "grid_column": null,
            "grid_gap": null,
            "grid_row": null,
            "grid_template_areas": null,
            "grid_template_columns": null,
            "grid_template_rows": null,
            "height": null,
            "justify_content": null,
            "justify_items": null,
            "left": null,
            "margin": null,
            "max_height": null,
            "max_width": null,
            "min_height": null,
            "min_width": null,
            "object_fit": null,
            "object_position": null,
            "order": null,
            "overflow": null,
            "overflow_x": null,
            "overflow_y": null,
            "padding": null,
            "right": null,
            "top": null,
            "visibility": null,
            "width": null
          }
        },
        "0d5abd055b2049a191cb78717ad9e834": {
          "model_module": "@jupyter-widgets/base",
          "model_name": "LayoutModel",
          "model_module_version": "1.2.0",
          "state": {
            "_model_module": "@jupyter-widgets/base",
            "_model_module_version": "1.2.0",
            "_model_name": "LayoutModel",
            "_view_count": null,
            "_view_module": "@jupyter-widgets/base",
            "_view_module_version": "1.2.0",
            "_view_name": "LayoutView",
            "align_content": null,
            "align_items": null,
            "align_self": null,
            "border": null,
            "bottom": null,
            "display": null,
            "flex": null,
            "flex_flow": null,
            "grid_area": null,
            "grid_auto_columns": null,
            "grid_auto_flow": null,
            "grid_auto_rows": null,
            "grid_column": null,
            "grid_gap": null,
            "grid_row": null,
            "grid_template_areas": null,
            "grid_template_columns": null,
            "grid_template_rows": null,
            "height": null,
            "justify_content": null,
            "justify_items": null,
            "left": null,
            "margin": null,
            "max_height": null,
            "max_width": null,
            "min_height": null,
            "min_width": null,
            "object_fit": null,
            "object_position": null,
            "order": null,
            "overflow": null,
            "overflow_x": null,
            "overflow_y": null,
            "padding": null,
            "right": null,
            "top": null,
            "visibility": null,
            "width": null
          }
        },
        "ede5c065eb70426e8695c31a538f09ef": {
          "model_module": "@jupyter-widgets/controls",
          "model_name": "DescriptionStyleModel",
          "model_module_version": "1.5.0",
          "state": {
            "_model_module": "@jupyter-widgets/controls",
            "_model_module_version": "1.5.0",
            "_model_name": "DescriptionStyleModel",
            "_view_count": null,
            "_view_module": "@jupyter-widgets/base",
            "_view_module_version": "1.2.0",
            "_view_name": "StyleView",
            "description_width": ""
          }
        },
        "34f49db2390b4820adea2a43c98f82c9": {
          "model_module": "@jupyter-widgets/base",
          "model_name": "LayoutModel",
          "model_module_version": "1.2.0",
          "state": {
            "_model_module": "@jupyter-widgets/base",
            "_model_module_version": "1.2.0",
            "_model_name": "LayoutModel",
            "_view_count": null,
            "_view_module": "@jupyter-widgets/base",
            "_view_module_version": "1.2.0",
            "_view_name": "LayoutView",
            "align_content": null,
            "align_items": null,
            "align_self": null,
            "border": null,
            "bottom": null,
            "display": null,
            "flex": null,
            "flex_flow": null,
            "grid_area": null,
            "grid_auto_columns": null,
            "grid_auto_flow": null,
            "grid_auto_rows": null,
            "grid_column": null,
            "grid_gap": null,
            "grid_row": null,
            "grid_template_areas": null,
            "grid_template_columns": null,
            "grid_template_rows": null,
            "height": null,
            "justify_content": null,
            "justify_items": null,
            "left": null,
            "margin": null,
            "max_height": null,
            "max_width": null,
            "min_height": null,
            "min_width": null,
            "object_fit": null,
            "object_position": null,
            "order": null,
            "overflow": null,
            "overflow_x": null,
            "overflow_y": null,
            "padding": null,
            "right": null,
            "top": null,
            "visibility": null,
            "width": null
          }
        },
        "f68ff8dda95a4b3f810918c326d53d15": {
          "model_module": "@jupyter-widgets/controls",
          "model_name": "ProgressStyleModel",
          "model_module_version": "1.5.0",
          "state": {
            "_model_module": "@jupyter-widgets/controls",
            "_model_module_version": "1.5.0",
            "_model_name": "ProgressStyleModel",
            "_view_count": null,
            "_view_module": "@jupyter-widgets/base",
            "_view_module_version": "1.2.0",
            "_view_name": "StyleView",
            "bar_color": null,
            "description_width": ""
          }
        },
        "148de8f277de43ee9a6b9229c4b1c92b": {
          "model_module": "@jupyter-widgets/base",
          "model_name": "LayoutModel",
          "model_module_version": "1.2.0",
          "state": {
            "_model_module": "@jupyter-widgets/base",
            "_model_module_version": "1.2.0",
            "_model_name": "LayoutModel",
            "_view_count": null,
            "_view_module": "@jupyter-widgets/base",
            "_view_module_version": "1.2.0",
            "_view_name": "LayoutView",
            "align_content": null,
            "align_items": null,
            "align_self": null,
            "border": null,
            "bottom": null,
            "display": null,
            "flex": null,
            "flex_flow": null,
            "grid_area": null,
            "grid_auto_columns": null,
            "grid_auto_flow": null,
            "grid_auto_rows": null,
            "grid_column": null,
            "grid_gap": null,
            "grid_row": null,
            "grid_template_areas": null,
            "grid_template_columns": null,
            "grid_template_rows": null,
            "height": null,
            "justify_content": null,
            "justify_items": null,
            "left": null,
            "margin": null,
            "max_height": null,
            "max_width": null,
            "min_height": null,
            "min_width": null,
            "object_fit": null,
            "object_position": null,
            "order": null,
            "overflow": null,
            "overflow_x": null,
            "overflow_y": null,
            "padding": null,
            "right": null,
            "top": null,
            "visibility": null,
            "width": null
          }
        },
        "3c5b2236b1be41d8bc9135b0e18644d1": {
          "model_module": "@jupyter-widgets/controls",
          "model_name": "DescriptionStyleModel",
          "model_module_version": "1.5.0",
          "state": {
            "_model_module": "@jupyter-widgets/controls",
            "_model_module_version": "1.5.0",
            "_model_name": "DescriptionStyleModel",
            "_view_count": null,
            "_view_module": "@jupyter-widgets/base",
            "_view_module_version": "1.2.0",
            "_view_name": "StyleView",
            "description_width": ""
          }
        },
        "a420f0b6722b46e18fcbd8afb2d5c6a4": {
          "model_module": "@jupyter-widgets/controls",
          "model_name": "HBoxModel",
          "model_module_version": "1.5.0",
          "state": {
            "_dom_classes": [],
            "_model_module": "@jupyter-widgets/controls",
            "_model_module_version": "1.5.0",
            "_model_name": "HBoxModel",
            "_view_count": null,
            "_view_module": "@jupyter-widgets/controls",
            "_view_module_version": "1.5.0",
            "_view_name": "HBoxView",
            "box_style": "",
            "children": [
              "IPY_MODEL_91e8af52a6964647b7bff464aaeac01c",
              "IPY_MODEL_af60b8b7dc824455a8763a1e515c2268",
              "IPY_MODEL_58d4a20e5b3e4a61a6414d19bcadc80c"
            ],
            "layout": "IPY_MODEL_423737eda860486387ddbca4b5f9a0a6"
          }
        },
        "91e8af52a6964647b7bff464aaeac01c": {
          "model_module": "@jupyter-widgets/controls",
          "model_name": "HTMLModel",
          "model_module_version": "1.5.0",
          "state": {
            "_dom_classes": [],
            "_model_module": "@jupyter-widgets/controls",
            "_model_module_version": "1.5.0",
            "_model_name": "HTMLModel",
            "_view_count": null,
            "_view_module": "@jupyter-widgets/controls",
            "_view_module_version": "1.5.0",
            "_view_name": "HTMLView",
            "description": "",
            "description_tooltip": null,
            "layout": "IPY_MODEL_b3b5a670e5824b6187c6176cf839cc98",
            "placeholder": "​",
            "style": "IPY_MODEL_9ba5369d934648a2be78d88c90835ce6",
            "value": "100%"
          }
        },
        "af60b8b7dc824455a8763a1e515c2268": {
          "model_module": "@jupyter-widgets/controls",
          "model_name": "FloatProgressModel",
          "model_module_version": "1.5.0",
          "state": {
            "_dom_classes": [],
            "_model_module": "@jupyter-widgets/controls",
            "_model_module_version": "1.5.0",
            "_model_name": "FloatProgressModel",
            "_view_count": null,
            "_view_module": "@jupyter-widgets/controls",
            "_view_module_version": "1.5.0",
            "_view_name": "ProgressView",
            "bar_style": "success",
            "description": "",
            "description_tooltip": null,
            "layout": "IPY_MODEL_a706f12171b4462ab7538c46ea8f12d0",
            "max": 100,
            "min": 0,
            "orientation": "horizontal",
            "style": "IPY_MODEL_50b9306d097f4b60a2faa0743975bc95",
            "value": 100
          }
        },
        "58d4a20e5b3e4a61a6414d19bcadc80c": {
          "model_module": "@jupyter-widgets/controls",
          "model_name": "HTMLModel",
          "model_module_version": "1.5.0",
          "state": {
            "_dom_classes": [],
            "_model_module": "@jupyter-widgets/controls",
            "_model_module_version": "1.5.0",
            "_model_name": "HTMLModel",
            "_view_count": null,
            "_view_module": "@jupyter-widgets/controls",
            "_view_module_version": "1.5.0",
            "_view_name": "HTMLView",
            "description": "",
            "description_tooltip": null,
            "layout": "IPY_MODEL_3bf1f298b7af47d3801dd1bb4737198c",
            "placeholder": "​",
            "style": "IPY_MODEL_d1456975e42246e3b7051d763cf7bddb",
            "value": " 100/100 [16:01&lt;00:00, 10.91s/it]"
          }
        },
        "423737eda860486387ddbca4b5f9a0a6": {
          "model_module": "@jupyter-widgets/base",
          "model_name": "LayoutModel",
          "model_module_version": "1.2.0",
          "state": {
            "_model_module": "@jupyter-widgets/base",
            "_model_module_version": "1.2.0",
            "_model_name": "LayoutModel",
            "_view_count": null,
            "_view_module": "@jupyter-widgets/base",
            "_view_module_version": "1.2.0",
            "_view_name": "LayoutView",
            "align_content": null,
            "align_items": null,
            "align_self": null,
            "border": null,
            "bottom": null,
            "display": null,
            "flex": null,
            "flex_flow": null,
            "grid_area": null,
            "grid_auto_columns": null,
            "grid_auto_flow": null,
            "grid_auto_rows": null,
            "grid_column": null,
            "grid_gap": null,
            "grid_row": null,
            "grid_template_areas": null,
            "grid_template_columns": null,
            "grid_template_rows": null,
            "height": null,
            "justify_content": null,
            "justify_items": null,
            "left": null,
            "margin": null,
            "max_height": null,
            "max_width": null,
            "min_height": null,
            "min_width": null,
            "object_fit": null,
            "object_position": null,
            "order": null,
            "overflow": null,
            "overflow_x": null,
            "overflow_y": null,
            "padding": null,
            "right": null,
            "top": null,
            "visibility": null,
            "width": null
          }
        },
        "b3b5a670e5824b6187c6176cf839cc98": {
          "model_module": "@jupyter-widgets/base",
          "model_name": "LayoutModel",
          "model_module_version": "1.2.0",
          "state": {
            "_model_module": "@jupyter-widgets/base",
            "_model_module_version": "1.2.0",
            "_model_name": "LayoutModel",
            "_view_count": null,
            "_view_module": "@jupyter-widgets/base",
            "_view_module_version": "1.2.0",
            "_view_name": "LayoutView",
            "align_content": null,
            "align_items": null,
            "align_self": null,
            "border": null,
            "bottom": null,
            "display": null,
            "flex": null,
            "flex_flow": null,
            "grid_area": null,
            "grid_auto_columns": null,
            "grid_auto_flow": null,
            "grid_auto_rows": null,
            "grid_column": null,
            "grid_gap": null,
            "grid_row": null,
            "grid_template_areas": null,
            "grid_template_columns": null,
            "grid_template_rows": null,
            "height": null,
            "justify_content": null,
            "justify_items": null,
            "left": null,
            "margin": null,
            "max_height": null,
            "max_width": null,
            "min_height": null,
            "min_width": null,
            "object_fit": null,
            "object_position": null,
            "order": null,
            "overflow": null,
            "overflow_x": null,
            "overflow_y": null,
            "padding": null,
            "right": null,
            "top": null,
            "visibility": null,
            "width": null
          }
        },
        "9ba5369d934648a2be78d88c90835ce6": {
          "model_module": "@jupyter-widgets/controls",
          "model_name": "DescriptionStyleModel",
          "model_module_version": "1.5.0",
          "state": {
            "_model_module": "@jupyter-widgets/controls",
            "_model_module_version": "1.5.0",
            "_model_name": "DescriptionStyleModel",
            "_view_count": null,
            "_view_module": "@jupyter-widgets/base",
            "_view_module_version": "1.2.0",
            "_view_name": "StyleView",
            "description_width": ""
          }
        },
        "a706f12171b4462ab7538c46ea8f12d0": {
          "model_module": "@jupyter-widgets/base",
          "model_name": "LayoutModel",
          "model_module_version": "1.2.0",
          "state": {
            "_model_module": "@jupyter-widgets/base",
            "_model_module_version": "1.2.0",
            "_model_name": "LayoutModel",
            "_view_count": null,
            "_view_module": "@jupyter-widgets/base",
            "_view_module_version": "1.2.0",
            "_view_name": "LayoutView",
            "align_content": null,
            "align_items": null,
            "align_self": null,
            "border": null,
            "bottom": null,
            "display": null,
            "flex": null,
            "flex_flow": null,
            "grid_area": null,
            "grid_auto_columns": null,
            "grid_auto_flow": null,
            "grid_auto_rows": null,
            "grid_column": null,
            "grid_gap": null,
            "grid_row": null,
            "grid_template_areas": null,
            "grid_template_columns": null,
            "grid_template_rows": null,
            "height": null,
            "justify_content": null,
            "justify_items": null,
            "left": null,
            "margin": null,
            "max_height": null,
            "max_width": null,
            "min_height": null,
            "min_width": null,
            "object_fit": null,
            "object_position": null,
            "order": null,
            "overflow": null,
            "overflow_x": null,
            "overflow_y": null,
            "padding": null,
            "right": null,
            "top": null,
            "visibility": null,
            "width": null
          }
        },
        "50b9306d097f4b60a2faa0743975bc95": {
          "model_module": "@jupyter-widgets/controls",
          "model_name": "ProgressStyleModel",
          "model_module_version": "1.5.0",
          "state": {
            "_model_module": "@jupyter-widgets/controls",
            "_model_module_version": "1.5.0",
            "_model_name": "ProgressStyleModel",
            "_view_count": null,
            "_view_module": "@jupyter-widgets/base",
            "_view_module_version": "1.2.0",
            "_view_name": "StyleView",
            "bar_color": null,
            "description_width": ""
          }
        },
        "3bf1f298b7af47d3801dd1bb4737198c": {
          "model_module": "@jupyter-widgets/base",
          "model_name": "LayoutModel",
          "model_module_version": "1.2.0",
          "state": {
            "_model_module": "@jupyter-widgets/base",
            "_model_module_version": "1.2.0",
            "_model_name": "LayoutModel",
            "_view_count": null,
            "_view_module": "@jupyter-widgets/base",
            "_view_module_version": "1.2.0",
            "_view_name": "LayoutView",
            "align_content": null,
            "align_items": null,
            "align_self": null,
            "border": null,
            "bottom": null,
            "display": null,
            "flex": null,
            "flex_flow": null,
            "grid_area": null,
            "grid_auto_columns": null,
            "grid_auto_flow": null,
            "grid_auto_rows": null,
            "grid_column": null,
            "grid_gap": null,
            "grid_row": null,
            "grid_template_areas": null,
            "grid_template_columns": null,
            "grid_template_rows": null,
            "height": null,
            "justify_content": null,
            "justify_items": null,
            "left": null,
            "margin": null,
            "max_height": null,
            "max_width": null,
            "min_height": null,
            "min_width": null,
            "object_fit": null,
            "object_position": null,
            "order": null,
            "overflow": null,
            "overflow_x": null,
            "overflow_y": null,
            "padding": null,
            "right": null,
            "top": null,
            "visibility": null,
            "width": null
          }
        },
        "d1456975e42246e3b7051d763cf7bddb": {
          "model_module": "@jupyter-widgets/controls",
          "model_name": "DescriptionStyleModel",
          "model_module_version": "1.5.0",
          "state": {
            "_model_module": "@jupyter-widgets/controls",
            "_model_module_version": "1.5.0",
            "_model_name": "DescriptionStyleModel",
            "_view_count": null,
            "_view_module": "@jupyter-widgets/base",
            "_view_module_version": "1.2.0",
            "_view_name": "StyleView",
            "description_width": ""
          }
        }
      }
    }
  },
  "cells": [
    {
      "cell_type": "markdown",
      "metadata": {
        "id": "view-in-github",
        "colab_type": "text"
      },
      "source": [
        "<a href=\"https://colab.research.google.com/github/EmicoBinsfinder/GNN_Viscosity_Prediction/blob/main/DynamicViscosityPredictions.ipynb\" target=\"_parent\"><img src=\"https://colab.research.google.com/assets/colab-badge.svg\" alt=\"Open In Colab\"/></a>"
      ]
    },
    {
      "cell_type": "markdown",
      "source": [
        "# GNN (Convolution and Attention Based) for Molecular Property Prediction (Regression)\n",
        "\n",
        "* Google Colab\n",
        "* RDKit\n",
        "* PyTorch Geometric (PyG)"
      ],
      "metadata": {
        "id": "AeXL2i_EeN5M"
      }
    },
    {
      "cell_type": "markdown",
      "source": [
        "## Environment Preparation"
      ],
      "metadata": {
        "id": "K7t4n_3jeyfq"
      }
    },
    {
      "cell_type": "markdown",
      "source": [
        "instal rdkit and pyg"
      ],
      "metadata": {
        "id": "HuAhBOKsedFL"
      }
    },
    {
      "cell_type": "code",
      "source": [
        "!pip install rdkit-pypi"
      ],
      "metadata": {
        "colab": {
          "base_uri": "https://localhost:8080/"
        },
        "collapsed": true,
        "id": "6ZGulKtZegAg",
        "outputId": "f0acf7e9-1913-43af-974f-8fc2eec9ec92"
      },
      "execution_count": 1,
      "outputs": [
        {
          "output_type": "stream",
          "name": "stdout",
          "text": [
            "Collecting rdkit-pypi\n",
            "  Downloading rdkit_pypi-2022.9.5-cp310-cp310-manylinux_2_17_x86_64.manylinux2014_x86_64.whl (29.4 MB)\n",
            "\u001b[2K     \u001b[90m━━━━━━━━━━━━━━━━━━━━━━━━━━━━━━━━━━━━━━━━\u001b[0m \u001b[32m29.4/29.4 MB\u001b[0m \u001b[31m16.7 MB/s\u001b[0m eta \u001b[36m0:00:00\u001b[0m\n",
            "\u001b[?25hRequirement already satisfied: numpy in /usr/local/lib/python3.10/dist-packages (from rdkit-pypi) (1.22.4)\n",
            "Requirement already satisfied: Pillow in /usr/local/lib/python3.10/dist-packages (from rdkit-pypi) (9.4.0)\n",
            "Installing collected packages: rdkit-pypi\n",
            "Successfully installed rdkit-pypi-2022.9.5\n"
          ]
        }
      ]
    },
    {
      "cell_type": "code",
      "source": [
        "import torch\n",
        "pyg_url = f\"https://data.pyg.org/whl/torch-{torch.__version__}.html\"\n",
        "!pip install torch-scatter torch-sparse torch-cluster torch-spline-conv torch-geometric -f $pyg_url"
      ],
      "metadata": {
        "colab": {
          "base_uri": "https://localhost:8080/"
        },
        "collapsed": true,
        "id": "hUEMPxhTehri",
        "outputId": "0cadddae-0683-469e-bf02-5dafe415585b"
      },
      "execution_count": 2,
      "outputs": [
        {
          "output_type": "stream",
          "name": "stdout",
          "text": [
            "Looking in links: https://data.pyg.org/whl/torch-2.0.1+cu118.html\n",
            "Collecting torch-scatter\n",
            "  Downloading https://data.pyg.org/whl/torch-2.0.0%2Bcu118/torch_scatter-2.1.1%2Bpt20cu118-cp310-cp310-linux_x86_64.whl (10.2 MB)\n",
            "\u001b[2K     \u001b[90m━━━━━━━━━━━━━━━━━━━━━━━━━━━━━━━━━━━━━━━━\u001b[0m \u001b[32m10.2/10.2 MB\u001b[0m \u001b[31m35.3 MB/s\u001b[0m eta \u001b[36m0:00:00\u001b[0m\n",
            "\u001b[?25hCollecting torch-sparse\n",
            "  Downloading https://data.pyg.org/whl/torch-2.0.0%2Bcu118/torch_sparse-0.6.17%2Bpt20cu118-cp310-cp310-linux_x86_64.whl (4.8 MB)\n",
            "\u001b[2K     \u001b[90m━━━━━━━━━━━━━━━━━━━━━━━━━━━━━━━━━━━━━━━━\u001b[0m \u001b[32m4.8/4.8 MB\u001b[0m \u001b[31m35.4 MB/s\u001b[0m eta \u001b[36m0:00:00\u001b[0m\n",
            "\u001b[?25hCollecting torch-cluster\n",
            "  Downloading https://data.pyg.org/whl/torch-2.0.0%2Bcu118/torch_cluster-1.6.1%2Bpt20cu118-cp310-cp310-linux_x86_64.whl (3.3 MB)\n",
            "\u001b[2K     \u001b[90m━━━━━━━━━━━━━━━━━━━━━━━━━━━━━━━━━━━━━━━━\u001b[0m \u001b[32m3.3/3.3 MB\u001b[0m \u001b[31m31.5 MB/s\u001b[0m eta \u001b[36m0:00:00\u001b[0m\n",
            "\u001b[?25hCollecting torch-spline-conv\n",
            "  Downloading https://data.pyg.org/whl/torch-2.0.0%2Bcu118/torch_spline_conv-1.2.2%2Bpt20cu118-cp310-cp310-linux_x86_64.whl (884 kB)\n",
            "\u001b[2K     \u001b[90m━━━━━━━━━━━━━━━━━━━━━━━━━━━━━━━━━━━━━━\u001b[0m \u001b[32m884.9/884.9 kB\u001b[0m \u001b[31m19.9 MB/s\u001b[0m eta \u001b[36m0:00:00\u001b[0m\n",
            "\u001b[?25hCollecting torch-geometric\n",
            "  Downloading torch_geometric-2.3.1.tar.gz (661 kB)\n",
            "\u001b[2K     \u001b[90m━━━━━━━━━━━━━━━━━━━━━━━━━━━━━━━━━━━━━━━\u001b[0m \u001b[32m661.6/661.6 kB\u001b[0m \u001b[31m3.9 MB/s\u001b[0m eta \u001b[36m0:00:00\u001b[0m\n",
            "\u001b[?25h  Installing build dependencies ... \u001b[?25l\u001b[?25hdone\n",
            "  Getting requirements to build wheel ... \u001b[?25l\u001b[?25hdone\n",
            "  Preparing metadata (pyproject.toml) ... \u001b[?25l\u001b[?25hdone\n",
            "Requirement already satisfied: scipy in /usr/local/lib/python3.10/dist-packages (from torch-sparse) (1.10.1)\n",
            "Requirement already satisfied: tqdm in /usr/local/lib/python3.10/dist-packages (from torch-geometric) (4.65.0)\n",
            "Requirement already satisfied: numpy in /usr/local/lib/python3.10/dist-packages (from torch-geometric) (1.22.4)\n",
            "Requirement already satisfied: jinja2 in /usr/local/lib/python3.10/dist-packages (from torch-geometric) (3.1.2)\n",
            "Requirement already satisfied: requests in /usr/local/lib/python3.10/dist-packages (from torch-geometric) (2.27.1)\n",
            "Requirement already satisfied: pyparsing in /usr/local/lib/python3.10/dist-packages (from torch-geometric) (3.1.0)\n",
            "Requirement already satisfied: scikit-learn in /usr/local/lib/python3.10/dist-packages (from torch-geometric) (1.2.2)\n",
            "Requirement already satisfied: psutil>=5.8.0 in /usr/local/lib/python3.10/dist-packages (from torch-geometric) (5.9.5)\n",
            "Requirement already satisfied: MarkupSafe>=2.0 in /usr/local/lib/python3.10/dist-packages (from jinja2->torch-geometric) (2.1.3)\n",
            "Requirement already satisfied: urllib3<1.27,>=1.21.1 in /usr/local/lib/python3.10/dist-packages (from requests->torch-geometric) (1.26.16)\n",
            "Requirement already satisfied: certifi>=2017.4.17 in /usr/local/lib/python3.10/dist-packages (from requests->torch-geometric) (2023.7.22)\n",
            "Requirement already satisfied: charset-normalizer~=2.0.0 in /usr/local/lib/python3.10/dist-packages (from requests->torch-geometric) (2.0.12)\n",
            "Requirement already satisfied: idna<4,>=2.5 in /usr/local/lib/python3.10/dist-packages (from requests->torch-geometric) (3.4)\n",
            "Requirement already satisfied: joblib>=1.1.1 in /usr/local/lib/python3.10/dist-packages (from scikit-learn->torch-geometric) (1.3.1)\n",
            "Requirement already satisfied: threadpoolctl>=2.0.0 in /usr/local/lib/python3.10/dist-packages (from scikit-learn->torch-geometric) (3.2.0)\n",
            "Building wheels for collected packages: torch-geometric\n",
            "  Building wheel for torch-geometric (pyproject.toml) ... \u001b[?25l\u001b[?25hdone\n",
            "  Created wheel for torch-geometric: filename=torch_geometric-2.3.1-py3-none-any.whl size=910460 sha256=28e86060b43154d467d546ee82d4594faeec3636a212982ea5aded3a6d264848\n",
            "  Stored in directory: /root/.cache/pip/wheels/ac/dc/30/e2874821ff308ee67dcd7a66dbde912411e19e35a1addda028\n",
            "Successfully built torch-geometric\n",
            "Installing collected packages: torch-spline-conv, torch-scatter, torch-sparse, torch-cluster, torch-geometric\n",
            "Successfully installed torch-cluster-1.6.1+pt20cu118 torch-geometric-2.3.1 torch-scatter-2.1.1+pt20cu118 torch-sparse-0.6.17+pt20cu118 torch-spline-conv-1.2.2+pt20cu118\n"
          ]
        }
      ]
    },
    {
      "cell_type": "code",
      "source": [
        "!git clone https://github.com/EmicoBinsfinder/GNN_Viscosity_Prediction.git"
      ],
      "metadata": {
        "id": "CwOd3lll-rWI",
        "outputId": "4441bb15-7d12-4482-bac7-f37dc1610d44",
        "colab": {
          "base_uri": "https://localhost:8080/"
        }
      },
      "execution_count": 3,
      "outputs": [
        {
          "output_type": "stream",
          "name": "stdout",
          "text": [
            "Cloning into 'GNN_Viscosity_Prediction'...\n",
            "remote: Enumerating objects: 41, done.\u001b[K\n",
            "remote: Counting objects: 100% (41/41), done.\u001b[K\n",
            "remote: Compressing objects: 100% (34/34), done.\u001b[K\n",
            "remote: Total 41 (delta 8), reused 31 (delta 5), pack-reused 0\u001b[K\n",
            "Receiving objects: 100% (41/41), 6.71 MiB | 15.28 MiB/s, done.\n",
            "Resolving deltas: 100% (8/8), done.\n"
          ]
        }
      ]
    },
    {
      "cell_type": "markdown",
      "source": [
        "import"
      ],
      "metadata": {
        "id": "p2-zGec4ewps"
      }
    },
    {
      "cell_type": "code",
      "source": [
        "import sys\n",
        "import urllib.request\n",
        "from collections import defaultdict\n",
        "\n",
        "import numpy as np\n",
        "import pandas as pd\n",
        "import matplotlib.pyplot as plt\n",
        "import networkx as nx\n",
        "from tqdm.notebook import tqdm\n",
        "\n",
        "from rdkit import Chem\n",
        "from rdkit.Chem import AllChem, Draw\n",
        "from rdkit.Chem.Draw import IPythonConsole\n",
        "\n",
        "import torch.nn as nn\n",
        "import torch.nn.functional as F\n",
        "from torch.utils.data import Dataset, Subset\n",
        "\n",
        "from torch_geometric.data import Data\n",
        "from torch_geometric.loader import DataLoader\n",
        "from torch_geometric.utils import to_networkx\n"
      ],
      "metadata": {
        "id": "jQ5zg5uBejZH"
      },
      "execution_count": 4,
      "outputs": []
    },
    {
      "cell_type": "code",
      "source": [
        "!curl -O https://raw.githubusercontent.com/itakigawa/mpl_rdkit_utils/main/mpl_rdkit_utils.py\n",
        "\n",
        "from mpl_rdkit_utils import DrawMolToMPL\n",
        "\n",
        "def plot_mol_graph(graph, figsize=(8, 4), edge_label=True):\n",
        "  g = to_networkx(graph, to_undirected=True)\n",
        "  edge_dict = defaultdict(list)\n",
        "  for i, e in enumerate(zip(*graph.edge_index.tolist())):\n",
        "    u, v = e\n",
        "    edge_dict[(u, v)].append(i)\n",
        "    edge_dict[(v, u)].append(i)\n",
        "  labels = {e: \"{},{}\".format(*edge_dict[e]) for e in g.edges}\n",
        "\n",
        "  mol = graph.mol\n",
        "  AllChem.Compute2DCoords(mol)\n",
        "  pos = mol.GetConformers()[0].GetPositions()[:,:2]\n",
        "\n",
        "  fig, ax = plt.subplots(1, 2, figsize=figsize)\n",
        "  node_size=300\n",
        "  nx.draw_networkx(g, pos, ax=ax[0], node_color='#eee', \\\n",
        "                   node_size=node_size, edgecolors='k')\n",
        "  if edge_label:\n",
        "    nx.draw_networkx_edge_labels(g, pos, ax=ax[0], edge_labels=labels,\\\n",
        "                                font_color='blue', rotate=False)\n",
        "  dpi = plt.rcParams[\"figure.dpi\"]\n",
        "  node_radius = (node_size / 3.14159265359)**0.5 / dpi\n",
        "  ax[0].set_axis_off()\n",
        "  ax[0].set_aspect('equal')\n",
        "  xmin, xmax = ax[0].get_xlim()\n",
        "  ymin, ymax = ax[0].get_ylim()\n",
        "  fs = min(*figsize)\n",
        "  xr = node_radius * fs\n",
        "  yr = node_radius * fs\n",
        "  ax[0].set_xlim(xmin-xr, xmax+xr)\n",
        "  ax[0].set_ylim(ymin-yr, ymax+yr)\n",
        "\n",
        "  (xmin, xmax), (ymin, ymax) = DrawMolToMPL(mol, fig, ax[1])\n",
        "  ax[1].set_xlim(xmin, xmax)\n",
        "  ax[1].set_ylim(ymin, ymax)\n",
        "  ax[1].get_xaxis().set_visible(False)\n",
        "  ax[1].get_yaxis().set_visible(False)\n",
        "  plt.tight_layout()\n",
        "  plt.show()"
      ],
      "metadata": {
        "colab": {
          "base_uri": "https://localhost:8080/"
        },
        "id": "EKZfWBfve3SJ",
        "outputId": "fd825895-7e7d-4c05-d933-8b87f555be88"
      },
      "execution_count": 5,
      "outputs": [
        {
          "output_type": "stream",
          "name": "stdout",
          "text": [
            "  % Total    % Received % Xferd  Average Speed   Time    Time     Time  Current\n",
            "                                 Dload  Upload   Total   Spent    Left  Speed\n",
            "100  7540  100  7540    0     0  22306      0 --:--:-- --:--:-- --:--:-- 22440\n"
          ]
        }
      ]
    },
    {
      "cell_type": "markdown",
      "source": [
        "# data loading"
      ],
      "metadata": {
        "id": "-0wT-rP3e6O9"
      }
    },
    {
      "cell_type": "code",
      "source": [
        "# Read in dataset from CSV file\n",
        "df = pd.read_csv('/content/GNN_Viscosity_Prediction/Dataset.csv')"
      ],
      "metadata": {
        "id": "A_Tp2S2N-53i"
      },
      "execution_count": 6,
      "outputs": []
    },
    {
      "cell_type": "code",
      "source": [
        "# Generating a list of number to assign IDs to each entry\n",
        "ID_list = list(range(len(df)))\n",
        "df['ID'] = ID_list\n",
        "\n",
        "#Making dataframe with only target property and molecule ID\n",
        "df = df[['smiles', 'ID', 'VI']]\n",
        "\n",
        "#Removing entries with Viscosity Index of less than Zero\n",
        "df = df.loc[df['VI'] > 0]\n",
        "\n",
        "#Removing duplicates and entries with NaNs\n",
        "df = df.dropna()\n",
        "df = df.drop_duplicates()\n",
        "\n",
        "#Shuffle Dataset\n",
        "df = df.sample(frac=1).reset_index(drop=True)\n",
        "\n",
        "#Creating new CSV with target variable and it's SMILES string\n",
        "df.to_csv('input.csv')"
      ],
      "metadata": {
        "id": "xGZIfaLT_Od0"
      },
      "execution_count": 7,
      "outputs": []
    },
    {
      "cell_type": "code",
      "source": [
        "df.head()\n",
        "len(df)"
      ],
      "metadata": {
        "colab": {
          "base_uri": "https://localhost:8080/"
        },
        "id": "v033LEAsfD4i",
        "outputId": "52df8e10-079d-43ec-a0c3-0f67642375bb"
      },
      "execution_count": 8,
      "outputs": [
        {
          "output_type": "execute_result",
          "data": {
            "text/plain": [
              "47534"
            ]
          },
          "metadata": {},
          "execution_count": 8
        }
      ]
    },
    {
      "cell_type": "code",
      "source": [
        "# Reading in new Dataset\n",
        "df = pd.read_csv('input.csv', index_col=0)\n",
        "\n",
        "#Selecting random entry from Dataset\n",
        "smi = df['smiles'][9314]\n",
        "\n",
        "#Constructs a molecule object from a given SMILES string\n",
        "mol = Chem.MolFromSmiles(smi)\n",
        "print(type(mol))"
      ],
      "metadata": {
        "id": "Yp0SaCL2fLBn",
        "colab": {
          "base_uri": "https://localhost:8080/"
        },
        "outputId": "3b1ee1a8-4920-465d-d70d-b3d6a41e1e38"
      },
      "execution_count": 9,
      "outputs": [
        {
          "output_type": "stream",
          "name": "stdout",
          "text": [
            "<class 'rdkit.Chem.rdchem.Mol'>\n"
          ]
        }
      ]
    },
    {
      "cell_type": "code",
      "source": [
        "smi"
      ],
      "metadata": {
        "colab": {
          "base_uri": "https://localhost:8080/",
          "height": 36
        },
        "id": "A8m9k9EXfN6y",
        "outputId": "a865687e-a330-42d6-d77d-de5e0a1a8078"
      },
      "execution_count": 10,
      "outputs": [
        {
          "output_type": "execute_result",
          "data": {
            "text/plain": [
              "'C(c1ccccc1)(C=CC1CCCCC1)C=CCCC=CC1CCCCC1'"
            ],
            "application/vnd.google.colaboratory.intrinsic+json": {
              "type": "string"
            }
          },
          "metadata": {},
          "execution_count": 10
        }
      ]
    },
    {
      "cell_type": "code",
      "source": [
        "# Display plot of the SMILES string of a random entry from the dataset\n",
        "mol"
      ],
      "metadata": {
        "colab": {
          "base_uri": "https://localhost:8080/",
          "height": 167
        },
        "id": "4WoogatLfOxS",
        "outputId": "bd90039b-5de4-4a51-9af6-b05f2162a7c6"
      },
      "execution_count": 11,
      "outputs": [
        {
          "output_type": "execute_result",
          "data": {
            "text/plain": [
              "<rdkit.Chem.rdchem.Mol at 0x7a5900505b60>"
            ],
            "image/png": "[encoded data removed]"
          },
          "metadata": {},
          "execution_count": 11
        }
      ]
    },
    {
      "cell_type": "markdown",
      "source": [
        "# molecular graphs for pyg"
      ],
      "metadata": {
        "id": "OYSXRCQbfSf_"
      }
    },
    {
      "cell_type": "code",
      "source": [
        "edges = []\n",
        "\n",
        "\"\"\"\n",
        "The mol object assigns index values to every atom in the SMILES string (verify)\n",
        "\n",
        "The mol object also has a bond object where each bond is connected to two atom\n",
        "indexes. Each bond has a unique pair of indexes that it is attached to.\n",
        "\n",
        "So we can generate a list of bonds between each atom by creating tuple of these\n",
        "unique bonds pairs\n",
        "\"\"\"\n",
        "\n",
        "for bond in mol.GetBonds():\n",
        "  #Returns the index of the bond’s first atom\n",
        "  i = bond.GetBeginAtomIdx()\n",
        "\n",
        "  #Returns the index of the bond’s last atom\n",
        "  j = bond.GetEndAtomIdx()\n",
        "\n",
        "  #Add bonds (edges) to empty list as a list of bond tuples\n",
        "  edges.extend([(i,j), (j,i)])"
      ],
      "metadata": {
        "id": "mU0fBxC2fXtm"
      },
      "execution_count": 12,
      "outputs": []
    },
    {
      "cell_type": "code",
      "source": [
        "edge_index = list(zip(*edges))"
      ],
      "metadata": {
        "id": "160paKLgfhxr"
      },
      "execution_count": 13,
      "outputs": []
    },
    {
      "cell_type": "code",
      "source": [
        "def atom_feature(atom):\n",
        "  return [atom.GetAtomicNum(),\n",
        "          atom.GetDegree(),\n",
        "          atom.GetNumImplicitHs(),\n",
        "          atom.GetIsAromatic()]\n",
        "\n",
        "def bond_feature(bond):\n",
        "  return [bond.GetBondType(),\n",
        "          bond.GetStereo()]"
      ],
      "metadata": {
        "id": "9ZjFm-hhfrKa"
      },
      "execution_count": 14,
      "outputs": []
    },
    {
      "cell_type": "code",
      "source": [
        "node_features = [atom_feature(a) for a in mol.GetAtoms()]\n",
        "edge_features = [bond_feature(b) for b in mol.GetBonds()]"
      ],
      "metadata": {
        "id": "6to7lweeft-g"
      },
      "execution_count": 15,
      "outputs": []
    },
    {
      "cell_type": "code",
      "source": [
        "g = Data(edge_index=torch.LongTensor(edge_index),\n",
        "         x=torch.FloatTensor(node_features),\n",
        "         edge_attr=torch.FloatTensor(edge_features),\n",
        "         smiles=smi,\n",
        "         mol=mol)"
      ],
      "metadata": {
        "id": "QhLrZE2Cf4Cs"
      },
      "execution_count": 16,
      "outputs": []
    },
    {
      "cell_type": "code",
      "source": [
        "g"
      ],
      "metadata": {
        "colab": {
          "base_uri": "https://localhost:8080/"
        },
        "id": "Tv-3d9VdgH1o",
        "outputId": "1dbd5a46-a8c7-4801-87f5-af23cb2dd8bc"
      },
      "execution_count": 17,
      "outputs": [
        {
          "output_type": "execute_result",
          "data": {
            "text/plain": [
              "Data(x=[27, 4], edge_index=[2, 58], edge_attr=[29, 2], smiles='C(c1ccccc1)(C=CC1CCCCC1)C=CCCC=CC1CCCCC1', mol=<rdkit.Chem.rdchem.Mol object at 0x7a5900505b60>)"
            ]
          },
          "metadata": {},
          "execution_count": 17
        }
      ]
    },
    {
      "cell_type": "code",
      "source": [
        "plot_mol_graph(g)"
      ],
      "metadata": {
        "colab": {
          "base_uri": "https://localhost:8080/",
          "height": 291
        },
        "id": "1H-15y8ngQGz",
        "outputId": "1414388b-26f7-4e61-a31d-96e41f5cce2f"
      },
      "execution_count": 18,
      "outputs": [
        {
          "output_type": "display_data",
          "data": {
            "text/plain": [
              "<Figure size 800x400 with 2 Axes>"
            ],
            "image/png": "[encoded data removed]"
          },
          "metadata": {}
        }
      ]
    },
    {
      "cell_type": "code",
      "source": [
        "def smi_to_pyg(smi, y):\n",
        "    mol = Chem.MolFromSmiles(smi)\n",
        "    if mol is None:\n",
        "      return None\n",
        "\n",
        "    id_pairs = ((b.GetBeginAtomIdx(), b.GetEndAtomIdx()) for b in mol.GetBonds())\n",
        "    atom_pairs = [z for (i, j) in id_pairs for z in ((i, j), (j, i))]\n",
        "\n",
        "    bonds = (mol.GetBondBetweenAtoms(i, j) for (i, j) in atom_pairs)\n",
        "    atom_features = [atom_feature(a) for a in mol.GetAtoms()]\n",
        "    bond_features = [bond_feature(b) for b in bonds]\n",
        "\n",
        "    return Data(edge_index=torch.LongTensor(list(zip(*atom_pairs))),\n",
        "                x=torch.FloatTensor(atom_features),\n",
        "                edge_attr=torch.FloatTensor(bond_features),\n",
        "                y=torch.LongTensor([y]),\n",
        "                mol=mol,\n",
        "                smiles=smi)"
      ],
      "metadata": {
        "id": "RuvR_EJxgS7k"
      },
      "execution_count": 19,
      "outputs": []
    },
    {
      "cell_type": "code",
      "source": [
        "class MyDataset(Dataset):\n",
        "  def __init__(self, smiles, response):\n",
        "    mols = [smi_to_pyg(smi, y) for smi, y in \\\n",
        "            tqdm(zip(smiles, response), total=len(smiles))]\n",
        "    self.X = [m for m in mols if m]\n",
        "\n",
        "  def __getitem__(self, idx):\n",
        "    return self.X[idx]\n",
        "\n",
        "  def __len__(self):\n",
        "    return len(self.X)"
      ],
      "metadata": {
        "id": "v6Lv34ycgdpa"
      },
      "execution_count": 20,
      "outputs": []
    },
    {
      "cell_type": "code",
      "source": [
        "base_dataset = MyDataset(df['smiles'], df['VI'])"
      ],
      "metadata": {
        "colab": {
          "base_uri": "https://localhost:8080/",
          "referenced_widgets": [
            "a73a90e206044d8f91b9b600f7b33593",
            "4d5569ccc09a495f8b3389026a9cfc50",
            "f5150df9567542c885f690a8257128f9",
            "46b8f375eea743b7a2aa6cdf37879d9f",
            "0108d26145404dc3a44addad706becd4",
            "0d5abd055b2049a191cb78717ad9e834",
            "ede5c065eb70426e8695c31a538f09ef",
            "34f49db2390b4820adea2a43c98f82c9",
            "f68ff8dda95a4b3f810918c326d53d15",
            "148de8f277de43ee9a6b9229c4b1c92b",
            "3c5b2236b1be41d8bc9135b0e18644d1"
          ],
          "height": 49
        },
        "id": "JAkSRLgBgfaL",
        "outputId": "54235c1d-6dc9-4fe3-ab33-36c791960723"
      },
      "execution_count": 21,
      "outputs": [
        {
          "output_type": "display_data",
          "data": {
            "text/plain": [
              "  0%|          | 0/47534 [00:00<?, ?it/s]"
            ],
            "application/vnd.jupyter.widget-view+json": {
              "version_major": 2,
              "version_minor": 0,
              "model_id": "a73a90e206044d8f91b9b600f7b33593"
            }
          },
          "metadata": {}
        }
      ]
    },
    {
      "cell_type": "code",
      "source": [
        "g = base_dataset[820]\n",
        "plot_mol_graph(g, figsize=(6, 3), edge_label=True)"
      ],
      "metadata": {
        "colab": {
          "base_uri": "https://localhost:8080/",
          "height": 94
        },
        "id": "vfG7Aa2rgiEN",
        "outputId": "6fe841ae-cbb3-458d-de9f-7bda22e316ed"
      },
      "execution_count": 22,
      "outputs": [
        {
          "output_type": "display_data",
          "data": {
            "text/plain": [
              "<Figure size 600x300 with 2 Axes>"
            ],
            "image/png": "[encoded data removed]"
          },
          "metadata": {}
        }
      ]
    },
    {
      "cell_type": "code",
      "source": [
        "g"
      ],
      "metadata": {
        "colab": {
          "base_uri": "https://localhost:8080/"
        },
        "id": "UJa-cYoBgqXC",
        "outputId": "72e00cac-3e43-4ba6-bdb5-7fe489a59b84"
      },
      "execution_count": 23,
      "outputs": [
        {
          "output_type": "execute_result",
          "data": {
            "text/plain": [
              "Data(x=[27, 4], edge_index=[2, 54], edge_attr=[54, 2], y=[1], mol=<rdkit.Chem.rdchem.Mol object at 0x7a58f7907d80>, smiles='CC=CCC(=O)OCOCOC(=O)OCOCC=CCCc1ccccc1')"
            ]
          },
          "metadata": {},
          "execution_count": 23
        }
      ]
    },
    {
      "cell_type": "code",
      "source": [
        "g.y"
      ],
      "metadata": {
        "id": "HxOWuE7Pg6Qx",
        "colab": {
          "base_uri": "https://localhost:8080/"
        },
        "outputId": "77fdb616-0774-4a2d-fbd5-6db92d5d64eb"
      },
      "execution_count": 24,
      "outputs": [
        {
          "output_type": "execute_result",
          "data": {
            "text/plain": [
              "tensor([46])"
            ]
          },
          "metadata": {},
          "execution_count": 24
        }
      ]
    },
    {
      "cell_type": "markdown",
      "source": [
        "# train/val/test split"
      ],
      "metadata": {
        "id": "sqztOJnqgnBB"
      }
    },
    {
      "cell_type": "code",
      "source": [
        "N = len(base_dataset)\n",
        "M = N // 10\n",
        "\n",
        "indices = np.random.permutation(range(N))\n",
        "\n",
        "idx = {'train': indices[:8*M],\n",
        "      'valid': indices[8*M:9*M],\n",
        "      'test': indices[9*M:]}\n",
        "\n",
        "modes = ['train', 'valid', 'test']"
      ],
      "metadata": {
        "id": "g6VegArxg_DV"
      },
      "execution_count": 25,
      "outputs": []
    },
    {
      "cell_type": "code",
      "source": [
        "dataset = {m: Subset(base_dataset, idx[m]) for m in modes}\n",
        "\n",
        "\n",
        "loader = {m: DataLoader(dataset[m], batch_size=64, shuffle=True) if m == 'train' \\\n",
        "          else DataLoader(dataset[m], batch_size=64) for m in modes}"
      ],
      "metadata": {
        "id": "fPgtFrPEhBip"
      },
      "execution_count": 26,
      "outputs": []
    },
    {
      "cell_type": "markdown",
      "source": [
        "# gin & gatv2 with edge_attr"
      ],
      "metadata": {
        "id": "ssel6j5EijJZ"
      }
    },
    {
      "cell_type": "code",
      "source": [
        "from torch_geometric.nn import GINEConv, GATv2Conv, global_add_pool"
      ],
      "metadata": {
        "id": "Z-kbDnLmijqi"
      },
      "execution_count": 27,
      "outputs": []
    },
    {
      "cell_type": "code",
      "source": [
        "def MyConv(node_dim, edge_dim, arch='GAT'):\n",
        "  conv = None\n",
        "  if arch == 'GIN':\n",
        "    h = nn.Sequential(nn.Linear(node_dim, node_dim, bias=True))\n",
        "    conv = GINEConv(h, edge_dim=edge_dim)\n",
        "  elif arch == 'GAT':\n",
        "    conv = GATv2Conv(node_dim, node_dim, edge_dim=edge_dim)\n",
        "  return conv"
      ],
      "metadata": {
        "id": "Fb8UX7t-ilou"
      },
      "execution_count": 28,
      "outputs": []
    },
    {
      "cell_type": "code",
      "source": [
        "class MyGNN(nn.Module):\n",
        "  def __init__(self, node_dim, edge_dim, arch, num_layers=3):\n",
        "    super().__init__()\n",
        "    layers = [MyConv(node_dim, edge_dim, arch) for _ in range(num_layers)]\n",
        "    self.convs = nn.ModuleList(layers)\n",
        "\n",
        "  def forward(self, x, edge_index, edge_attr):\n",
        "    for conv in self.convs:\n",
        "      x = conv(x, edge_index, edge_attr)\n",
        "      x = F.leaky_relu(x)\n",
        "    return x"
      ],
      "metadata": {
        "id": "RJLkx0swiwEg"
      },
      "execution_count": 29,
      "outputs": []
    },
    {
      "cell_type": "code",
      "source": [
        "[int(x) for x in Chem.rdchem.BondType.names.values()]"
      ],
      "metadata": {
        "colab": {
          "base_uri": "https://localhost:8080/"
        },
        "id": "9Dq0tALLi2nr",
        "outputId": "a3df7534-b67d-4c85-b45c-33438de89a48"
      },
      "execution_count": 30,
      "outputs": [
        {
          "output_type": "execute_result",
          "data": {
            "text/plain": [
              "[0, 1, 2, 3, 4, 5, 6, 7, 8, 9, 10, 11, 12, 13, 14, 15, 16, 17, 18, 19, 20, 21]"
            ]
          },
          "metadata": {},
          "execution_count": 30
        }
      ]
    },
    {
      "cell_type": "code",
      "source": [
        "ptable = Chem.GetPeriodicTable()\n",
        "for i in range(200):\n",
        "  try:\n",
        "    s = ptable.GetElementSymbol(i)\n",
        "  except:\n",
        "    print(f'max id {i-1} for {s}')\n",
        "    break\n",
        "ptable.GetElementSymbol(i-1)"
      ],
      "metadata": {
        "colab": {
          "base_uri": "https://localhost:8080/",
          "height": 218
        },
        "id": "CCyjdtiEi2_0",
        "outputId": "53c74af0-e860-4679-c55b-97c1e29c33e4"
      },
      "execution_count": 31,
      "outputs": [
        {
          "output_type": "stream",
          "name": "stdout",
          "text": [
            "max id 118 for Og\n"
          ]
        },
        {
          "output_type": "stream",
          "name": "stderr",
          "text": [
            "[16:12:17] \n",
            "\n",
            "****\n",
            "Pre-condition Violation\n",
            "Atomic number not found\n",
            "Violation occurred on line 99 in file /project/build/temp.linux-x86_64-cpython-310/rdkit/Code/GraphMol/PeriodicTable.h\n",
            "Failed Expression: atomicNumber < byanum.size()\n",
            "****\n",
            "\n"
          ]
        },
        {
          "output_type": "execute_result",
          "data": {
            "text/plain": [
              "'Og'"
            ],
            "application/vnd.google.colaboratory.intrinsic+json": {
              "type": "string"
            }
          },
          "metadata": {},
          "execution_count": 31
        }
      ]
    },
    {
      "cell_type": "code",
      "source": [
        "class MyFinalNetwork(nn.Module):\n",
        "  def __init__(self, node_dim, edge_dim, arch, num_layers=3,\n",
        "               encoding='onehot'):\n",
        "    super().__init__()\n",
        "\n",
        "    self.encoding = encoding\n",
        "    if encoding != 'onehot':\n",
        "      self.atom_encoder = nn.Embedding(num_embeddings=118+1, embedding_dim=64)\n",
        "      self.bond_encoder = nn.Embedding(num_embeddings=21+1, embedding_dim=8)\n",
        "      node_dim = (node_dim-1) + 64\n",
        "      edge_dim = (edge_dim-1) + 8\n",
        "    else:\n",
        "      node_dim = (node_dim-1) + 118+1\n",
        "      edge_dim = (edge_dim-1) + 21+1\n",
        "\n",
        "    self.gnn = MyGNN(node_dim, edge_dim, arch, num_layers=num_layers)\n",
        "    embed_dim = int(node_dim / 2)\n",
        "    self.head = nn.Sequential(\n",
        "        nn.BatchNorm1d(node_dim),\n",
        "        nn.Dropout(p=0.5),\n",
        "        nn.Linear(node_dim, embed_dim, bias=True),\n",
        "        nn.ReLU(),\n",
        "        nn.BatchNorm1d(embed_dim),\n",
        "        nn.Dropout(p=0.5),\n",
        "        nn.Linear(embed_dim, 1)\n",
        "    )\n",
        "  def forward(self, x, edge_index, edge_attr, batch):\n",
        "    if self.encoding == 'onehot':\n",
        "      x0 = F.one_hot(x[:, 0].to(torch.int64), num_classes=118+1)\n",
        "      edge_attr0 = F.one_hot(edge_attr[:, 0].to(torch.int64), num_classes=21+1)\n",
        "    else:\n",
        "      x0 = self.atom_encoder(x[:, 0].int())\n",
        "      edge_attr0 = self.bond_encoder(edge_attr[:, 0].int())\n",
        "\n",
        "    x = torch.cat([x0, x[:, 1:]], dim=1)\n",
        "    edge_attr = torch.cat([edge_attr0, edge_attr[:, 1:]], dim=1)\n",
        "\n",
        "    node_out = self.gnn(x, edge_index, edge_attr)\n",
        "    graph_out = global_add_pool(node_out, batch)\n",
        "    return self.head(graph_out)"
      ],
      "metadata": {
        "id": "reAjD8jIi5cm"
      },
      "execution_count": 32,
      "outputs": []
    },
    {
      "cell_type": "code",
      "source": [
        "node_dim = base_dataset[0].num_node_features\n",
        "edge_dim = base_dataset[0].num_edge_features\n",
        "node_dim, edge_dim"
      ],
      "metadata": {
        "id": "CgA79M0ty3Td",
        "outputId": "53ca5a55-96a5-4b1b-e917-b4c97525e196",
        "colab": {
          "base_uri": "https://localhost:8080/"
        }
      },
      "execution_count": 33,
      "outputs": [
        {
          "output_type": "execute_result",
          "data": {
            "text/plain": [
              "(4, 2)"
            ]
          },
          "metadata": {},
          "execution_count": 33
        }
      ]
    },
    {
      "cell_type": "code",
      "source": [
        "model = MyFinalNetwork(node_dim, edge_dim, arch='GAT', num_layers=3, encoding='embedding')\n",
        "device = torch.device('cuda' if torch.cuda.is_available() else 'cpu')\n",
        "model = model.to(device)\n",
        "device"
      ],
      "metadata": {
        "id": "JJ0x2IUUjOOA",
        "outputId": "d342c965-378b-49d3-b118-182a1fbab050",
        "colab": {
          "base_uri": "https://localhost:8080/"
        }
      },
      "execution_count": 38,
      "outputs": [
        {
          "output_type": "execute_result",
          "data": {
            "text/plain": [
              "device(type='cuda')"
            ]
          },
          "metadata": {},
          "execution_count": 38
        }
      ]
    },
    {
      "cell_type": "code",
      "source": [
        "train_epochs = 100\n",
        "optimizer = torch.optim.AdamW(model.parameters(), lr=1e-5)\n",
        "scheduler = torch.optim.lr_scheduler.OneCycleLR(optimizer, max_lr=1e-2, \\\n",
        "                                                steps_per_epoch=len(loader['train']),\n",
        "                                                epochs=train_epochs)\n",
        "criterion = nn.L1Loss()"
      ],
      "metadata": {
        "id": "iBOi98otjTTV"
      },
      "execution_count": 39,
      "outputs": []
    },
    {
      "cell_type": "markdown",
      "source": [
        "## Pytorch Traning Pipeline\n",
        "\n",
        "In PyTorch, for every mini-batch during the training phase, we typically want to explicitly set the gradients to zero before starting to do backpropagation (i.e., updating the Weights and biases) because PyTorch accumulates the gradients on subsequent backward passes. This accumulating behavior is convenient while training RNNs or when we want to compute the gradient of the loss summed over multiple mini-batches. So, the default action has been set to accumulate (i.e. sum) the gradients on every loss.backward() call.\n",
        "\n",
        "Because of this, when you start your training loop, ideally you should zero out the gradients so that you do the parameter update correctly. Otherwise, the gradient would be a combination of the old gradient, which you have already used to update your model parameters and the newly-computed gradient. It would therefore point in some other direction than the intended direction towards the minimum (or maximum, in case of maximization objectives)."
      ],
      "metadata": {
        "id": "BvHFlm3HGzdv"
      }
    },
    {
      "cell_type": "code",
      "source": [
        "def train(loader):\n",
        "    total_loss = total_examples = 0\n",
        "    for data in loader:\n",
        "\n",
        "        #Moving data to inference device in preparation for inference\n",
        "        data = data.to(device)\n",
        "\n",
        "        #Sets the gradients of all optimized torch.Tensors to zero to prepare\n",
        "        #For next training iteration\n",
        "        optimizer.zero_grad()\n",
        "\n",
        "        #Perform transform\n",
        "        out = model(data.x, data.edge_index, data.edge_attr, data.batch)\n",
        "\n",
        "        #Calculate loss based on predefined Criterion (in this case MAE)\n",
        "        loss = criterion(out, data.y.unsqueeze(1).float())\n",
        "\n",
        "        #Perform backpropagation\n",
        "        loss.backward()\n",
        "\n",
        "        #Perfom optimiser update\n",
        "        optimizer.step()\n",
        "\n",
        "        #Changes the learning rate depending on the learning rate pre-condition\n",
        "        scheduler.step()\n",
        "\n",
        "\n",
        "        total_loss += loss.item()\n",
        "\n",
        "        #Calculating loss per epoch or per batch (?)\n",
        "        total_examples += data.num_graphs\n",
        "    return total_loss / total_examples\n",
        "\n",
        "@torch.no_grad()\n",
        "def test(loader):\n",
        "    total_loss = total_examples = 0\n",
        "    for data in loader:\n",
        "        data = data.to(device)\n",
        "        out = model(data.x, data.edge_index, data.edge_attr, data.batch)\n",
        "        loss = criterion(out, data.y.unsqueeze(1).float())\n",
        "        total_loss += loss.item()\n",
        "        total_examples += data.num_graphs\n",
        "    return total_loss / total_examples\n",
        "\n",
        "@torch.no_grad()\n",
        "def predict(loader):\n",
        "    y_pred = []\n",
        "    y_true = []\n",
        "    for data in loader:\n",
        "        data = data.to(device)\n",
        "        out = model(data.x, data.edge_index, data.edge_attr, data.batch)\n",
        "        _, predicted = torch.max(out.data, 1)\n",
        "        y_true.extend(data.y.cpu().numpy())\n",
        "        y_pred.extend(predicted.cpu().numpy())\n",
        "    return y_true, y_pred"
      ],
      "metadata": {
        "id": "ca6r1mlazDzI"
      },
      "execution_count": 40,
      "outputs": []
    },
    {
      "cell_type": "code",
      "source": [
        "best_val = float(\"inf\")\n",
        "\n",
        "learn_curve = defaultdict(list)\n",
        "func = {'train': train, 'valid': test, 'test': test}\n",
        "\n",
        "for epoch in tqdm(range(1, train_epochs+1)):\n",
        "    loss = {}\n",
        "    for mode in ['train', 'valid', 'test']:\n",
        "      loss[mode] = func[mode](loader[mode])\n",
        "      learn_curve[mode].append(loss[mode])\n",
        "    if loss['valid'] < best_val:\n",
        "      torch.save(model.state_dict(), 'best_val.model')\n",
        "    print(f'Epoch: {epoch:03d} Loss: ' + ' '.join(\n",
        "        ['{} {:.6f}'.format(m, loss[m]) for m in modes]\n",
        "      ))"
      ],
      "metadata": {
        "colab": {
          "base_uri": "https://localhost:8080/",
          "height": 1000,
          "referenced_widgets": [
            "a420f0b6722b46e18fcbd8afb2d5c6a4",
            "91e8af52a6964647b7bff464aaeac01c",
            "af60b8b7dc824455a8763a1e515c2268",
            "58d4a20e5b3e4a61a6414d19bcadc80c",
            "423737eda860486387ddbca4b5f9a0a6",
            "b3b5a670e5824b6187c6176cf839cc98",
            "9ba5369d934648a2be78d88c90835ce6",
            "a706f12171b4462ab7538c46ea8f12d0",
            "50b9306d097f4b60a2faa0743975bc95",
            "3bf1f298b7af47d3801dd1bb4737198c",
            "d1456975e42246e3b7051d763cf7bddb"
          ]
        },
        "id": "dL2qOSTsjVsh",
        "outputId": "0a6f916f-2d1f-49b0-a311-684a51673922"
      },
      "execution_count": 41,
      "outputs": [
        {
          "output_type": "display_data",
          "data": {
            "text/plain": [
              "  0%|          | 0/100 [00:00<?, ?it/s]"
            ],
            "application/vnd.jupyter.widget-view+json": {
              "version_major": 2,
              "version_minor": 0,
              "model_id": "a420f0b6722b46e18fcbd8afb2d5c6a4"
            }
          },
          "metadata": {}
        },
        {
          "output_type": "stream",
          "name": "stdout",
          "text": [
            "Epoch: 001 Loss: train 1.970938 valid 1.957572 test 1.942370\n",
            "Epoch: 002 Loss: train 1.847092 valid 1.736347 test 1.719969\n",
            "Epoch: 003 Loss: train 1.492548 valid 1.223861 test 1.208784\n",
            "Epoch: 004 Loss: train 0.815478 valid 0.466266 test 0.459125\n",
            "Epoch: 005 Loss: train 0.394145 valid 0.386680 test 0.382117\n",
            "Epoch: 006 Loss: train 0.372771 valid 0.371220 test 0.370672\n",
            "Epoch: 007 Loss: train 0.370503 valid 0.373870 test 0.370628\n",
            "Epoch: 008 Loss: train 0.367895 valid 0.370615 test 0.367742\n",
            "Epoch: 009 Loss: train 0.364838 valid 0.373634 test 0.371379\n",
            "Epoch: 010 Loss: train 0.362847 valid 0.360340 test 0.369916\n",
            "Epoch: 011 Loss: train 0.361621 valid 0.367682 test 0.361165\n",
            "Epoch: 012 Loss: train 0.360249 valid 0.359494 test 0.362041\n",
            "Epoch: 013 Loss: train 0.360981 valid 0.363382 test 0.357337\n",
            "Epoch: 014 Loss: train 0.357040 valid 0.351090 test 0.353630\n",
            "Epoch: 015 Loss: train 0.354370 valid 0.357063 test 0.364046\n",
            "Epoch: 016 Loss: train 0.353146 valid 0.356323 test 0.350997\n",
            "Epoch: 017 Loss: train 0.349242 valid 0.353397 test 0.345737\n",
            "Epoch: 018 Loss: train 0.350078 valid 0.354831 test 0.355428\n",
            "Epoch: 019 Loss: train 0.345609 valid 0.349652 test 0.347511\n",
            "Epoch: 020 Loss: train 0.345611 valid 0.351864 test 0.351382\n",
            "Epoch: 021 Loss: train 0.346386 valid 0.335940 test 0.338083\n",
            "Epoch: 022 Loss: train 0.337079 valid 0.334802 test 0.336661\n",
            "Epoch: 023 Loss: train 0.332450 valid 0.334091 test 0.326993\n",
            "Epoch: 024 Loss: train 0.329842 valid 0.335824 test 0.328642\n",
            "Epoch: 025 Loss: train 0.332612 valid 0.335973 test 0.328224\n",
            "Epoch: 026 Loss: train 0.330011 valid 0.332812 test 0.335328\n",
            "Epoch: 027 Loss: train 0.325701 valid 0.320492 test 0.330200\n",
            "Epoch: 028 Loss: train 0.320902 valid 0.319647 test 0.331323\n",
            "Epoch: 029 Loss: train 0.322765 valid 0.322674 test 0.322195\n",
            "Epoch: 030 Loss: train 0.319310 valid 0.324496 test 0.316774\n",
            "Epoch: 031 Loss: train 0.317367 valid 0.321285 test 0.321158\n",
            "Epoch: 032 Loss: train 0.315359 valid 0.321496 test 0.316959\n",
            "Epoch: 033 Loss: train 0.314668 valid 0.320911 test 0.319608\n",
            "Epoch: 034 Loss: train 0.314901 valid 0.321773 test 0.317098\n",
            "Epoch: 035 Loss: train 0.313924 valid 0.312725 test 0.316353\n",
            "Epoch: 036 Loss: train 0.313710 valid 0.312992 test 0.308343\n",
            "Epoch: 037 Loss: train 0.308976 valid 0.312557 test 0.312218\n",
            "Epoch: 038 Loss: train 0.310790 valid 0.308919 test 0.311340\n",
            "Epoch: 039 Loss: train 0.309938 valid 0.319238 test 0.307178\n",
            "Epoch: 040 Loss: train 0.308379 valid 0.311422 test 0.310981\n",
            "Epoch: 041 Loss: train 0.308181 valid 0.309932 test 0.307063\n",
            "Epoch: 042 Loss: train 0.305226 valid 0.313814 test 0.315693\n",
            "Epoch: 043 Loss: train 0.305390 valid 0.309984 test 0.308235\n",
            "Epoch: 044 Loss: train 0.305579 valid 0.306309 test 0.306961\n",
            "Epoch: 045 Loss: train 0.312141 valid 0.307185 test 0.304872\n",
            "Epoch: 046 Loss: train 0.303495 valid 0.304945 test 0.306860\n",
            "Epoch: 047 Loss: train 0.304506 valid 0.304984 test 0.309519\n",
            "Epoch: 048 Loss: train 0.302314 valid 0.303971 test 0.303962\n",
            "Epoch: 049 Loss: train 0.304594 valid 0.298200 test 0.303967\n",
            "Epoch: 050 Loss: train 0.303680 valid 0.317525 test 0.317020\n",
            "Epoch: 051 Loss: train 0.309118 valid 0.317412 test 0.318255\n",
            "Epoch: 052 Loss: train 0.305034 valid 0.299678 test 0.303173\n",
            "Epoch: 053 Loss: train 0.303156 valid 0.304024 test 0.304306\n",
            "Epoch: 054 Loss: train 0.302374 valid 0.302059 test 0.304319\n",
            "Epoch: 055 Loss: train 0.301033 valid 0.302068 test 0.301214\n",
            "Epoch: 056 Loss: train 0.300518 valid 0.300203 test 0.302474\n",
            "Epoch: 057 Loss: train 0.302212 valid 0.305179 test 0.301479\n",
            "Epoch: 058 Loss: train 0.301185 valid 0.306216 test 0.298157\n",
            "Epoch: 059 Loss: train 0.298774 valid 0.300351 test 0.305560\n",
            "Epoch: 060 Loss: train 0.301401 valid 0.302681 test 0.297723\n",
            "Epoch: 061 Loss: train 0.301361 valid 0.300914 test 0.304867\n",
            "Epoch: 062 Loss: train 0.300044 valid 0.303318 test 0.300113\n",
            "Epoch: 063 Loss: train 0.298927 valid 0.302849 test 0.302232\n",
            "Epoch: 064 Loss: train 0.299512 valid 0.297710 test 0.298826\n",
            "Epoch: 065 Loss: train 0.297523 valid 0.301899 test 0.302952\n",
            "Epoch: 066 Loss: train 0.297652 valid 0.301192 test 0.301877\n",
            "Epoch: 067 Loss: train 0.298012 valid 0.303531 test 0.302014\n",
            "Epoch: 068 Loss: train 0.297657 valid 0.297154 test 0.301278\n",
            "Epoch: 069 Loss: train 0.296105 valid 0.301059 test 0.297918\n",
            "Epoch: 070 Loss: train 0.297723 valid 0.295032 test 0.299349\n",
            "Epoch: 071 Loss: train 0.298129 valid 0.302072 test 0.304882\n",
            "Epoch: 072 Loss: train 0.297102 valid 0.296263 test 0.298668\n",
            "Epoch: 073 Loss: train 0.295091 valid 0.299892 test 0.297487\n",
            "Epoch: 074 Loss: train 0.298940 valid 0.297697 test 0.299362\n",
            "Epoch: 075 Loss: train 0.297629 valid 0.301187 test 0.295944\n",
            "Epoch: 076 Loss: train 0.296958 valid 0.299015 test 0.297174\n",
            "Epoch: 077 Loss: train 0.296039 valid 0.298587 test 0.294529\n",
            "Epoch: 078 Loss: train 0.295983 valid 0.293925 test 0.306535\n",
            "Epoch: 079 Loss: train 0.297438 valid 0.296254 test 0.303253\n",
            "Epoch: 080 Loss: train 0.295118 valid 0.299666 test 0.295563\n",
            "Epoch: 081 Loss: train 0.296535 valid 0.298832 test 0.297891\n",
            "Epoch: 082 Loss: train 0.295215 valid 0.294577 test 0.295618\n",
            "Epoch: 083 Loss: train 0.296441 valid 0.297943 test 0.298290\n",
            "Epoch: 084 Loss: train 0.295728 valid 0.298827 test 0.299493\n",
            "Epoch: 085 Loss: train 0.298160 valid 0.300349 test 0.295456\n",
            "Epoch: 086 Loss: train 0.296280 valid 0.294198 test 0.298167\n",
            "Epoch: 087 Loss: train 0.296873 valid 0.296466 test 0.295663\n",
            "Epoch: 088 Loss: train 0.294084 valid 0.297304 test 0.300663\n",
            "Epoch: 089 Loss: train 0.295249 valid 0.297058 test 0.296020\n",
            "Epoch: 090 Loss: train 0.294908 valid 0.299196 test 0.301335\n",
            "Epoch: 091 Loss: train 0.295191 valid 0.302361 test 0.299087\n",
            "Epoch: 092 Loss: train 0.293228 valid 0.299007 test 0.305560\n",
            "Epoch: 093 Loss: train 0.293921 valid 0.298092 test 0.300063\n",
            "Epoch: 094 Loss: train 0.296989 valid 0.297684 test 0.295600\n",
            "Epoch: 095 Loss: train 0.294211 valid 0.297276 test 0.295125\n",
            "Epoch: 096 Loss: train 0.295125 valid 0.300162 test 0.292064\n",
            "Epoch: 097 Loss: train 0.296047 valid 0.296563 test 0.297497\n",
            "Epoch: 098 Loss: train 0.295652 valid 0.297558 test 0.300319\n",
            "Epoch: 099 Loss: train 0.295004 valid 0.300527 test 0.295622\n",
            "Epoch: 100 Loss: train 0.294608 valid 0.298237 test 0.296481\n"
          ]
        }
      ]
    },
    {
      "cell_type": "markdown",
      "source": [
        "## Plotting the Loss Curves"
      ],
      "metadata": {
        "id": "4aERy909AVAj"
      }
    },
    {
      "cell_type": "code",
      "source": [
        "fig, ax = plt.subplots()\n",
        "for m in modes:\n",
        "  ax.plot(learn_curve[m], label=m)\n",
        "ax.legend()\n",
        "ax.set_xlabel('epochs')\n",
        "ax.set_ylabel('loss')\n",
        "ax.set_yscale('log')\n",
        "plt.show()"
      ],
      "metadata": {
        "id": "30CzQc9PjWLU",
        "colab": {
          "base_uri": "https://localhost:8080/",
          "height": 449
        },
        "outputId": "afa203dc-e77c-4373-d0b9-493a1d35d9da"
      },
      "execution_count": 42,
      "outputs": [
        {
          "output_type": "display_data",
          "data": {
            "text/plain": [
              "<Figure size 640x480 with 1 Axes>"
            ],
            "image/png": "[encoded data removed]"
          },
          "metadata": {}
        }
      ]
    },
    {
      "cell_type": "code",
      "source": [
        "@torch.no_grad()\n",
        "def predict(loader):\n",
        "    y_pred = []\n",
        "    y_true = []\n",
        "    for data in loader:\n",
        "        data = data.to(device)\n",
        "        out = model(data.x, data.edge_index, data.edge_attr, data.batch)\n",
        "        predicted = out\n",
        "        y_true.extend(data.y.cpu().numpy())\n",
        "        y_pred.extend(predicted.cpu().numpy())\n",
        "    return y_true, y_pred"
      ],
      "metadata": {
        "id": "lefY3cWUhKWY"
      },
      "execution_count": 43,
      "outputs": []
    },
    {
      "cell_type": "code",
      "source": [
        "model.load_state_dict(torch.load('best_val.model'))\n",
        "from sklearn.metrics import mean_absolute_error, mean_squared_error, mean_absolute_percentage_error\n",
        "\n",
        "y_true, y_pred = predict(loader[m])\n",
        "\n",
        "for m in ['valid', 'test']:\n",
        "  y_true, y_pred = predict(loader[m])\n",
        "  for metric in [mean_absolute_error, mean_squared_error, mean_absolute_percentage_error]:\n",
        "    print(\"{} {} {:.3f}\".format(m, metric.__name__, metric(y_true, y_pred)))"
      ],
      "metadata": {
        "id": "kGkAa7anjX6S",
        "colab": {
          "base_uri": "https://localhost:8080/"
        },
        "outputId": "7e49376c-f768-4405-c62e-2c30a811a601"
      },
      "execution_count": 47,
      "outputs": [
        {
          "output_type": "stream",
          "name": "stdout",
          "text": [
            "valid mean_absolute_error 18.792\n",
            "valid mean_squared_error 558.231\n",
            "valid mean_absolute_percentage_error 0.189\n",
            "test mean_absolute_error 18.753\n",
            "test mean_squared_error 556.375\n",
            "test mean_absolute_percentage_error 0.207\n"
          ]
        }
      ]
    },
    {
      "cell_type": "markdown",
      "source": [
        "https://github.com/atomistic-machine-learning/schnetpack"
      ],
      "metadata": {
        "id": "SK8x6kcvJqf1"
      }
    }
  ]
}